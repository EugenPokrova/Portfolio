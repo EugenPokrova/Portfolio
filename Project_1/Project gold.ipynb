{
 "cells": [
  {
   "cell_type": "markdown",
   "metadata": {
    "toc": true
   },
   "source": [
    "<h1>Содержание<span class=\"tocSkip\"></span></h1>\n",
    "<div class=\"toc\"><ul class=\"toc-item\"><li><span><a href=\"#Подготовка-данных\" data-toc-modified-id=\"Подготовка-данных-1\"><span class=\"toc-item-num\">1&nbsp;&nbsp;</span>Подготовка данных</a></span><ul class=\"toc-item\"><li><span><a href=\"#Проверка-наличия-дубликатов\" data-toc-modified-id=\"Проверка-наличия-дубликатов-1.1\"><span class=\"toc-item-num\">1.1&nbsp;&nbsp;</span>Проверка наличия дубликатов</a></span></li><li><span><a href=\"#Работа-с-пропусками\" data-toc-modified-id=\"Работа-с-пропусками-1.2\"><span class=\"toc-item-num\">1.2&nbsp;&nbsp;</span>Работа с пропусками</a></span></li></ul></li><li><span><a href=\"#Анализ-данных\" data-toc-modified-id=\"Анализ-данных-2\"><span class=\"toc-item-num\">2&nbsp;&nbsp;</span>Анализ данных</a></span><ul class=\"toc-item\"><li><span><a href=\"#Концентрация-сторонних-металлов-на-разных-этапах.\" data-toc-modified-id=\"Концентрация-сторонних-металлов-на-разных-этапах.-2.1\"><span class=\"toc-item-num\">2.1&nbsp;&nbsp;</span>Концентрация сторонних металлов на разных этапах.</a></span></li><li><span><a href=\"#Проверка-размера-гранул-в-обучающей-и-тестовой-выборках\" data-toc-modified-id=\"Проверка-размера-гранул-в-обучающей-и-тестовой-выборках-2.2\"><span class=\"toc-item-num\">2.2&nbsp;&nbsp;</span>Проверка размера гранул в обучающей и тестовой выборках</a></span></li><li><span><a href=\"#Суммарные-концентрации-веществ-на-разных-стадиях-очистки\" data-toc-modified-id=\"Суммарные-концентрации-веществ-на-разных-стадиях-очистки-2.3\"><span class=\"toc-item-num\">2.3&nbsp;&nbsp;</span>Суммарные концентрации веществ на разных стадиях очистки</a></span></li><li><span><a href=\"#Разобьем-данные-на-выборки\" data-toc-modified-id=\"Разобьем-данные-на-выборки-2.4\"><span class=\"toc-item-num\">2.4&nbsp;&nbsp;</span>Разобьем данные на выборки</a></span></li></ul></li><li><span><a href=\"#Модель\" data-toc-modified-id=\"Модель-3\"><span class=\"toc-item-num\">3&nbsp;&nbsp;</span>Модель</a></span><ul class=\"toc-item\"><li><span><a href=\"#Функция-для-расчета-sMAPE\" data-toc-modified-id=\"Функция-для-расчета-sMAPE-3.1\"><span class=\"toc-item-num\">3.1&nbsp;&nbsp;</span>Функция для расчета sMAPE</a></span></li><li><span><a href=\"#Константаная-модель\" data-toc-modified-id=\"Константаная-модель-3.2\"><span class=\"toc-item-num\">3.2&nbsp;&nbsp;</span>Константаная модель</a></span></li><li><span><a href=\"#Линейная-регрессия\" data-toc-modified-id=\"Линейная-регрессия-3.3\"><span class=\"toc-item-num\">3.3&nbsp;&nbsp;</span>Линейная регрессия</a></span></li><li><span><a href=\"#Дерево-решений\" data-toc-modified-id=\"Дерево-решений-3.4\"><span class=\"toc-item-num\">3.4&nbsp;&nbsp;</span>Дерево решений</a></span></li><li><span><a href=\"#Случайный-Лес\" data-toc-modified-id=\"Случайный-Лес-3.5\"><span class=\"toc-item-num\">3.5&nbsp;&nbsp;</span>Случайный Лес</a></span></li><li><span><a href=\"#LGBM\" data-toc-modified-id=\"LGBM-3.6\"><span class=\"toc-item-num\">3.6&nbsp;&nbsp;</span>LGBM</a></span></li><li><span><a href=\"#Определение-лучшей-модели\" data-toc-modified-id=\"Определение-лучшей-модели-3.7\"><span class=\"toc-item-num\">3.7&nbsp;&nbsp;</span>Определение лучшей модели</a></span></li><li><span><a href=\"#Проверка-модели-на-тестовой-выборке\" data-toc-modified-id=\"Проверка-модели-на-тестовой-выборке-3.8\"><span class=\"toc-item-num\">3.8&nbsp;&nbsp;</span>Проверка модели на тестовой выборке</a></span></li></ul></li><li><span><a href=\"#Общий-вывод\" data-toc-modified-id=\"Общий-вывод-4\"><span class=\"toc-item-num\">4&nbsp;&nbsp;</span>Общий вывод</a></span></li></ul></div>"
   ]
  },
  {
   "cell_type": "markdown",
   "metadata": {},
   "source": [
    "# Восстановление золота из руды"
   ]
  },
  {
   "cell_type": "markdown",
   "metadata": {},
   "source": [
    "**Задача:**\n",
    "Подготовить прототип модели машинного обучения для «Цифры». Компания разрабатывает решения для эффективной работы промышленных предприятий.\n",
    "\n",
    "Модель должна предсказать коэффициент восстановления золота из золотосодержащей руды.\n",
    "\n",
    "Необходимо использовать данные с параметрами добычи и очистки. Разбивка на обучающую и тестовую выборки уже проведена. \n",
    "\n",
    "Целевым признаком является эффективность обогащения - rescovery\n",
    "\n",
    "$$ Recovery = \\dfrac{C*(F-T)}{F*(C-T)}*100\\% $$\n",
    "где\n",
    "\n",
    "$ C $ - доля золота в концентрате после флотации/очистки;\n",
    "\n",
    "$ F $ - доля золота в сырье/концентрате до флотации/очистки;\n",
    "\n",
    "$ T $ - доля золота в отвальных хвостах после флотации/очистки.\n",
    "\n",
    "Метрикой является sMAPE - Symmetric Mean Absolute Percentage Error\n",
    "\n",
    "Рассчитывается по формуле:\n",
    "\n",
    "$$ sMAPE = \\dfrac{1}{N}\\displaystyle\\sum_{i=1}^{N} \\dfrac{|y_i-\\widehat{y}_i|}{(|y_i|+|\\widehat{y}_i|)/2}*100\\% $$\n",
    "\n",
    "где\n",
    "\n",
    "$ y_i $ - Значение целевого признака для объекта с порядковым номером i в выборке, на которой измеряется качество.\n",
    "\n",
    "$ \\widehat{y}_i $ - Значение предсказания для объекта с порядковым номером i, например, в тестовой выборке.\n",
    "\n",
    "$ N $ - Количество объектов в выборке.\n",
    "\n",
    "Необходимо спрогнозировать сразу две величины: recovery после флотации и финальное recovery\n",
    "\n",
    "Итоговое sMAPE будет расчитываться так:\n",
    "\n",
    "$$ sMAPE_{итог} = 25\\% * sMAPE_{Rougher} + 75\\% * sMAPE_{Final} $$\n",
    "\n",
    "**Цель:**\n",
    "Оптимизировтаь производство, чтобы не запускать предприятие с убыточными характеристиками.\n",
    "\n",
    "**План:**\n",
    "\n",
    "1. Подготовка данных;\n",
    "2. Проанализировать данные;\n",
    "3. Построить несколько моделей;\n",
    "4. Выбрать и обучить лучшую модель;\n",
    "5. Проверить лучшую модель на тестовой выборке"
   ]
  },
  {
   "cell_type": "markdown",
   "metadata": {},
   "source": [
    "Загрузим все необходимые библиотеки"
   ]
  },
  {
   "cell_type": "code",
   "execution_count": 1,
   "metadata": {},
   "outputs": [],
   "source": [
    "import pandas as pd\n",
    "pd.set_option('display.max_columns', 100)\n",
    "pd.set_option('display.max_rows', 100)\n",
    "\n",
    "from sklearn.metrics import mean_absolute_error as mae\n",
    "from sklearn.metrics import make_scorer\n",
    "from sklearn.model_selection import train_test_split, cross_val_score\n",
    "from sklearn.linear_model import LinearRegression\n",
    "from sklearn.tree import DecisionTreeRegressor\n",
    "from sklearn.ensemble import RandomForestRegressor\n",
    "from lightgbm import LGBMRegressor\n",
    "\n",
    "from skopt import BayesSearchCV\n",
    "\n",
    "from skopt.space import Real, Categorical, Integer\n",
    "\n",
    "import matplotlib.pyplot as plt"
   ]
  },
  {
   "cell_type": "code",
   "execution_count": 2,
   "metadata": {},
   "outputs": [],
   "source": [
    "RANDOM_STATE=12345\n",
    "N_ITER = 10\n",
    "CV = 5\n",
    "MAX_DEPTH = 10\n",
    "MAX_N_ESTIMATORS = 70\n",
    "MAX_MIN_SAMPLE_LEAF = 10"
   ]
  },
  {
   "cell_type": "markdown",
   "metadata": {},
   "source": [
    "## Подготовка данных"
   ]
  },
  {
   "cell_type": "markdown",
   "metadata": {},
   "source": [
    "Загрузка данных"
   ]
  },
  {
   "cell_type": "code",
   "execution_count": 3,
   "metadata": {},
   "outputs": [],
   "source": [
    "try:\n",
    "    data_full = pd.read_csv('gold_recovery_full_new.csv')\n",
    "    data_train = pd.read_csv('gold_recovery_train_new.csv')\n",
    "    data_test = pd.read_csv('gold_recovery_test_new.csv')\n",
    "except:\n",
    "    data_full = pd.read_csv('/datasets/gold_recovery_full_new.csv')\n",
    "    data_train = pd.read_csv('/datasets/gold_recovery_train_new.csv')\n",
    "    data_test = pd.read_csv('/datasets/gold_recovery_test_new.csv')"
   ]
  },
  {
   "cell_type": "markdown",
   "metadata": {},
   "source": [
    "Изучим полный датасет с исходными данными ```gold_recovery_full_new.csv```"
   ]
  },
  {
   "cell_type": "code",
   "execution_count": 4,
   "metadata": {
    "scrolled": false
   },
   "outputs": [
    {
     "name": "stdout",
     "output_type": "stream",
     "text": [
      "<class 'pandas.core.frame.DataFrame'>\n",
      "RangeIndex: 19439 entries, 0 to 19438\n",
      "Data columns (total 87 columns):\n",
      " #   Column                                              Non-Null Count  Dtype  \n",
      "---  ------                                              --------------  -----  \n",
      " 0   date                                                19439 non-null  object \n",
      " 1   final.output.concentrate_ag                         19438 non-null  float64\n",
      " 2   final.output.concentrate_pb                         19438 non-null  float64\n",
      " 3   final.output.concentrate_sol                        19228 non-null  float64\n",
      " 4   final.output.concentrate_au                         19439 non-null  float64\n",
      " 5   final.output.recovery                               19439 non-null  float64\n",
      " 6   final.output.tail_ag                                19438 non-null  float64\n",
      " 7   final.output.tail_pb                                19338 non-null  float64\n",
      " 8   final.output.tail_sol                               19433 non-null  float64\n",
      " 9   final.output.tail_au                                19439 non-null  float64\n",
      " 10  primary_cleaner.input.sulfate                       19415 non-null  float64\n",
      " 11  primary_cleaner.input.depressant                    19402 non-null  float64\n",
      " 12  primary_cleaner.input.feed_size                     19439 non-null  float64\n",
      " 13  primary_cleaner.input.xanthate                      19335 non-null  float64\n",
      " 14  primary_cleaner.output.concentrate_ag               19439 non-null  float64\n",
      " 15  primary_cleaner.output.concentrate_pb               19323 non-null  float64\n",
      " 16  primary_cleaner.output.concentrate_sol              19069 non-null  float64\n",
      " 17  primary_cleaner.output.concentrate_au               19439 non-null  float64\n",
      " 18  primary_cleaner.output.tail_ag                      19435 non-null  float64\n",
      " 19  primary_cleaner.output.tail_pb                      19418 non-null  float64\n",
      " 20  primary_cleaner.output.tail_sol                     19377 non-null  float64\n",
      " 21  primary_cleaner.output.tail_au                      19439 non-null  float64\n",
      " 22  primary_cleaner.state.floatbank8_a_air              19435 non-null  float64\n",
      " 23  primary_cleaner.state.floatbank8_a_level            19438 non-null  float64\n",
      " 24  primary_cleaner.state.floatbank8_b_air              19435 non-null  float64\n",
      " 25  primary_cleaner.state.floatbank8_b_level            19438 non-null  float64\n",
      " 26  primary_cleaner.state.floatbank8_c_air              19437 non-null  float64\n",
      " 27  primary_cleaner.state.floatbank8_c_level            19438 non-null  float64\n",
      " 28  primary_cleaner.state.floatbank8_d_air              19436 non-null  float64\n",
      " 29  primary_cleaner.state.floatbank8_d_level            19438 non-null  float64\n",
      " 30  rougher.calculation.sulfate_to_au_concentrate       19437 non-null  float64\n",
      " 31  rougher.calculation.floatbank10_sulfate_to_au_feed  19437 non-null  float64\n",
      " 32  rougher.calculation.floatbank11_sulfate_to_au_feed  19437 non-null  float64\n",
      " 33  rougher.calculation.au_pb_ratio                     19439 non-null  float64\n",
      " 34  rougher.input.feed_ag                               19439 non-null  float64\n",
      " 35  rougher.input.feed_pb                               19339 non-null  float64\n",
      " 36  rougher.input.feed_rate                             19428 non-null  float64\n",
      " 37  rougher.input.feed_size                             19294 non-null  float64\n",
      " 38  rougher.input.feed_sol                              19340 non-null  float64\n",
      " 39  rougher.input.feed_au                               19439 non-null  float64\n",
      " 40  rougher.input.floatbank10_sulfate                   19405 non-null  float64\n",
      " 41  rougher.input.floatbank10_xanthate                  19431 non-null  float64\n",
      " 42  rougher.input.floatbank11_sulfate                   19395 non-null  float64\n",
      " 43  rougher.input.floatbank11_xanthate                  18986 non-null  float64\n",
      " 44  rougher.output.concentrate_ag                       19439 non-null  float64\n",
      " 45  rougher.output.concentrate_pb                       19439 non-null  float64\n",
      " 46  rougher.output.concentrate_sol                      19416 non-null  float64\n",
      " 47  rougher.output.concentrate_au                       19439 non-null  float64\n",
      " 48  rougher.output.recovery                             19439 non-null  float64\n",
      " 49  rougher.output.tail_ag                              19438 non-null  float64\n",
      " 50  rougher.output.tail_pb                              19439 non-null  float64\n",
      " 51  rougher.output.tail_sol                             19439 non-null  float64\n",
      " 52  rougher.output.tail_au                              19439 non-null  float64\n",
      " 53  rougher.state.floatbank10_a_air                     19438 non-null  float64\n",
      " 54  rougher.state.floatbank10_a_level                   19438 non-null  float64\n",
      " 55  rougher.state.floatbank10_b_air                     19438 non-null  float64\n",
      " 56  rougher.state.floatbank10_b_level                   19438 non-null  float64\n",
      " 57  rougher.state.floatbank10_c_air                     19438 non-null  float64\n",
      " 58  rougher.state.floatbank10_c_level                   19438 non-null  float64\n",
      " 59  rougher.state.floatbank10_d_air                     19439 non-null  float64\n",
      " 60  rougher.state.floatbank10_d_level                   19439 non-null  float64\n",
      " 61  rougher.state.floatbank10_e_air                     19003 non-null  float64\n",
      " 62  rougher.state.floatbank10_e_level                   19439 non-null  float64\n",
      " 63  rougher.state.floatbank10_f_air                     19439 non-null  float64\n",
      " 64  rougher.state.floatbank10_f_level                   19439 non-null  float64\n",
      " 65  secondary_cleaner.output.tail_ag                    19437 non-null  float64\n",
      " 66  secondary_cleaner.output.tail_pb                    19427 non-null  float64\n",
      " 67  secondary_cleaner.output.tail_sol                   17691 non-null  float64\n",
      " 68  secondary_cleaner.output.tail_au                    19439 non-null  float64\n",
      " 69  secondary_cleaner.state.floatbank2_a_air            19219 non-null  float64\n",
      " 70  secondary_cleaner.state.floatbank2_a_level          19438 non-null  float64\n",
      " 71  secondary_cleaner.state.floatbank2_b_air            19416 non-null  float64\n",
      " 72  secondary_cleaner.state.floatbank2_b_level          19438 non-null  float64\n",
      " 73  secondary_cleaner.state.floatbank3_a_air            19426 non-null  float64\n",
      " 74  secondary_cleaner.state.floatbank3_a_level          19438 non-null  float64\n",
      " 75  secondary_cleaner.state.floatbank3_b_air            19438 non-null  float64\n",
      " 76  secondary_cleaner.state.floatbank3_b_level          19438 non-null  float64\n",
      " 77  secondary_cleaner.state.floatbank4_a_air            19433 non-null  float64\n",
      " 78  secondary_cleaner.state.floatbank4_a_level          19438 non-null  float64\n",
      " 79  secondary_cleaner.state.floatbank4_b_air            19438 non-null  float64\n",
      " 80  secondary_cleaner.state.floatbank4_b_level          19438 non-null  float64\n",
      " 81  secondary_cleaner.state.floatbank5_a_air            19438 non-null  float64\n",
      " 82  secondary_cleaner.state.floatbank5_a_level          19438 non-null  float64\n",
      " 83  secondary_cleaner.state.floatbank5_b_air            19438 non-null  float64\n",
      " 84  secondary_cleaner.state.floatbank5_b_level          19438 non-null  float64\n",
      " 85  secondary_cleaner.state.floatbank6_a_air            19437 non-null  float64\n",
      " 86  secondary_cleaner.state.floatbank6_a_level          19438 non-null  float64\n",
      "dtypes: float64(86), object(1)\n",
      "memory usage: 12.9+ MB\n"
     ]
    }
   ],
   "source": [
    "data_full.info()"
   ]
  },
  {
   "cell_type": "markdown",
   "metadata": {},
   "source": [
    "87 фичей, видно, что кое-где есть пропуски.\n",
    "\n",
    "По флотационной установке 11 данных по параметрам процесса нет. Есть данные по флотационным реагентам и какой-то расчетный параметр. Можно сделать вывод, что использовать данные по этой установке нет смысла.\n",
    "\n",
    "Также можно обратить внимание на то, что данные с временем получения замера ```date``` имеют тип object.\n",
    "\n",
    "Изучим пропуски"
   ]
  },
  {
   "cell_type": "code",
   "execution_count": 5,
   "metadata": {},
   "outputs": [
    {
     "data": {
      "text/plain": [
       "date                                                   0.00\n",
       "final.output.concentrate_ag                            0.01\n",
       "final.output.concentrate_pb                            0.01\n",
       "final.output.concentrate_sol                           2.11\n",
       "final.output.concentrate_au                            0.00\n",
       "final.output.recovery                                  0.00\n",
       "final.output.tail_ag                                   0.01\n",
       "final.output.tail_pb                                   1.01\n",
       "final.output.tail_sol                                  0.06\n",
       "final.output.tail_au                                   0.00\n",
       "primary_cleaner.input.sulfate                          0.24\n",
       "primary_cleaner.input.depressant                       0.37\n",
       "primary_cleaner.input.feed_size                        0.00\n",
       "primary_cleaner.input.xanthate                         1.04\n",
       "primary_cleaner.output.concentrate_ag                  0.00\n",
       "primary_cleaner.output.concentrate_pb                  1.16\n",
       "primary_cleaner.output.concentrate_sol                 3.70\n",
       "primary_cleaner.output.concentrate_au                  0.00\n",
       "primary_cleaner.output.tail_ag                         0.04\n",
       "primary_cleaner.output.tail_pb                         0.21\n",
       "primary_cleaner.output.tail_sol                        0.62\n",
       "primary_cleaner.output.tail_au                         0.00\n",
       "primary_cleaner.state.floatbank8_a_air                 0.04\n",
       "primary_cleaner.state.floatbank8_a_level               0.01\n",
       "primary_cleaner.state.floatbank8_b_air                 0.04\n",
       "primary_cleaner.state.floatbank8_b_level               0.01\n",
       "primary_cleaner.state.floatbank8_c_air                 0.02\n",
       "primary_cleaner.state.floatbank8_c_level               0.01\n",
       "primary_cleaner.state.floatbank8_d_air                 0.03\n",
       "primary_cleaner.state.floatbank8_d_level               0.01\n",
       "rougher.calculation.sulfate_to_au_concentrate          0.02\n",
       "rougher.calculation.floatbank10_sulfate_to_au_feed     0.02\n",
       "rougher.calculation.floatbank11_sulfate_to_au_feed     0.02\n",
       "rougher.calculation.au_pb_ratio                        0.00\n",
       "rougher.input.feed_ag                                  0.00\n",
       "rougher.input.feed_pb                                  1.00\n",
       "rougher.input.feed_rate                                0.11\n",
       "rougher.input.feed_size                                1.45\n",
       "rougher.input.feed_sol                                 0.99\n",
       "rougher.input.feed_au                                  0.00\n",
       "rougher.input.floatbank10_sulfate                      0.34\n",
       "rougher.input.floatbank10_xanthate                     0.08\n",
       "rougher.input.floatbank11_sulfate                      0.44\n",
       "rougher.input.floatbank11_xanthate                     4.53\n",
       "rougher.output.concentrate_ag                          0.00\n",
       "rougher.output.concentrate_pb                          0.00\n",
       "rougher.output.concentrate_sol                         0.23\n",
       "rougher.output.concentrate_au                          0.00\n",
       "rougher.output.recovery                                0.00\n",
       "rougher.output.tail_ag                                 0.01\n",
       "rougher.output.tail_pb                                 0.00\n",
       "rougher.output.tail_sol                                0.00\n",
       "rougher.output.tail_au                                 0.00\n",
       "rougher.state.floatbank10_a_air                        0.01\n",
       "rougher.state.floatbank10_a_level                      0.01\n",
       "rougher.state.floatbank10_b_air                        0.01\n",
       "rougher.state.floatbank10_b_level                      0.01\n",
       "rougher.state.floatbank10_c_air                        0.01\n",
       "rougher.state.floatbank10_c_level                      0.01\n",
       "rougher.state.floatbank10_d_air                        0.00\n",
       "rougher.state.floatbank10_d_level                      0.00\n",
       "rougher.state.floatbank10_e_air                        4.36\n",
       "rougher.state.floatbank10_e_level                      0.00\n",
       "rougher.state.floatbank10_f_air                        0.00\n",
       "rougher.state.floatbank10_f_level                      0.00\n",
       "secondary_cleaner.output.tail_ag                       0.02\n",
       "secondary_cleaner.output.tail_pb                       0.12\n",
       "secondary_cleaner.output.tail_sol                     17.48\n",
       "secondary_cleaner.output.tail_au                       0.00\n",
       "secondary_cleaner.state.floatbank2_a_air               2.20\n",
       "secondary_cleaner.state.floatbank2_a_level             0.01\n",
       "secondary_cleaner.state.floatbank2_b_air               0.23\n",
       "secondary_cleaner.state.floatbank2_b_level             0.01\n",
       "secondary_cleaner.state.floatbank3_a_air               0.13\n",
       "secondary_cleaner.state.floatbank3_a_level             0.01\n",
       "secondary_cleaner.state.floatbank3_b_air               0.01\n",
       "secondary_cleaner.state.floatbank3_b_level             0.01\n",
       "secondary_cleaner.state.floatbank4_a_air               0.06\n",
       "secondary_cleaner.state.floatbank4_a_level             0.01\n",
       "secondary_cleaner.state.floatbank4_b_air               0.01\n",
       "secondary_cleaner.state.floatbank4_b_level             0.01\n",
       "secondary_cleaner.state.floatbank5_a_air               0.01\n",
       "secondary_cleaner.state.floatbank5_a_level             0.01\n",
       "secondary_cleaner.state.floatbank5_b_air               0.01\n",
       "secondary_cleaner.state.floatbank5_b_level             0.01\n",
       "secondary_cleaner.state.floatbank6_a_air               0.02\n",
       "secondary_cleaner.state.floatbank6_a_level             0.01\n",
       "dtype: float64"
      ]
     },
     "execution_count": 5,
     "metadata": {},
     "output_type": "execute_result"
    }
   ],
   "source": [
    "data_full.isna().sum() / 100"
   ]
  },
  {
   "cell_type": "markdown",
   "metadata": {},
   "source": [
    "Больше всего пропусков в признаке ```secondary_cleaner.output.tail_sol``` - более 17 процентов всех объектов не имеют этого признака. Остальные пропуски не превышают 5 % в своих столбцах."
   ]
  },
  {
   "cell_type": "markdown",
   "metadata": {},
   "source": [
    "Посмотрим на сами данные"
   ]
  },
  {
   "cell_type": "code",
   "execution_count": 6,
   "metadata": {
    "scrolled": false
   },
   "outputs": [
    {
     "data": {
      "text/html": [
       "<div>\n",
       "<style scoped>\n",
       "    .dataframe tbody tr th:only-of-type {\n",
       "        vertical-align: middle;\n",
       "    }\n",
       "\n",
       "    .dataframe tbody tr th {\n",
       "        vertical-align: top;\n",
       "    }\n",
       "\n",
       "    .dataframe thead th {\n",
       "        text-align: right;\n",
       "    }\n",
       "</style>\n",
       "<table border=\"1\" class=\"dataframe\">\n",
       "  <thead>\n",
       "    <tr style=\"text-align: right;\">\n",
       "      <th></th>\n",
       "      <th>date</th>\n",
       "      <th>final.output.concentrate_ag</th>\n",
       "      <th>final.output.concentrate_pb</th>\n",
       "      <th>final.output.concentrate_sol</th>\n",
       "      <th>final.output.concentrate_au</th>\n",
       "      <th>final.output.recovery</th>\n",
       "      <th>final.output.tail_ag</th>\n",
       "      <th>final.output.tail_pb</th>\n",
       "      <th>final.output.tail_sol</th>\n",
       "      <th>final.output.tail_au</th>\n",
       "      <th>primary_cleaner.input.sulfate</th>\n",
       "      <th>primary_cleaner.input.depressant</th>\n",
       "      <th>primary_cleaner.input.feed_size</th>\n",
       "      <th>primary_cleaner.input.xanthate</th>\n",
       "      <th>primary_cleaner.output.concentrate_ag</th>\n",
       "      <th>primary_cleaner.output.concentrate_pb</th>\n",
       "      <th>primary_cleaner.output.concentrate_sol</th>\n",
       "      <th>primary_cleaner.output.concentrate_au</th>\n",
       "      <th>primary_cleaner.output.tail_ag</th>\n",
       "      <th>primary_cleaner.output.tail_pb</th>\n",
       "      <th>primary_cleaner.output.tail_sol</th>\n",
       "      <th>primary_cleaner.output.tail_au</th>\n",
       "      <th>primary_cleaner.state.floatbank8_a_air</th>\n",
       "      <th>primary_cleaner.state.floatbank8_a_level</th>\n",
       "      <th>primary_cleaner.state.floatbank8_b_air</th>\n",
       "      <th>primary_cleaner.state.floatbank8_b_level</th>\n",
       "      <th>primary_cleaner.state.floatbank8_c_air</th>\n",
       "      <th>primary_cleaner.state.floatbank8_c_level</th>\n",
       "      <th>primary_cleaner.state.floatbank8_d_air</th>\n",
       "      <th>primary_cleaner.state.floatbank8_d_level</th>\n",
       "      <th>rougher.calculation.sulfate_to_au_concentrate</th>\n",
       "      <th>rougher.calculation.floatbank10_sulfate_to_au_feed</th>\n",
       "      <th>rougher.calculation.floatbank11_sulfate_to_au_feed</th>\n",
       "      <th>rougher.calculation.au_pb_ratio</th>\n",
       "      <th>rougher.input.feed_ag</th>\n",
       "      <th>rougher.input.feed_pb</th>\n",
       "      <th>rougher.input.feed_rate</th>\n",
       "      <th>rougher.input.feed_size</th>\n",
       "      <th>rougher.input.feed_sol</th>\n",
       "      <th>rougher.input.feed_au</th>\n",
       "      <th>rougher.input.floatbank10_sulfate</th>\n",
       "      <th>rougher.input.floatbank10_xanthate</th>\n",
       "      <th>rougher.input.floatbank11_sulfate</th>\n",
       "      <th>rougher.input.floatbank11_xanthate</th>\n",
       "      <th>rougher.output.concentrate_ag</th>\n",
       "      <th>rougher.output.concentrate_pb</th>\n",
       "      <th>rougher.output.concentrate_sol</th>\n",
       "      <th>rougher.output.concentrate_au</th>\n",
       "      <th>rougher.output.recovery</th>\n",
       "      <th>rougher.output.tail_ag</th>\n",
       "      <th>rougher.output.tail_pb</th>\n",
       "      <th>rougher.output.tail_sol</th>\n",
       "      <th>rougher.output.tail_au</th>\n",
       "      <th>rougher.state.floatbank10_a_air</th>\n",
       "      <th>rougher.state.floatbank10_a_level</th>\n",
       "      <th>rougher.state.floatbank10_b_air</th>\n",
       "      <th>rougher.state.floatbank10_b_level</th>\n",
       "      <th>rougher.state.floatbank10_c_air</th>\n",
       "      <th>rougher.state.floatbank10_c_level</th>\n",
       "      <th>rougher.state.floatbank10_d_air</th>\n",
       "      <th>rougher.state.floatbank10_d_level</th>\n",
       "      <th>rougher.state.floatbank10_e_air</th>\n",
       "      <th>rougher.state.floatbank10_e_level</th>\n",
       "      <th>rougher.state.floatbank10_f_air</th>\n",
       "      <th>rougher.state.floatbank10_f_level</th>\n",
       "      <th>secondary_cleaner.output.tail_ag</th>\n",
       "      <th>secondary_cleaner.output.tail_pb</th>\n",
       "      <th>secondary_cleaner.output.tail_sol</th>\n",
       "      <th>secondary_cleaner.output.tail_au</th>\n",
       "      <th>secondary_cleaner.state.floatbank2_a_air</th>\n",
       "      <th>secondary_cleaner.state.floatbank2_a_level</th>\n",
       "      <th>secondary_cleaner.state.floatbank2_b_air</th>\n",
       "      <th>secondary_cleaner.state.floatbank2_b_level</th>\n",
       "      <th>secondary_cleaner.state.floatbank3_a_air</th>\n",
       "      <th>secondary_cleaner.state.floatbank3_a_level</th>\n",
       "      <th>secondary_cleaner.state.floatbank3_b_air</th>\n",
       "      <th>secondary_cleaner.state.floatbank3_b_level</th>\n",
       "      <th>secondary_cleaner.state.floatbank4_a_air</th>\n",
       "      <th>secondary_cleaner.state.floatbank4_a_level</th>\n",
       "      <th>secondary_cleaner.state.floatbank4_b_air</th>\n",
       "      <th>secondary_cleaner.state.floatbank4_b_level</th>\n",
       "      <th>secondary_cleaner.state.floatbank5_a_air</th>\n",
       "      <th>secondary_cleaner.state.floatbank5_a_level</th>\n",
       "      <th>secondary_cleaner.state.floatbank5_b_air</th>\n",
       "      <th>secondary_cleaner.state.floatbank5_b_level</th>\n",
       "      <th>secondary_cleaner.state.floatbank6_a_air</th>\n",
       "      <th>secondary_cleaner.state.floatbank6_a_level</th>\n",
       "    </tr>\n",
       "  </thead>\n",
       "  <tbody>\n",
       "    <tr>\n",
       "      <th>0</th>\n",
       "      <td>2016-01-15 00:00:00</td>\n",
       "      <td>6.055403</td>\n",
       "      <td>9.889648</td>\n",
       "      <td>5.507324</td>\n",
       "      <td>42.192020</td>\n",
       "      <td>70.541216</td>\n",
       "      <td>10.411962</td>\n",
       "      <td>0.895447</td>\n",
       "      <td>16.904297</td>\n",
       "      <td>2.143149</td>\n",
       "      <td>127.092003</td>\n",
       "      <td>10.128295</td>\n",
       "      <td>7.25</td>\n",
       "      <td>0.988759</td>\n",
       "      <td>8.547551</td>\n",
       "      <td>10.389648</td>\n",
       "      <td>19.529297</td>\n",
       "      <td>34.174427</td>\n",
       "      <td>14.936526</td>\n",
       "      <td>2.534912</td>\n",
       "      <td>7.476074</td>\n",
       "      <td>2.106679</td>\n",
       "      <td>1549.775757</td>\n",
       "      <td>-498.912140</td>\n",
       "      <td>1551.434204</td>\n",
       "      <td>-516.403442</td>\n",
       "      <td>1549.873901</td>\n",
       "      <td>-498.666595</td>\n",
       "      <td>1554.367432</td>\n",
       "      <td>-493.428131</td>\n",
       "      <td>41885.707031</td>\n",
       "      <td>3481.779053</td>\n",
       "      <td>3520.337158</td>\n",
       "      <td>2.838687</td>\n",
       "      <td>6.100378</td>\n",
       "      <td>2.284912</td>\n",
       "      <td>523.546326</td>\n",
       "      <td>55.486599</td>\n",
       "      <td>36.808594</td>\n",
       "      <td>6.486150</td>\n",
       "      <td>11.986616</td>\n",
       "      <td>6.007990</td>\n",
       "      <td>11.836743</td>\n",
       "      <td>6.005818</td>\n",
       "      <td>11.500771</td>\n",
       "      <td>7.101074</td>\n",
       "      <td>28.029297</td>\n",
       "      <td>19.793808</td>\n",
       "      <td>87.107763</td>\n",
       "      <td>5.008018</td>\n",
       "      <td>0.508728</td>\n",
       "      <td>19.154297</td>\n",
       "      <td>1.170244</td>\n",
       "      <td>999.706909</td>\n",
       "      <td>-404.066986</td>\n",
       "      <td>1603.011353</td>\n",
       "      <td>-434.715027</td>\n",
       "      <td>1602.375000</td>\n",
       "      <td>-442.204468</td>\n",
       "      <td>1598.937256</td>\n",
       "      <td>-451.294128</td>\n",
       "      <td>1404.472046</td>\n",
       "      <td>-455.462982</td>\n",
       "      <td>1416.354980</td>\n",
       "      <td>-451.939636</td>\n",
       "      <td>14.500184</td>\n",
       "      <td>4.694824</td>\n",
       "      <td>8.764648</td>\n",
       "      <td>2.606185</td>\n",
       "      <td>25.853109</td>\n",
       "      <td>-498.526489</td>\n",
       "      <td>23.893660</td>\n",
       "      <td>-501.406281</td>\n",
       "      <td>23.961798</td>\n",
       "      <td>-495.262817</td>\n",
       "      <td>21.940409</td>\n",
       "      <td>-499.340973</td>\n",
       "      <td>14.016835</td>\n",
       "      <td>-502.488007</td>\n",
       "      <td>12.099931</td>\n",
       "      <td>-504.715942</td>\n",
       "      <td>9.925633</td>\n",
       "      <td>-498.310211</td>\n",
       "      <td>8.079666</td>\n",
       "      <td>-500.470978</td>\n",
       "      <td>14.151341</td>\n",
       "      <td>-605.841980</td>\n",
       "    </tr>\n",
       "    <tr>\n",
       "      <th>1</th>\n",
       "      <td>2016-01-15 01:00:00</td>\n",
       "      <td>6.029369</td>\n",
       "      <td>9.968944</td>\n",
       "      <td>5.257781</td>\n",
       "      <td>42.701629</td>\n",
       "      <td>69.266198</td>\n",
       "      <td>10.462676</td>\n",
       "      <td>0.927452</td>\n",
       "      <td>16.634514</td>\n",
       "      <td>2.224930</td>\n",
       "      <td>125.629232</td>\n",
       "      <td>10.296251</td>\n",
       "      <td>7.25</td>\n",
       "      <td>1.002663</td>\n",
       "      <td>8.558743</td>\n",
       "      <td>10.497069</td>\n",
       "      <td>19.369147</td>\n",
       "      <td>34.118526</td>\n",
       "      <td>16.250511</td>\n",
       "      <td>3.049646</td>\n",
       "      <td>6.733907</td>\n",
       "      <td>2.353017</td>\n",
       "      <td>1576.166671</td>\n",
       "      <td>-500.904965</td>\n",
       "      <td>1575.950626</td>\n",
       "      <td>-499.865889</td>\n",
       "      <td>1575.994189</td>\n",
       "      <td>-499.315107</td>\n",
       "      <td>1574.479259</td>\n",
       "      <td>-498.931665</td>\n",
       "      <td>42050.861809</td>\n",
       "      <td>3498.370979</td>\n",
       "      <td>3489.981857</td>\n",
       "      <td>2.858998</td>\n",
       "      <td>6.161113</td>\n",
       "      <td>2.266033</td>\n",
       "      <td>525.290581</td>\n",
       "      <td>57.278666</td>\n",
       "      <td>35.753385</td>\n",
       "      <td>6.478583</td>\n",
       "      <td>11.971193</td>\n",
       "      <td>6.005766</td>\n",
       "      <td>11.996163</td>\n",
       "      <td>6.012594</td>\n",
       "      <td>11.615865</td>\n",
       "      <td>7.278807</td>\n",
       "      <td>28.067063</td>\n",
       "      <td>20.050975</td>\n",
       "      <td>86.843261</td>\n",
       "      <td>4.955378</td>\n",
       "      <td>0.536689</td>\n",
       "      <td>18.965234</td>\n",
       "      <td>1.184827</td>\n",
       "      <td>1000.286398</td>\n",
       "      <td>-400.065196</td>\n",
       "      <td>1600.754587</td>\n",
       "      <td>-449.953435</td>\n",
       "      <td>1600.479580</td>\n",
       "      <td>-449.830646</td>\n",
       "      <td>1600.527589</td>\n",
       "      <td>-449.953649</td>\n",
       "      <td>1399.227084</td>\n",
       "      <td>-450.869848</td>\n",
       "      <td>1399.719514</td>\n",
       "      <td>-450.119001</td>\n",
       "      <td>14.265474</td>\n",
       "      <td>4.592547</td>\n",
       "      <td>9.001494</td>\n",
       "      <td>2.488248</td>\n",
       "      <td>25.880539</td>\n",
       "      <td>-499.989656</td>\n",
       "      <td>23.889530</td>\n",
       "      <td>-500.372428</td>\n",
       "      <td>23.970550</td>\n",
       "      <td>-500.085473</td>\n",
       "      <td>22.085714</td>\n",
       "      <td>-499.446897</td>\n",
       "      <td>13.992281</td>\n",
       "      <td>-505.503262</td>\n",
       "      <td>11.950531</td>\n",
       "      <td>-501.331529</td>\n",
       "      <td>10.039245</td>\n",
       "      <td>-500.169983</td>\n",
       "      <td>7.984757</td>\n",
       "      <td>-500.582168</td>\n",
       "      <td>13.998353</td>\n",
       "      <td>-599.787184</td>\n",
       "    </tr>\n",
       "    <tr>\n",
       "      <th>2</th>\n",
       "      <td>2016-01-15 02:00:00</td>\n",
       "      <td>6.055926</td>\n",
       "      <td>10.213995</td>\n",
       "      <td>5.383759</td>\n",
       "      <td>42.657501</td>\n",
       "      <td>68.116445</td>\n",
       "      <td>10.507046</td>\n",
       "      <td>0.953716</td>\n",
       "      <td>16.208849</td>\n",
       "      <td>2.257889</td>\n",
       "      <td>123.819808</td>\n",
       "      <td>11.316280</td>\n",
       "      <td>7.25</td>\n",
       "      <td>0.991265</td>\n",
       "      <td>8.603505</td>\n",
       "      <td>10.354494</td>\n",
       "      <td>19.167579</td>\n",
       "      <td>33.969464</td>\n",
       "      <td>16.491823</td>\n",
       "      <td>3.124664</td>\n",
       "      <td>6.471768</td>\n",
       "      <td>2.416800</td>\n",
       "      <td>1601.556163</td>\n",
       "      <td>-499.997791</td>\n",
       "      <td>1600.386685</td>\n",
       "      <td>-500.607762</td>\n",
       "      <td>1602.003542</td>\n",
       "      <td>-500.870069</td>\n",
       "      <td>1599.541515</td>\n",
       "      <td>-499.827444</td>\n",
       "      <td>42018.101184</td>\n",
       "      <td>3495.348910</td>\n",
       "      <td>3502.359819</td>\n",
       "      <td>2.945989</td>\n",
       "      <td>6.116455</td>\n",
       "      <td>2.159622</td>\n",
       "      <td>530.026610</td>\n",
       "      <td>57.510649</td>\n",
       "      <td>35.971630</td>\n",
       "      <td>6.362222</td>\n",
       "      <td>11.920603</td>\n",
       "      <td>6.197377</td>\n",
       "      <td>11.920305</td>\n",
       "      <td>6.204633</td>\n",
       "      <td>11.695753</td>\n",
       "      <td>7.216833</td>\n",
       "      <td>27.454037</td>\n",
       "      <td>19.737170</td>\n",
       "      <td>86.842308</td>\n",
       "      <td>4.843460</td>\n",
       "      <td>0.546416</td>\n",
       "      <td>18.808533</td>\n",
       "      <td>1.162562</td>\n",
       "      <td>999.719565</td>\n",
       "      <td>-400.074028</td>\n",
       "      <td>1599.337330</td>\n",
       "      <td>-450.008530</td>\n",
       "      <td>1599.672797</td>\n",
       "      <td>-449.954491</td>\n",
       "      <td>1599.849325</td>\n",
       "      <td>-449.954185</td>\n",
       "      <td>1399.180945</td>\n",
       "      <td>-449.937588</td>\n",
       "      <td>1400.316682</td>\n",
       "      <td>-450.527147</td>\n",
       "      <td>14.115662</td>\n",
       "      <td>4.624775</td>\n",
       "      <td>8.842896</td>\n",
       "      <td>2.458187</td>\n",
       "      <td>26.005245</td>\n",
       "      <td>-499.929616</td>\n",
       "      <td>23.886657</td>\n",
       "      <td>-499.951928</td>\n",
       "      <td>23.913535</td>\n",
       "      <td>-499.442343</td>\n",
       "      <td>23.957717</td>\n",
       "      <td>-499.901982</td>\n",
       "      <td>14.015015</td>\n",
       "      <td>-502.520901</td>\n",
       "      <td>11.912783</td>\n",
       "      <td>-501.133383</td>\n",
       "      <td>10.070913</td>\n",
       "      <td>-500.129135</td>\n",
       "      <td>8.013877</td>\n",
       "      <td>-500.517572</td>\n",
       "      <td>14.028663</td>\n",
       "      <td>-601.427363</td>\n",
       "    </tr>\n",
       "    <tr>\n",
       "      <th>3</th>\n",
       "      <td>2016-01-15 03:00:00</td>\n",
       "      <td>6.047977</td>\n",
       "      <td>9.977019</td>\n",
       "      <td>4.858634</td>\n",
       "      <td>42.689819</td>\n",
       "      <td>68.347543</td>\n",
       "      <td>10.422762</td>\n",
       "      <td>0.883763</td>\n",
       "      <td>16.532835</td>\n",
       "      <td>2.146849</td>\n",
       "      <td>122.270188</td>\n",
       "      <td>11.322140</td>\n",
       "      <td>7.25</td>\n",
       "      <td>0.996739</td>\n",
       "      <td>7.221879</td>\n",
       "      <td>8.496563</td>\n",
       "      <td>15.978538</td>\n",
       "      <td>28.260743</td>\n",
       "      <td>16.024359</td>\n",
       "      <td>2.960362</td>\n",
       "      <td>6.843791</td>\n",
       "      <td>2.262051</td>\n",
       "      <td>1599.968720</td>\n",
       "      <td>-500.951778</td>\n",
       "      <td>1600.659236</td>\n",
       "      <td>-499.677094</td>\n",
       "      <td>1600.304144</td>\n",
       "      <td>-500.727997</td>\n",
       "      <td>1600.449520</td>\n",
       "      <td>-500.052575</td>\n",
       "      <td>42029.447991</td>\n",
       "      <td>3498.578313</td>\n",
       "      <td>3499.162912</td>\n",
       "      <td>3.002340</td>\n",
       "      <td>6.043309</td>\n",
       "      <td>2.037807</td>\n",
       "      <td>542.590390</td>\n",
       "      <td>57.792734</td>\n",
       "      <td>36.862241</td>\n",
       "      <td>6.118189</td>\n",
       "      <td>11.630094</td>\n",
       "      <td>6.203177</td>\n",
       "      <td>11.692450</td>\n",
       "      <td>6.196578</td>\n",
       "      <td>11.915047</td>\n",
       "      <td>7.175616</td>\n",
       "      <td>27.341277</td>\n",
       "      <td>19.320810</td>\n",
       "      <td>87.226430</td>\n",
       "      <td>4.655288</td>\n",
       "      <td>0.542525</td>\n",
       "      <td>19.330200</td>\n",
       "      <td>1.079755</td>\n",
       "      <td>999.814770</td>\n",
       "      <td>-400.200179</td>\n",
       "      <td>1600.059442</td>\n",
       "      <td>-450.619948</td>\n",
       "      <td>1600.012842</td>\n",
       "      <td>-449.910497</td>\n",
       "      <td>1597.725177</td>\n",
       "      <td>-450.130127</td>\n",
       "      <td>1400.943157</td>\n",
       "      <td>-450.030142</td>\n",
       "      <td>1400.234743</td>\n",
       "      <td>-449.790835</td>\n",
       "      <td>13.732071</td>\n",
       "      <td>4.482453</td>\n",
       "      <td>9.122857</td>\n",
       "      <td>2.322062</td>\n",
       "      <td>25.942508</td>\n",
       "      <td>-499.176749</td>\n",
       "      <td>23.955516</td>\n",
       "      <td>-499.848796</td>\n",
       "      <td>23.966838</td>\n",
       "      <td>-500.008812</td>\n",
       "      <td>23.954443</td>\n",
       "      <td>-499.944710</td>\n",
       "      <td>14.036510</td>\n",
       "      <td>-500.857308</td>\n",
       "      <td>11.999550</td>\n",
       "      <td>-501.193686</td>\n",
       "      <td>9.970366</td>\n",
       "      <td>-499.201640</td>\n",
       "      <td>7.977324</td>\n",
       "      <td>-500.255908</td>\n",
       "      <td>14.005551</td>\n",
       "      <td>-599.996129</td>\n",
       "    </tr>\n",
       "    <tr>\n",
       "      <th>4</th>\n",
       "      <td>2016-01-15 04:00:00</td>\n",
       "      <td>6.148599</td>\n",
       "      <td>10.142511</td>\n",
       "      <td>4.939416</td>\n",
       "      <td>42.774141</td>\n",
       "      <td>66.927016</td>\n",
       "      <td>10.360302</td>\n",
       "      <td>0.792826</td>\n",
       "      <td>16.525686</td>\n",
       "      <td>2.055292</td>\n",
       "      <td>117.988169</td>\n",
       "      <td>11.913613</td>\n",
       "      <td>7.25</td>\n",
       "      <td>1.009869</td>\n",
       "      <td>9.089428</td>\n",
       "      <td>9.986786</td>\n",
       "      <td>19.199864</td>\n",
       "      <td>33.044932</td>\n",
       "      <td>16.480185</td>\n",
       "      <td>3.112100</td>\n",
       "      <td>6.550154</td>\n",
       "      <td>2.277073</td>\n",
       "      <td>1601.339707</td>\n",
       "      <td>-498.975456</td>\n",
       "      <td>1601.437854</td>\n",
       "      <td>-500.323246</td>\n",
       "      <td>1599.581894</td>\n",
       "      <td>-500.888152</td>\n",
       "      <td>1602.649541</td>\n",
       "      <td>-500.593010</td>\n",
       "      <td>42125.354245</td>\n",
       "      <td>3494.800771</td>\n",
       "      <td>3506.679315</td>\n",
       "      <td>3.169615</td>\n",
       "      <td>6.060915</td>\n",
       "      <td>1.786875</td>\n",
       "      <td>540.531893</td>\n",
       "      <td>56.047189</td>\n",
       "      <td>34.347666</td>\n",
       "      <td>5.663707</td>\n",
       "      <td>10.957755</td>\n",
       "      <td>6.198826</td>\n",
       "      <td>10.960521</td>\n",
       "      <td>6.194897</td>\n",
       "      <td>12.411054</td>\n",
       "      <td>7.240205</td>\n",
       "      <td>27.041023</td>\n",
       "      <td>19.216101</td>\n",
       "      <td>86.688794</td>\n",
       "      <td>4.552800</td>\n",
       "      <td>0.515438</td>\n",
       "      <td>19.267422</td>\n",
       "      <td>1.012642</td>\n",
       "      <td>999.678690</td>\n",
       "      <td>-399.752729</td>\n",
       "      <td>1600.208824</td>\n",
       "      <td>-449.599614</td>\n",
       "      <td>1600.357732</td>\n",
       "      <td>-450.034364</td>\n",
       "      <td>1599.759049</td>\n",
       "      <td>-449.909799</td>\n",
       "      <td>1401.560902</td>\n",
       "      <td>-448.877187</td>\n",
       "      <td>1401.160227</td>\n",
       "      <td>-450.407128</td>\n",
       "      <td>14.079996</td>\n",
       "      <td>4.470737</td>\n",
       "      <td>8.871028</td>\n",
       "      <td>2.330448</td>\n",
       "      <td>26.024787</td>\n",
       "      <td>-500.279091</td>\n",
       "      <td>23.955345</td>\n",
       "      <td>-500.593614</td>\n",
       "      <td>23.985703</td>\n",
       "      <td>-500.083811</td>\n",
       "      <td>23.958945</td>\n",
       "      <td>-499.990309</td>\n",
       "      <td>14.027298</td>\n",
       "      <td>-499.838632</td>\n",
       "      <td>11.953070</td>\n",
       "      <td>-501.053894</td>\n",
       "      <td>9.925709</td>\n",
       "      <td>-501.686727</td>\n",
       "      <td>7.894242</td>\n",
       "      <td>-500.356035</td>\n",
       "      <td>13.996647</td>\n",
       "      <td>-601.496691</td>\n",
       "    </tr>\n",
       "  </tbody>\n",
       "</table>\n",
       "</div>"
      ],
      "text/plain": [
       "                  date  final.output.concentrate_ag  \\\n",
       "0  2016-01-15 00:00:00                     6.055403   \n",
       "1  2016-01-15 01:00:00                     6.029369   \n",
       "2  2016-01-15 02:00:00                     6.055926   \n",
       "3  2016-01-15 03:00:00                     6.047977   \n",
       "4  2016-01-15 04:00:00                     6.148599   \n",
       "\n",
       "   final.output.concentrate_pb  final.output.concentrate_sol  \\\n",
       "0                     9.889648                      5.507324   \n",
       "1                     9.968944                      5.257781   \n",
       "2                    10.213995                      5.383759   \n",
       "3                     9.977019                      4.858634   \n",
       "4                    10.142511                      4.939416   \n",
       "\n",
       "   final.output.concentrate_au  final.output.recovery  final.output.tail_ag  \\\n",
       "0                    42.192020              70.541216             10.411962   \n",
       "1                    42.701629              69.266198             10.462676   \n",
       "2                    42.657501              68.116445             10.507046   \n",
       "3                    42.689819              68.347543             10.422762   \n",
       "4                    42.774141              66.927016             10.360302   \n",
       "\n",
       "   final.output.tail_pb  final.output.tail_sol  final.output.tail_au  \\\n",
       "0              0.895447              16.904297              2.143149   \n",
       "1              0.927452              16.634514              2.224930   \n",
       "2              0.953716              16.208849              2.257889   \n",
       "3              0.883763              16.532835              2.146849   \n",
       "4              0.792826              16.525686              2.055292   \n",
       "\n",
       "   primary_cleaner.input.sulfate  primary_cleaner.input.depressant  \\\n",
       "0                     127.092003                         10.128295   \n",
       "1                     125.629232                         10.296251   \n",
       "2                     123.819808                         11.316280   \n",
       "3                     122.270188                         11.322140   \n",
       "4                     117.988169                         11.913613   \n",
       "\n",
       "   primary_cleaner.input.feed_size  primary_cleaner.input.xanthate  \\\n",
       "0                             7.25                        0.988759   \n",
       "1                             7.25                        1.002663   \n",
       "2                             7.25                        0.991265   \n",
       "3                             7.25                        0.996739   \n",
       "4                             7.25                        1.009869   \n",
       "\n",
       "   primary_cleaner.output.concentrate_ag  \\\n",
       "0                               8.547551   \n",
       "1                               8.558743   \n",
       "2                               8.603505   \n",
       "3                               7.221879   \n",
       "4                               9.089428   \n",
       "\n",
       "   primary_cleaner.output.concentrate_pb  \\\n",
       "0                              10.389648   \n",
       "1                              10.497069   \n",
       "2                              10.354494   \n",
       "3                               8.496563   \n",
       "4                               9.986786   \n",
       "\n",
       "   primary_cleaner.output.concentrate_sol  \\\n",
       "0                               19.529297   \n",
       "1                               19.369147   \n",
       "2                               19.167579   \n",
       "3                               15.978538   \n",
       "4                               19.199864   \n",
       "\n",
       "   primary_cleaner.output.concentrate_au  primary_cleaner.output.tail_ag  \\\n",
       "0                              34.174427                       14.936526   \n",
       "1                              34.118526                       16.250511   \n",
       "2                              33.969464                       16.491823   \n",
       "3                              28.260743                       16.024359   \n",
       "4                              33.044932                       16.480185   \n",
       "\n",
       "   primary_cleaner.output.tail_pb  primary_cleaner.output.tail_sol  \\\n",
       "0                        2.534912                         7.476074   \n",
       "1                        3.049646                         6.733907   \n",
       "2                        3.124664                         6.471768   \n",
       "3                        2.960362                         6.843791   \n",
       "4                        3.112100                         6.550154   \n",
       "\n",
       "   primary_cleaner.output.tail_au  primary_cleaner.state.floatbank8_a_air  \\\n",
       "0                        2.106679                             1549.775757   \n",
       "1                        2.353017                             1576.166671   \n",
       "2                        2.416800                             1601.556163   \n",
       "3                        2.262051                             1599.968720   \n",
       "4                        2.277073                             1601.339707   \n",
       "\n",
       "   primary_cleaner.state.floatbank8_a_level  \\\n",
       "0                               -498.912140   \n",
       "1                               -500.904965   \n",
       "2                               -499.997791   \n",
       "3                               -500.951778   \n",
       "4                               -498.975456   \n",
       "\n",
       "   primary_cleaner.state.floatbank8_b_air  \\\n",
       "0                             1551.434204   \n",
       "1                             1575.950626   \n",
       "2                             1600.386685   \n",
       "3                             1600.659236   \n",
       "4                             1601.437854   \n",
       "\n",
       "   primary_cleaner.state.floatbank8_b_level  \\\n",
       "0                               -516.403442   \n",
       "1                               -499.865889   \n",
       "2                               -500.607762   \n",
       "3                               -499.677094   \n",
       "4                               -500.323246   \n",
       "\n",
       "   primary_cleaner.state.floatbank8_c_air  \\\n",
       "0                             1549.873901   \n",
       "1                             1575.994189   \n",
       "2                             1602.003542   \n",
       "3                             1600.304144   \n",
       "4                             1599.581894   \n",
       "\n",
       "   primary_cleaner.state.floatbank8_c_level  \\\n",
       "0                               -498.666595   \n",
       "1                               -499.315107   \n",
       "2                               -500.870069   \n",
       "3                               -500.727997   \n",
       "4                               -500.888152   \n",
       "\n",
       "   primary_cleaner.state.floatbank8_d_air  \\\n",
       "0                             1554.367432   \n",
       "1                             1574.479259   \n",
       "2                             1599.541515   \n",
       "3                             1600.449520   \n",
       "4                             1602.649541   \n",
       "\n",
       "   primary_cleaner.state.floatbank8_d_level  \\\n",
       "0                               -493.428131   \n",
       "1                               -498.931665   \n",
       "2                               -499.827444   \n",
       "3                               -500.052575   \n",
       "4                               -500.593010   \n",
       "\n",
       "   rougher.calculation.sulfate_to_au_concentrate  \\\n",
       "0                                   41885.707031   \n",
       "1                                   42050.861809   \n",
       "2                                   42018.101184   \n",
       "3                                   42029.447991   \n",
       "4                                   42125.354245   \n",
       "\n",
       "   rougher.calculation.floatbank10_sulfate_to_au_feed  \\\n",
       "0                                        3481.779053    \n",
       "1                                        3498.370979    \n",
       "2                                        3495.348910    \n",
       "3                                        3498.578313    \n",
       "4                                        3494.800771    \n",
       "\n",
       "   rougher.calculation.floatbank11_sulfate_to_au_feed  \\\n",
       "0                                        3520.337158    \n",
       "1                                        3489.981857    \n",
       "2                                        3502.359819    \n",
       "3                                        3499.162912    \n",
       "4                                        3506.679315    \n",
       "\n",
       "   rougher.calculation.au_pb_ratio  rougher.input.feed_ag  \\\n",
       "0                         2.838687               6.100378   \n",
       "1                         2.858998               6.161113   \n",
       "2                         2.945989               6.116455   \n",
       "3                         3.002340               6.043309   \n",
       "4                         3.169615               6.060915   \n",
       "\n",
       "   rougher.input.feed_pb  rougher.input.feed_rate  rougher.input.feed_size  \\\n",
       "0               2.284912               523.546326                55.486599   \n",
       "1               2.266033               525.290581                57.278666   \n",
       "2               2.159622               530.026610                57.510649   \n",
       "3               2.037807               542.590390                57.792734   \n",
       "4               1.786875               540.531893                56.047189   \n",
       "\n",
       "   rougher.input.feed_sol  rougher.input.feed_au  \\\n",
       "0               36.808594               6.486150   \n",
       "1               35.753385               6.478583   \n",
       "2               35.971630               6.362222   \n",
       "3               36.862241               6.118189   \n",
       "4               34.347666               5.663707   \n",
       "\n",
       "   rougher.input.floatbank10_sulfate  rougher.input.floatbank10_xanthate  \\\n",
       "0                          11.986616                            6.007990   \n",
       "1                          11.971193                            6.005766   \n",
       "2                          11.920603                            6.197377   \n",
       "3                          11.630094                            6.203177   \n",
       "4                          10.957755                            6.198826   \n",
       "\n",
       "   rougher.input.floatbank11_sulfate  rougher.input.floatbank11_xanthate  \\\n",
       "0                          11.836743                            6.005818   \n",
       "1                          11.996163                            6.012594   \n",
       "2                          11.920305                            6.204633   \n",
       "3                          11.692450                            6.196578   \n",
       "4                          10.960521                            6.194897   \n",
       "\n",
       "   rougher.output.concentrate_ag  rougher.output.concentrate_pb  \\\n",
       "0                      11.500771                       7.101074   \n",
       "1                      11.615865                       7.278807   \n",
       "2                      11.695753                       7.216833   \n",
       "3                      11.915047                       7.175616   \n",
       "4                      12.411054                       7.240205   \n",
       "\n",
       "   rougher.output.concentrate_sol  rougher.output.concentrate_au  \\\n",
       "0                       28.029297                      19.793808   \n",
       "1                       28.067063                      20.050975   \n",
       "2                       27.454037                      19.737170   \n",
       "3                       27.341277                      19.320810   \n",
       "4                       27.041023                      19.216101   \n",
       "\n",
       "   rougher.output.recovery  rougher.output.tail_ag  rougher.output.tail_pb  \\\n",
       "0                87.107763                5.008018                0.508728   \n",
       "1                86.843261                4.955378                0.536689   \n",
       "2                86.842308                4.843460                0.546416   \n",
       "3                87.226430                4.655288                0.542525   \n",
       "4                86.688794                4.552800                0.515438   \n",
       "\n",
       "   rougher.output.tail_sol  rougher.output.tail_au  \\\n",
       "0                19.154297                1.170244   \n",
       "1                18.965234                1.184827   \n",
       "2                18.808533                1.162562   \n",
       "3                19.330200                1.079755   \n",
       "4                19.267422                1.012642   \n",
       "\n",
       "   rougher.state.floatbank10_a_air  rougher.state.floatbank10_a_level  \\\n",
       "0                       999.706909                        -404.066986   \n",
       "1                      1000.286398                        -400.065196   \n",
       "2                       999.719565                        -400.074028   \n",
       "3                       999.814770                        -400.200179   \n",
       "4                       999.678690                        -399.752729   \n",
       "\n",
       "   rougher.state.floatbank10_b_air  rougher.state.floatbank10_b_level  \\\n",
       "0                      1603.011353                        -434.715027   \n",
       "1                      1600.754587                        -449.953435   \n",
       "2                      1599.337330                        -450.008530   \n",
       "3                      1600.059442                        -450.619948   \n",
       "4                      1600.208824                        -449.599614   \n",
       "\n",
       "   rougher.state.floatbank10_c_air  rougher.state.floatbank10_c_level  \\\n",
       "0                      1602.375000                        -442.204468   \n",
       "1                      1600.479580                        -449.830646   \n",
       "2                      1599.672797                        -449.954491   \n",
       "3                      1600.012842                        -449.910497   \n",
       "4                      1600.357732                        -450.034364   \n",
       "\n",
       "   rougher.state.floatbank10_d_air  rougher.state.floatbank10_d_level  \\\n",
       "0                      1598.937256                        -451.294128   \n",
       "1                      1600.527589                        -449.953649   \n",
       "2                      1599.849325                        -449.954185   \n",
       "3                      1597.725177                        -450.130127   \n",
       "4                      1599.759049                        -449.909799   \n",
       "\n",
       "   rougher.state.floatbank10_e_air  rougher.state.floatbank10_e_level  \\\n",
       "0                      1404.472046                        -455.462982   \n",
       "1                      1399.227084                        -450.869848   \n",
       "2                      1399.180945                        -449.937588   \n",
       "3                      1400.943157                        -450.030142   \n",
       "4                      1401.560902                        -448.877187   \n",
       "\n",
       "   rougher.state.floatbank10_f_air  rougher.state.floatbank10_f_level  \\\n",
       "0                      1416.354980                        -451.939636   \n",
       "1                      1399.719514                        -450.119001   \n",
       "2                      1400.316682                        -450.527147   \n",
       "3                      1400.234743                        -449.790835   \n",
       "4                      1401.160227                        -450.407128   \n",
       "\n",
       "   secondary_cleaner.output.tail_ag  secondary_cleaner.output.tail_pb  \\\n",
       "0                         14.500184                          4.694824   \n",
       "1                         14.265474                          4.592547   \n",
       "2                         14.115662                          4.624775   \n",
       "3                         13.732071                          4.482453   \n",
       "4                         14.079996                          4.470737   \n",
       "\n",
       "   secondary_cleaner.output.tail_sol  secondary_cleaner.output.tail_au  \\\n",
       "0                           8.764648                          2.606185   \n",
       "1                           9.001494                          2.488248   \n",
       "2                           8.842896                          2.458187   \n",
       "3                           9.122857                          2.322062   \n",
       "4                           8.871028                          2.330448   \n",
       "\n",
       "   secondary_cleaner.state.floatbank2_a_air  \\\n",
       "0                                 25.853109   \n",
       "1                                 25.880539   \n",
       "2                                 26.005245   \n",
       "3                                 25.942508   \n",
       "4                                 26.024787   \n",
       "\n",
       "   secondary_cleaner.state.floatbank2_a_level  \\\n",
       "0                                 -498.526489   \n",
       "1                                 -499.989656   \n",
       "2                                 -499.929616   \n",
       "3                                 -499.176749   \n",
       "4                                 -500.279091   \n",
       "\n",
       "   secondary_cleaner.state.floatbank2_b_air  \\\n",
       "0                                 23.893660   \n",
       "1                                 23.889530   \n",
       "2                                 23.886657   \n",
       "3                                 23.955516   \n",
       "4                                 23.955345   \n",
       "\n",
       "   secondary_cleaner.state.floatbank2_b_level  \\\n",
       "0                                 -501.406281   \n",
       "1                                 -500.372428   \n",
       "2                                 -499.951928   \n",
       "3                                 -499.848796   \n",
       "4                                 -500.593614   \n",
       "\n",
       "   secondary_cleaner.state.floatbank3_a_air  \\\n",
       "0                                 23.961798   \n",
       "1                                 23.970550   \n",
       "2                                 23.913535   \n",
       "3                                 23.966838   \n",
       "4                                 23.985703   \n",
       "\n",
       "   secondary_cleaner.state.floatbank3_a_level  \\\n",
       "0                                 -495.262817   \n",
       "1                                 -500.085473   \n",
       "2                                 -499.442343   \n",
       "3                                 -500.008812   \n",
       "4                                 -500.083811   \n",
       "\n",
       "   secondary_cleaner.state.floatbank3_b_air  \\\n",
       "0                                 21.940409   \n",
       "1                                 22.085714   \n",
       "2                                 23.957717   \n",
       "3                                 23.954443   \n",
       "4                                 23.958945   \n",
       "\n",
       "   secondary_cleaner.state.floatbank3_b_level  \\\n",
       "0                                 -499.340973   \n",
       "1                                 -499.446897   \n",
       "2                                 -499.901982   \n",
       "3                                 -499.944710   \n",
       "4                                 -499.990309   \n",
       "\n",
       "   secondary_cleaner.state.floatbank4_a_air  \\\n",
       "0                                 14.016835   \n",
       "1                                 13.992281   \n",
       "2                                 14.015015   \n",
       "3                                 14.036510   \n",
       "4                                 14.027298   \n",
       "\n",
       "   secondary_cleaner.state.floatbank4_a_level  \\\n",
       "0                                 -502.488007   \n",
       "1                                 -505.503262   \n",
       "2                                 -502.520901   \n",
       "3                                 -500.857308   \n",
       "4                                 -499.838632   \n",
       "\n",
       "   secondary_cleaner.state.floatbank4_b_air  \\\n",
       "0                                 12.099931   \n",
       "1                                 11.950531   \n",
       "2                                 11.912783   \n",
       "3                                 11.999550   \n",
       "4                                 11.953070   \n",
       "\n",
       "   secondary_cleaner.state.floatbank4_b_level  \\\n",
       "0                                 -504.715942   \n",
       "1                                 -501.331529   \n",
       "2                                 -501.133383   \n",
       "3                                 -501.193686   \n",
       "4                                 -501.053894   \n",
       "\n",
       "   secondary_cleaner.state.floatbank5_a_air  \\\n",
       "0                                  9.925633   \n",
       "1                                 10.039245   \n",
       "2                                 10.070913   \n",
       "3                                  9.970366   \n",
       "4                                  9.925709   \n",
       "\n",
       "   secondary_cleaner.state.floatbank5_a_level  \\\n",
       "0                                 -498.310211   \n",
       "1                                 -500.169983   \n",
       "2                                 -500.129135   \n",
       "3                                 -499.201640   \n",
       "4                                 -501.686727   \n",
       "\n",
       "   secondary_cleaner.state.floatbank5_b_air  \\\n",
       "0                                  8.079666   \n",
       "1                                  7.984757   \n",
       "2                                  8.013877   \n",
       "3                                  7.977324   \n",
       "4                                  7.894242   \n",
       "\n",
       "   secondary_cleaner.state.floatbank5_b_level  \\\n",
       "0                                 -500.470978   \n",
       "1                                 -500.582168   \n",
       "2                                 -500.517572   \n",
       "3                                 -500.255908   \n",
       "4                                 -500.356035   \n",
       "\n",
       "   secondary_cleaner.state.floatbank6_a_air  \\\n",
       "0                                 14.151341   \n",
       "1                                 13.998353   \n",
       "2                                 14.028663   \n",
       "3                                 14.005551   \n",
       "4                                 13.996647   \n",
       "\n",
       "   secondary_cleaner.state.floatbank6_a_level  \n",
       "0                                 -605.841980  \n",
       "1                                 -599.787184  \n",
       "2                                 -601.427363  \n",
       "3                                 -599.996129  \n",
       "4                                 -601.496691  "
      ]
     },
     "execution_count": 6,
     "metadata": {},
     "output_type": "execute_result"
    }
   ],
   "source": [
    "data_full.head()"
   ]
  },
  {
   "cell_type": "code",
   "execution_count": 7,
   "metadata": {
    "scrolled": true
   },
   "outputs": [
    {
     "data": {
      "text/html": [
       "<div>\n",
       "<style scoped>\n",
       "    .dataframe tbody tr th:only-of-type {\n",
       "        vertical-align: middle;\n",
       "    }\n",
       "\n",
       "    .dataframe tbody tr th {\n",
       "        vertical-align: top;\n",
       "    }\n",
       "\n",
       "    .dataframe thead th {\n",
       "        text-align: right;\n",
       "    }\n",
       "</style>\n",
       "<table border=\"1\" class=\"dataframe\">\n",
       "  <thead>\n",
       "    <tr style=\"text-align: right;\">\n",
       "      <th></th>\n",
       "      <th>final.output.concentrate_ag</th>\n",
       "      <th>final.output.concentrate_pb</th>\n",
       "      <th>final.output.concentrate_sol</th>\n",
       "      <th>final.output.concentrate_au</th>\n",
       "      <th>final.output.recovery</th>\n",
       "      <th>final.output.tail_ag</th>\n",
       "      <th>final.output.tail_pb</th>\n",
       "      <th>final.output.tail_sol</th>\n",
       "      <th>final.output.tail_au</th>\n",
       "      <th>primary_cleaner.input.sulfate</th>\n",
       "      <th>primary_cleaner.input.depressant</th>\n",
       "      <th>primary_cleaner.input.feed_size</th>\n",
       "      <th>primary_cleaner.input.xanthate</th>\n",
       "      <th>primary_cleaner.output.concentrate_ag</th>\n",
       "      <th>primary_cleaner.output.concentrate_pb</th>\n",
       "      <th>primary_cleaner.output.concentrate_sol</th>\n",
       "      <th>primary_cleaner.output.concentrate_au</th>\n",
       "      <th>primary_cleaner.output.tail_ag</th>\n",
       "      <th>primary_cleaner.output.tail_pb</th>\n",
       "      <th>primary_cleaner.output.tail_sol</th>\n",
       "      <th>primary_cleaner.output.tail_au</th>\n",
       "      <th>primary_cleaner.state.floatbank8_a_air</th>\n",
       "      <th>primary_cleaner.state.floatbank8_a_level</th>\n",
       "      <th>primary_cleaner.state.floatbank8_b_air</th>\n",
       "      <th>primary_cleaner.state.floatbank8_b_level</th>\n",
       "      <th>primary_cleaner.state.floatbank8_c_air</th>\n",
       "      <th>primary_cleaner.state.floatbank8_c_level</th>\n",
       "      <th>primary_cleaner.state.floatbank8_d_air</th>\n",
       "      <th>primary_cleaner.state.floatbank8_d_level</th>\n",
       "      <th>rougher.calculation.sulfate_to_au_concentrate</th>\n",
       "      <th>rougher.calculation.floatbank10_sulfate_to_au_feed</th>\n",
       "      <th>rougher.calculation.floatbank11_sulfate_to_au_feed</th>\n",
       "      <th>rougher.calculation.au_pb_ratio</th>\n",
       "      <th>rougher.input.feed_ag</th>\n",
       "      <th>rougher.input.feed_pb</th>\n",
       "      <th>rougher.input.feed_rate</th>\n",
       "      <th>rougher.input.feed_size</th>\n",
       "      <th>rougher.input.feed_sol</th>\n",
       "      <th>rougher.input.feed_au</th>\n",
       "      <th>rougher.input.floatbank10_sulfate</th>\n",
       "      <th>rougher.input.floatbank10_xanthate</th>\n",
       "      <th>rougher.input.floatbank11_sulfate</th>\n",
       "      <th>rougher.input.floatbank11_xanthate</th>\n",
       "      <th>rougher.output.concentrate_ag</th>\n",
       "      <th>rougher.output.concentrate_pb</th>\n",
       "      <th>rougher.output.concentrate_sol</th>\n",
       "      <th>rougher.output.concentrate_au</th>\n",
       "      <th>rougher.output.recovery</th>\n",
       "      <th>rougher.output.tail_ag</th>\n",
       "      <th>rougher.output.tail_pb</th>\n",
       "      <th>rougher.output.tail_sol</th>\n",
       "      <th>rougher.output.tail_au</th>\n",
       "      <th>rougher.state.floatbank10_a_air</th>\n",
       "      <th>rougher.state.floatbank10_a_level</th>\n",
       "      <th>rougher.state.floatbank10_b_air</th>\n",
       "      <th>rougher.state.floatbank10_b_level</th>\n",
       "      <th>rougher.state.floatbank10_c_air</th>\n",
       "      <th>rougher.state.floatbank10_c_level</th>\n",
       "      <th>rougher.state.floatbank10_d_air</th>\n",
       "      <th>rougher.state.floatbank10_d_level</th>\n",
       "      <th>rougher.state.floatbank10_e_air</th>\n",
       "      <th>rougher.state.floatbank10_e_level</th>\n",
       "      <th>rougher.state.floatbank10_f_air</th>\n",
       "      <th>rougher.state.floatbank10_f_level</th>\n",
       "      <th>secondary_cleaner.output.tail_ag</th>\n",
       "      <th>secondary_cleaner.output.tail_pb</th>\n",
       "      <th>secondary_cleaner.output.tail_sol</th>\n",
       "      <th>secondary_cleaner.output.tail_au</th>\n",
       "      <th>secondary_cleaner.state.floatbank2_a_air</th>\n",
       "      <th>secondary_cleaner.state.floatbank2_a_level</th>\n",
       "      <th>secondary_cleaner.state.floatbank2_b_air</th>\n",
       "      <th>secondary_cleaner.state.floatbank2_b_level</th>\n",
       "      <th>secondary_cleaner.state.floatbank3_a_air</th>\n",
       "      <th>secondary_cleaner.state.floatbank3_a_level</th>\n",
       "      <th>secondary_cleaner.state.floatbank3_b_air</th>\n",
       "      <th>secondary_cleaner.state.floatbank3_b_level</th>\n",
       "      <th>secondary_cleaner.state.floatbank4_a_air</th>\n",
       "      <th>secondary_cleaner.state.floatbank4_a_level</th>\n",
       "      <th>secondary_cleaner.state.floatbank4_b_air</th>\n",
       "      <th>secondary_cleaner.state.floatbank4_b_level</th>\n",
       "      <th>secondary_cleaner.state.floatbank5_a_air</th>\n",
       "      <th>secondary_cleaner.state.floatbank5_a_level</th>\n",
       "      <th>secondary_cleaner.state.floatbank5_b_air</th>\n",
       "      <th>secondary_cleaner.state.floatbank5_b_level</th>\n",
       "      <th>secondary_cleaner.state.floatbank6_a_air</th>\n",
       "      <th>secondary_cleaner.state.floatbank6_a_level</th>\n",
       "    </tr>\n",
       "  </thead>\n",
       "  <tbody>\n",
       "    <tr>\n",
       "      <th>count</th>\n",
       "      <td>19438.000000</td>\n",
       "      <td>19438.000000</td>\n",
       "      <td>19228.000000</td>\n",
       "      <td>19439.000000</td>\n",
       "      <td>19439.000000</td>\n",
       "      <td>19438.000000</td>\n",
       "      <td>19338.000000</td>\n",
       "      <td>19433.000000</td>\n",
       "      <td>19439.000000</td>\n",
       "      <td>19415.000000</td>\n",
       "      <td>19402.000000</td>\n",
       "      <td>19439.000000</td>\n",
       "      <td>19335.000000</td>\n",
       "      <td>19439.000000</td>\n",
       "      <td>19323.000000</td>\n",
       "      <td>19069.000000</td>\n",
       "      <td>19439.000000</td>\n",
       "      <td>19435.000000</td>\n",
       "      <td>19418.000000</td>\n",
       "      <td>19377.000000</td>\n",
       "      <td>19439.000000</td>\n",
       "      <td>1.943500e+04</td>\n",
       "      <td>19438.000000</td>\n",
       "      <td>1.943500e+04</td>\n",
       "      <td>19438.000000</td>\n",
       "      <td>1.943700e+04</td>\n",
       "      <td>19438.000000</td>\n",
       "      <td>1.943600e+04</td>\n",
       "      <td>19438.000000</td>\n",
       "      <td>1.943700e+04</td>\n",
       "      <td>19437.000000</td>\n",
       "      <td>19437.000000</td>\n",
       "      <td>19439.000000</td>\n",
       "      <td>19439.000000</td>\n",
       "      <td>19339.000000</td>\n",
       "      <td>19428.000000</td>\n",
       "      <td>19294.000000</td>\n",
       "      <td>19340.000000</td>\n",
       "      <td>19439.000000</td>\n",
       "      <td>19405.000000</td>\n",
       "      <td>19431.000000</td>\n",
       "      <td>19395.000000</td>\n",
       "      <td>18986.000000</td>\n",
       "      <td>19439.000000</td>\n",
       "      <td>19439.000000</td>\n",
       "      <td>19416.000000</td>\n",
       "      <td>19439.000000</td>\n",
       "      <td>19439.000000</td>\n",
       "      <td>19438.000000</td>\n",
       "      <td>19439.000000</td>\n",
       "      <td>19439.000000</td>\n",
       "      <td>19439.000000</td>\n",
       "      <td>19438.000000</td>\n",
       "      <td>19438.000000</td>\n",
       "      <td>19438.000000</td>\n",
       "      <td>19438.000000</td>\n",
       "      <td>19438.000000</td>\n",
       "      <td>19438.000000</td>\n",
       "      <td>19439.000000</td>\n",
       "      <td>19439.000000</td>\n",
       "      <td>19003.000000</td>\n",
       "      <td>19439.000000</td>\n",
       "      <td>19439.000000</td>\n",
       "      <td>19439.000000</td>\n",
       "      <td>19437.000000</td>\n",
       "      <td>19427.000000</td>\n",
       "      <td>17691.000000</td>\n",
       "      <td>19439.000000</td>\n",
       "      <td>19219.000000</td>\n",
       "      <td>19438.000000</td>\n",
       "      <td>19416.000000</td>\n",
       "      <td>19438.000000</td>\n",
       "      <td>19426.000000</td>\n",
       "      <td>19438.000000</td>\n",
       "      <td>19438.000000</td>\n",
       "      <td>19438.000000</td>\n",
       "      <td>19433.000000</td>\n",
       "      <td>19438.000000</td>\n",
       "      <td>19438.000000</td>\n",
       "      <td>19438.000000</td>\n",
       "      <td>19438.000000</td>\n",
       "      <td>19438.000000</td>\n",
       "      <td>19438.000000</td>\n",
       "      <td>19438.000000</td>\n",
       "      <td>19437.000000</td>\n",
       "      <td>19438.000000</td>\n",
       "    </tr>\n",
       "    <tr>\n",
       "      <th>mean</th>\n",
       "      <td>5.168470</td>\n",
       "      <td>9.978895</td>\n",
       "      <td>9.501224</td>\n",
       "      <td>44.076513</td>\n",
       "      <td>67.050208</td>\n",
       "      <td>9.688589</td>\n",
       "      <td>2.705795</td>\n",
       "      <td>10.583728</td>\n",
       "      <td>3.042467</td>\n",
       "      <td>144.624774</td>\n",
       "      <td>8.817039</td>\n",
       "      <td>7.307078</td>\n",
       "      <td>1.021795</td>\n",
       "      <td>8.442408</td>\n",
       "      <td>9.829530</td>\n",
       "      <td>10.489499</td>\n",
       "      <td>32.119400</td>\n",
       "      <td>16.145826</td>\n",
       "      <td>3.435656</td>\n",
       "      <td>7.973209</td>\n",
       "      <td>3.914179</td>\n",
       "      <td>1.589354e+03</td>\n",
       "      <td>-491.195012</td>\n",
       "      <td>1.591344e+03</td>\n",
       "      <td>-492.192978</td>\n",
       "      <td>1.586669e+03</td>\n",
       "      <td>-491.980070</td>\n",
       "      <td>1.542912e+03</td>\n",
       "      <td>-488.017382</td>\n",
       "      <td>4.217119e+04</td>\n",
       "      <td>3393.052498</td>\n",
       "      <td>3256.854171</td>\n",
       "      <td>2.420119</td>\n",
       "      <td>8.794927</td>\n",
       "      <td>3.598085</td>\n",
       "      <td>478.320042</td>\n",
       "      <td>58.970310</td>\n",
       "      <td>36.695114</td>\n",
       "      <td>8.266097</td>\n",
       "      <td>12.334373</td>\n",
       "      <td>6.021474</td>\n",
       "      <td>12.064140</td>\n",
       "      <td>6.065533</td>\n",
       "      <td>11.994759</td>\n",
       "      <td>7.606272</td>\n",
       "      <td>28.805571</td>\n",
       "      <td>19.772000</td>\n",
       "      <td>83.328587</td>\n",
       "      <td>5.588982</td>\n",
       "      <td>0.645782</td>\n",
       "      <td>18.057106</td>\n",
       "      <td>1.816391</td>\n",
       "      <td>1105.315068</td>\n",
       "      <td>-376.610690</td>\n",
       "      <td>1320.221139</td>\n",
       "      <td>-467.247826</td>\n",
       "      <td>1299.968799</td>\n",
       "      <td>-467.716946</td>\n",
       "      <td>1211.563299</td>\n",
       "      <td>-468.239912</td>\n",
       "      <td>1080.869685</td>\n",
       "      <td>-466.037742</td>\n",
       "      <td>1025.274256</td>\n",
       "      <td>-466.265327</td>\n",
       "      <td>14.586833</td>\n",
       "      <td>5.777703</td>\n",
       "      <td>7.167247</td>\n",
       "      <td>4.339625</td>\n",
       "      <td>28.705564</td>\n",
       "      <td>-502.367331</td>\n",
       "      <td>24.106800</td>\n",
       "      <td>-503.230712</td>\n",
       "      <td>28.199338</td>\n",
       "      <td>-486.203350</td>\n",
       "      <td>22.200645</td>\n",
       "      <td>-493.742107</td>\n",
       "      <td>18.987674</td>\n",
       "      <td>-485.894516</td>\n",
       "      <td>15.010366</td>\n",
       "      <td>-461.078636</td>\n",
       "      <td>15.694452</td>\n",
       "      <td>-488.684065</td>\n",
       "      <td>12.198224</td>\n",
       "      <td>-487.149827</td>\n",
       "      <td>18.959024</td>\n",
       "      <td>-505.436305</td>\n",
       "    </tr>\n",
       "    <tr>\n",
       "      <th>std</th>\n",
       "      <td>1.372348</td>\n",
       "      <td>1.669240</td>\n",
       "      <td>2.787537</td>\n",
       "      <td>5.129784</td>\n",
       "      <td>10.125840</td>\n",
       "      <td>2.328642</td>\n",
       "      <td>0.949077</td>\n",
       "      <td>2.868782</td>\n",
       "      <td>0.922808</td>\n",
       "      <td>44.464071</td>\n",
       "      <td>3.286186</td>\n",
       "      <td>0.613509</td>\n",
       "      <td>0.513254</td>\n",
       "      <td>2.054465</td>\n",
       "      <td>2.556843</td>\n",
       "      <td>3.909639</td>\n",
       "      <td>5.627611</td>\n",
       "      <td>3.548598</td>\n",
       "      <td>1.392536</td>\n",
       "      <td>2.212677</td>\n",
       "      <td>1.593034</td>\n",
       "      <td>1.289968e+02</td>\n",
       "      <td>32.431842</td>\n",
       "      <td>1.318109e+02</td>\n",
       "      <td>33.794822</td>\n",
       "      <td>1.361114e+02</td>\n",
       "      <td>32.711455</td>\n",
       "      <td>2.461996e+02</td>\n",
       "      <td>43.959780</td>\n",
       "      <td>3.243621e+05</td>\n",
       "      <td>4943.845943</td>\n",
       "      <td>5781.423659</td>\n",
       "      <td>0.814935</td>\n",
       "      <td>1.936847</td>\n",
       "      <td>1.049486</td>\n",
       "      <td>105.373758</td>\n",
       "      <td>21.634478</td>\n",
       "      <td>5.145445</td>\n",
       "      <td>1.955092</td>\n",
       "      <td>3.427317</td>\n",
       "      <td>1.127263</td>\n",
       "      <td>3.784221</td>\n",
       "      <td>1.099118</td>\n",
       "      <td>2.733862</td>\n",
       "      <td>1.796757</td>\n",
       "      <td>5.944207</td>\n",
       "      <td>3.753600</td>\n",
       "      <td>14.148086</td>\n",
       "      <td>1.111288</td>\n",
       "      <td>0.251526</td>\n",
       "      <td>3.449218</td>\n",
       "      <td>0.680046</td>\n",
       "      <td>160.826798</td>\n",
       "      <td>93.909667</td>\n",
       "      <td>176.287095</td>\n",
       "      <td>54.673142</td>\n",
       "      <td>202.804325</td>\n",
       "      <td>53.534825</td>\n",
       "      <td>204.019326</td>\n",
       "      <td>53.921458</td>\n",
       "      <td>172.149992</td>\n",
       "      <td>57.384424</td>\n",
       "      <td>164.487837</td>\n",
       "      <td>57.850263</td>\n",
       "      <td>4.265202</td>\n",
       "      <td>2.774598</td>\n",
       "      <td>3.916079</td>\n",
       "      <td>2.326751</td>\n",
       "      <td>5.458789</td>\n",
       "      <td>53.571950</td>\n",
       "      <td>5.749616</td>\n",
       "      <td>56.567724</td>\n",
       "      <td>6.134908</td>\n",
       "      <td>54.412349</td>\n",
       "      <td>5.574001</td>\n",
       "      <td>43.372158</td>\n",
       "      <td>5.411058</td>\n",
       "      <td>47.758570</td>\n",
       "      <td>4.890228</td>\n",
       "      <td>67.405524</td>\n",
       "      <td>5.510974</td>\n",
       "      <td>34.533396</td>\n",
       "      <td>5.333024</td>\n",
       "      <td>38.347312</td>\n",
       "      <td>5.550498</td>\n",
       "      <td>37.689057</td>\n",
       "    </tr>\n",
       "    <tr>\n",
       "      <th>min</th>\n",
       "      <td>0.000000</td>\n",
       "      <td>0.000000</td>\n",
       "      <td>0.000000</td>\n",
       "      <td>0.000000</td>\n",
       "      <td>0.000000</td>\n",
       "      <td>0.000000</td>\n",
       "      <td>0.000000</td>\n",
       "      <td>0.000000</td>\n",
       "      <td>0.000000</td>\n",
       "      <td>0.003112</td>\n",
       "      <td>0.000000</td>\n",
       "      <td>1.080000</td>\n",
       "      <td>0.000005</td>\n",
       "      <td>0.000000</td>\n",
       "      <td>0.000000</td>\n",
       "      <td>0.000000</td>\n",
       "      <td>0.000000</td>\n",
       "      <td>0.000000</td>\n",
       "      <td>0.000000</td>\n",
       "      <td>0.000000</td>\n",
       "      <td>0.000000</td>\n",
       "      <td>5.445860e-32</td>\n",
       "      <td>-798.641662</td>\n",
       "      <td>6.647490e-32</td>\n",
       "      <td>-799.997015</td>\n",
       "      <td>4.033736e-32</td>\n",
       "      <td>-799.960571</td>\n",
       "      <td>4.039220e-32</td>\n",
       "      <td>-799.794250</td>\n",
       "      <td>-4.223520e+07</td>\n",
       "      <td>-486.598675</td>\n",
       "      <td>-264.982785</td>\n",
       "      <td>-0.010548</td>\n",
       "      <td>0.010000</td>\n",
       "      <td>0.010000</td>\n",
       "      <td>0.002986</td>\n",
       "      <td>0.046369</td>\n",
       "      <td>0.010000</td>\n",
       "      <td>0.010000</td>\n",
       "      <td>0.001083</td>\n",
       "      <td>0.000568</td>\n",
       "      <td>0.000077</td>\n",
       "      <td>0.000290</td>\n",
       "      <td>0.000000</td>\n",
       "      <td>0.000000</td>\n",
       "      <td>0.000000</td>\n",
       "      <td>0.000000</td>\n",
       "      <td>0.000000</td>\n",
       "      <td>0.594562</td>\n",
       "      <td>0.007566</td>\n",
       "      <td>10.014648</td>\n",
       "      <td>0.020676</td>\n",
       "      <td>-0.042069</td>\n",
       "      <td>-657.949759</td>\n",
       "      <td>-0.721806</td>\n",
       "      <td>-650.260008</td>\n",
       "      <td>-0.056636</td>\n",
       "      <td>-647.544439</td>\n",
       "      <td>-0.992219</td>\n",
       "      <td>-648.390665</td>\n",
       "      <td>-1.982295</td>\n",
       "      <td>-649.443911</td>\n",
       "      <td>-2.593390</td>\n",
       "      <td>-649.949283</td>\n",
       "      <td>0.000000</td>\n",
       "      <td>0.000000</td>\n",
       "      <td>0.000000</td>\n",
       "      <td>0.000000</td>\n",
       "      <td>0.077503</td>\n",
       "      <td>-799.606441</td>\n",
       "      <td>0.000000</td>\n",
       "      <td>-799.873878</td>\n",
       "      <td>0.000000</td>\n",
       "      <td>-799.755798</td>\n",
       "      <td>0.000000</td>\n",
       "      <td>-809.333008</td>\n",
       "      <td>0.000000</td>\n",
       "      <td>-799.798523</td>\n",
       "      <td>0.000000</td>\n",
       "      <td>-800.836914</td>\n",
       "      <td>-0.372054</td>\n",
       "      <td>-797.323986</td>\n",
       "      <td>0.528083</td>\n",
       "      <td>-800.220337</td>\n",
       "      <td>-0.079426</td>\n",
       "      <td>-809.741464</td>\n",
       "    </tr>\n",
       "    <tr>\n",
       "      <th>25%</th>\n",
       "      <td>4.251240</td>\n",
       "      <td>9.137262</td>\n",
       "      <td>7.722820</td>\n",
       "      <td>43.402215</td>\n",
       "      <td>63.299712</td>\n",
       "      <td>8.062878</td>\n",
       "      <td>2.040119</td>\n",
       "      <td>8.938947</td>\n",
       "      <td>2.461138</td>\n",
       "      <td>114.107029</td>\n",
       "      <td>6.076909</td>\n",
       "      <td>6.940000</td>\n",
       "      <td>0.697224</td>\n",
       "      <td>7.263288</td>\n",
       "      <td>8.702328</td>\n",
       "      <td>7.893893</td>\n",
       "      <td>30.463140</td>\n",
       "      <td>14.017742</td>\n",
       "      <td>2.504365</td>\n",
       "      <td>6.747483</td>\n",
       "      <td>2.924844</td>\n",
       "      <td>1.505063e+03</td>\n",
       "      <td>-500.308544</td>\n",
       "      <td>1.503630e+03</td>\n",
       "      <td>-500.437171</td>\n",
       "      <td>1.500927e+03</td>\n",
       "      <td>-500.703932</td>\n",
       "      <td>1.494219e+03</td>\n",
       "      <td>-500.458365</td>\n",
       "      <td>4.070095e+04</td>\n",
       "      <td>2611.425833</td>\n",
       "      <td>2551.437587</td>\n",
       "      <td>2.035434</td>\n",
       "      <td>7.237967</td>\n",
       "      <td>2.887280</td>\n",
       "      <td>416.525453</td>\n",
       "      <td>47.435103</td>\n",
       "      <td>34.207799</td>\n",
       "      <td>6.854384</td>\n",
       "      <td>10.000362</td>\n",
       "      <td>5.398678</td>\n",
       "      <td>9.998460</td>\n",
       "      <td>5.402368</td>\n",
       "      <td>10.628337</td>\n",
       "      <td>6.725987</td>\n",
       "      <td>27.224120</td>\n",
       "      <td>18.802523</td>\n",
       "      <td>81.037957</td>\n",
       "      <td>4.889892</td>\n",
       "      <td>0.477728</td>\n",
       "      <td>15.822525</td>\n",
       "      <td>1.404207</td>\n",
       "      <td>999.661867</td>\n",
       "      <td>-499.835165</td>\n",
       "      <td>1199.626115</td>\n",
       "      <td>-500.201130</td>\n",
       "      <td>1151.076301</td>\n",
       "      <td>-500.217218</td>\n",
       "      <td>1061.051788</td>\n",
       "      <td>-500.386386</td>\n",
       "      <td>998.675263</td>\n",
       "      <td>-500.232191</td>\n",
       "      <td>900.995511</td>\n",
       "      <td>-500.522553</td>\n",
       "      <td>12.640239</td>\n",
       "      <td>3.864733</td>\n",
       "      <td>3.845475</td>\n",
       "      <td>3.182770</td>\n",
       "      <td>25.048462</td>\n",
       "      <td>-500.233700</td>\n",
       "      <td>20.919853</td>\n",
       "      <td>-500.253794</td>\n",
       "      <td>24.949227</td>\n",
       "      <td>-500.213546</td>\n",
       "      <td>18.995924</td>\n",
       "      <td>-500.123034</td>\n",
       "      <td>14.975734</td>\n",
       "      <td>-500.704892</td>\n",
       "      <td>11.940294</td>\n",
       "      <td>-500.187742</td>\n",
       "      <td>10.988606</td>\n",
       "      <td>-500.458467</td>\n",
       "      <td>8.971105</td>\n",
       "      <td>-500.129462</td>\n",
       "      <td>14.983037</td>\n",
       "      <td>-500.728067</td>\n",
       "    </tr>\n",
       "    <tr>\n",
       "      <th>50%</th>\n",
       "      <td>5.066094</td>\n",
       "      <td>10.102433</td>\n",
       "      <td>9.218961</td>\n",
       "      <td>45.011244</td>\n",
       "      <td>68.172738</td>\n",
       "      <td>9.743623</td>\n",
       "      <td>2.748730</td>\n",
       "      <td>10.622456</td>\n",
       "      <td>2.984909</td>\n",
       "      <td>143.232103</td>\n",
       "      <td>8.038311</td>\n",
       "      <td>7.280000</td>\n",
       "      <td>0.940863</td>\n",
       "      <td>8.507298</td>\n",
       "      <td>10.152433</td>\n",
       "      <td>10.314632</td>\n",
       "      <td>32.841295</td>\n",
       "      <td>15.842836</td>\n",
       "      <td>3.271153</td>\n",
       "      <td>8.183673</td>\n",
       "      <td>3.623234</td>\n",
       "      <td>1.600597e+03</td>\n",
       "      <td>-499.926134</td>\n",
       "      <td>1.600521e+03</td>\n",
       "      <td>-499.956767</td>\n",
       "      <td>1.600254e+03</td>\n",
       "      <td>-499.909524</td>\n",
       "      <td>1.599447e+03</td>\n",
       "      <td>-499.905974</td>\n",
       "      <td>4.469648e+04</td>\n",
       "      <td>3018.353876</td>\n",
       "      <td>2997.218088</td>\n",
       "      <td>2.309665</td>\n",
       "      <td>8.593574</td>\n",
       "      <td>3.534895</td>\n",
       "      <td>499.416120</td>\n",
       "      <td>54.610197</td>\n",
       "      <td>37.202650</td>\n",
       "      <td>8.125839</td>\n",
       "      <td>12.001174</td>\n",
       "      <td>6.008273</td>\n",
       "      <td>12.000204</td>\n",
       "      <td>6.098580</td>\n",
       "      <td>12.098115</td>\n",
       "      <td>7.742580</td>\n",
       "      <td>29.835345</td>\n",
       "      <td>20.280214</td>\n",
       "      <td>86.188892</td>\n",
       "      <td>5.765802</td>\n",
       "      <td>0.617465</td>\n",
       "      <td>18.106867</td>\n",
       "      <td>1.808170</td>\n",
       "      <td>1001.072890</td>\n",
       "      <td>-300.263994</td>\n",
       "      <td>1301.579988</td>\n",
       "      <td>-499.784045</td>\n",
       "      <td>1300.211537</td>\n",
       "      <td>-499.713364</td>\n",
       "      <td>1201.569141</td>\n",
       "      <td>-499.532412</td>\n",
       "      <td>1050.029461</td>\n",
       "      <td>-499.663089</td>\n",
       "      <td>999.924821</td>\n",
       "      <td>-499.471777</td>\n",
       "      <td>15.641902</td>\n",
       "      <td>5.344073</td>\n",
       "      <td>7.685827</td>\n",
       "      <td>4.072412</td>\n",
       "      <td>29.099943</td>\n",
       "      <td>-499.973250</td>\n",
       "      <td>25.043289</td>\n",
       "      <td>-500.015439</td>\n",
       "      <td>27.982129</td>\n",
       "      <td>-499.930680</td>\n",
       "      <td>22.011231</td>\n",
       "      <td>-499.981902</td>\n",
       "      <td>18.017481</td>\n",
       "      <td>-499.837793</td>\n",
       "      <td>14.971014</td>\n",
       "      <td>-499.459786</td>\n",
       "      <td>15.000036</td>\n",
       "      <td>-499.802605</td>\n",
       "      <td>11.019433</td>\n",
       "      <td>-499.935317</td>\n",
       "      <td>19.960541</td>\n",
       "      <td>-500.048400</td>\n",
       "    </tr>\n",
       "    <tr>\n",
       "      <th>75%</th>\n",
       "      <td>5.895527</td>\n",
       "      <td>11.035769</td>\n",
       "      <td>10.947813</td>\n",
       "      <td>46.275313</td>\n",
       "      <td>72.686642</td>\n",
       "      <td>11.134294</td>\n",
       "      <td>3.333216</td>\n",
       "      <td>12.104271</td>\n",
       "      <td>3.571351</td>\n",
       "      <td>175.075656</td>\n",
       "      <td>11.013521</td>\n",
       "      <td>7.670000</td>\n",
       "      <td>1.210990</td>\n",
       "      <td>9.809001</td>\n",
       "      <td>11.424971</td>\n",
       "      <td>13.446702</td>\n",
       "      <td>35.048006</td>\n",
       "      <td>18.013975</td>\n",
       "      <td>4.181748</td>\n",
       "      <td>9.548586</td>\n",
       "      <td>4.585705</td>\n",
       "      <td>1.697658e+03</td>\n",
       "      <td>-499.433950</td>\n",
       "      <td>1.699218e+03</td>\n",
       "      <td>-499.373336</td>\n",
       "      <td>1.699483e+03</td>\n",
       "      <td>-498.857643</td>\n",
       "      <td>1.698525e+03</td>\n",
       "      <td>-499.064695</td>\n",
       "      <td>4.816821e+04</td>\n",
       "      <td>3676.769750</td>\n",
       "      <td>3601.998911</td>\n",
       "      <td>2.731794</td>\n",
       "      <td>10.213771</td>\n",
       "      <td>4.244161</td>\n",
       "      <td>550.172183</td>\n",
       "      <td>65.023044</td>\n",
       "      <td>40.039133</td>\n",
       "      <td>9.769917</td>\n",
       "      <td>14.716595</td>\n",
       "      <td>6.798051</td>\n",
       "      <td>14.636766</td>\n",
       "      <td>6.801233</td>\n",
       "      <td>13.736996</td>\n",
       "      <td>8.565199</td>\n",
       "      <td>32.189933</td>\n",
       "      <td>21.717843</td>\n",
       "      <td>90.010670</td>\n",
       "      <td>6.389234</td>\n",
       "      <td>0.778271</td>\n",
       "      <td>20.088151</td>\n",
       "      <td>2.211861</td>\n",
       "      <td>1205.620588</td>\n",
       "      <td>-299.981998</td>\n",
       "      <td>1448.630789</td>\n",
       "      <td>-400.615589</td>\n",
       "      <td>1449.464001</td>\n",
       "      <td>-400.985743</td>\n",
       "      <td>1352.880320</td>\n",
       "      <td>-401.638550</td>\n",
       "      <td>1199.425140</td>\n",
       "      <td>-401.161191</td>\n",
       "      <td>1099.719692</td>\n",
       "      <td>-401.511042</td>\n",
       "      <td>17.358217</td>\n",
       "      <td>7.788467</td>\n",
       "      <td>10.411296</td>\n",
       "      <td>5.063081</td>\n",
       "      <td>33.012536</td>\n",
       "      <td>-499.671261</td>\n",
       "      <td>28.008197</td>\n",
       "      <td>-499.785698</td>\n",
       "      <td>33.002798</td>\n",
       "      <td>-499.325739</td>\n",
       "      <td>25.998206</td>\n",
       "      <td>-499.812834</td>\n",
       "      <td>23.012470</td>\n",
       "      <td>-498.249730</td>\n",
       "      <td>19.034162</td>\n",
       "      <td>-400.118106</td>\n",
       "      <td>18.026190</td>\n",
       "      <td>-498.384187</td>\n",
       "      <td>14.019088</td>\n",
       "      <td>-499.436708</td>\n",
       "      <td>24.003170</td>\n",
       "      <td>-499.495378</td>\n",
       "    </tr>\n",
       "    <tr>\n",
       "      <th>max</th>\n",
       "      <td>16.001945</td>\n",
       "      <td>17.031899</td>\n",
       "      <td>19.615720</td>\n",
       "      <td>52.756638</td>\n",
       "      <td>100.000000</td>\n",
       "      <td>19.552149</td>\n",
       "      <td>5.804178</td>\n",
       "      <td>22.317730</td>\n",
       "      <td>8.245022</td>\n",
       "      <td>265.983123</td>\n",
       "      <td>40.000000</td>\n",
       "      <td>15.500000</td>\n",
       "      <td>4.102454</td>\n",
       "      <td>16.081632</td>\n",
       "      <td>17.081278</td>\n",
       "      <td>22.458114</td>\n",
       "      <td>45.933934</td>\n",
       "      <td>29.459575</td>\n",
       "      <td>9.634565</td>\n",
       "      <td>22.276364</td>\n",
       "      <td>17.788925</td>\n",
       "      <td>2.103104e+03</td>\n",
       "      <td>-57.195404</td>\n",
       "      <td>2.114907e+03</td>\n",
       "      <td>-142.527229</td>\n",
       "      <td>2.013156e+03</td>\n",
       "      <td>-150.937035</td>\n",
       "      <td>2.398904e+03</td>\n",
       "      <td>-30.601828</td>\n",
       "      <td>3.428099e+06</td>\n",
       "      <td>629638.977914</td>\n",
       "      <td>718684.955855</td>\n",
       "      <td>39.379272</td>\n",
       "      <td>14.596026</td>\n",
       "      <td>7.142594</td>\n",
       "      <td>717.508837</td>\n",
       "      <td>484.967466</td>\n",
       "      <td>53.477742</td>\n",
       "      <td>13.731330</td>\n",
       "      <td>36.118275</td>\n",
       "      <td>9.703448</td>\n",
       "      <td>37.980648</td>\n",
       "      <td>9.698407</td>\n",
       "      <td>24.480271</td>\n",
       "      <td>13.617072</td>\n",
       "      <td>38.351193</td>\n",
       "      <td>28.824507</td>\n",
       "      <td>100.000000</td>\n",
       "      <td>12.719177</td>\n",
       "      <td>3.778064</td>\n",
       "      <td>66.117188</td>\n",
       "      <td>9.688980</td>\n",
       "      <td>1521.980372</td>\n",
       "      <td>-273.776101</td>\n",
       "      <td>1809.194008</td>\n",
       "      <td>-296.383080</td>\n",
       "      <td>2499.129174</td>\n",
       "      <td>-292.155509</td>\n",
       "      <td>1817.199290</td>\n",
       "      <td>-76.397327</td>\n",
       "      <td>1922.636637</td>\n",
       "      <td>-139.753025</td>\n",
       "      <td>1706.307502</td>\n",
       "      <td>-191.718480</td>\n",
       "      <td>23.264738</td>\n",
       "      <td>17.042505</td>\n",
       "      <td>26.000772</td>\n",
       "      <td>26.811643</td>\n",
       "      <td>52.651399</td>\n",
       "      <td>-127.875565</td>\n",
       "      <td>35.152122</td>\n",
       "      <td>-211.999273</td>\n",
       "      <td>44.260464</td>\n",
       "      <td>-191.678810</td>\n",
       "      <td>35.072841</td>\n",
       "      <td>-159.742331</td>\n",
       "      <td>30.115735</td>\n",
       "      <td>-245.239184</td>\n",
       "      <td>31.269706</td>\n",
       "      <td>-6.506986</td>\n",
       "      <td>43.709931</td>\n",
       "      <td>-244.483566</td>\n",
       "      <td>27.926001</td>\n",
       "      <td>-137.740004</td>\n",
       "      <td>32.188906</td>\n",
       "      <td>-104.427459</td>\n",
       "    </tr>\n",
       "  </tbody>\n",
       "</table>\n",
       "</div>"
      ],
      "text/plain": [
       "       final.output.concentrate_ag  final.output.concentrate_pb  \\\n",
       "count                 19438.000000                 19438.000000   \n",
       "mean                      5.168470                     9.978895   \n",
       "std                       1.372348                     1.669240   \n",
       "min                       0.000000                     0.000000   \n",
       "25%                       4.251240                     9.137262   \n",
       "50%                       5.066094                    10.102433   \n",
       "75%                       5.895527                    11.035769   \n",
       "max                      16.001945                    17.031899   \n",
       "\n",
       "       final.output.concentrate_sol  final.output.concentrate_au  \\\n",
       "count                  19228.000000                 19439.000000   \n",
       "mean                       9.501224                    44.076513   \n",
       "std                        2.787537                     5.129784   \n",
       "min                        0.000000                     0.000000   \n",
       "25%                        7.722820                    43.402215   \n",
       "50%                        9.218961                    45.011244   \n",
       "75%                       10.947813                    46.275313   \n",
       "max                       19.615720                    52.756638   \n",
       "\n",
       "       final.output.recovery  final.output.tail_ag  final.output.tail_pb  \\\n",
       "count           19439.000000          19438.000000          19338.000000   \n",
       "mean               67.050208              9.688589              2.705795   \n",
       "std                10.125840              2.328642              0.949077   \n",
       "min                 0.000000              0.000000              0.000000   \n",
       "25%                63.299712              8.062878              2.040119   \n",
       "50%                68.172738              9.743623              2.748730   \n",
       "75%                72.686642             11.134294              3.333216   \n",
       "max               100.000000             19.552149              5.804178   \n",
       "\n",
       "       final.output.tail_sol  final.output.tail_au  \\\n",
       "count           19433.000000          19439.000000   \n",
       "mean               10.583728              3.042467   \n",
       "std                 2.868782              0.922808   \n",
       "min                 0.000000              0.000000   \n",
       "25%                 8.938947              2.461138   \n",
       "50%                10.622456              2.984909   \n",
       "75%                12.104271              3.571351   \n",
       "max                22.317730              8.245022   \n",
       "\n",
       "       primary_cleaner.input.sulfate  primary_cleaner.input.depressant  \\\n",
       "count                   19415.000000                      19402.000000   \n",
       "mean                      144.624774                          8.817039   \n",
       "std                        44.464071                          3.286186   \n",
       "min                         0.003112                          0.000000   \n",
       "25%                       114.107029                          6.076909   \n",
       "50%                       143.232103                          8.038311   \n",
       "75%                       175.075656                         11.013521   \n",
       "max                       265.983123                         40.000000   \n",
       "\n",
       "       primary_cleaner.input.feed_size  primary_cleaner.input.xanthate  \\\n",
       "count                     19439.000000                    19335.000000   \n",
       "mean                          7.307078                        1.021795   \n",
       "std                           0.613509                        0.513254   \n",
       "min                           1.080000                        0.000005   \n",
       "25%                           6.940000                        0.697224   \n",
       "50%                           7.280000                        0.940863   \n",
       "75%                           7.670000                        1.210990   \n",
       "max                          15.500000                        4.102454   \n",
       "\n",
       "       primary_cleaner.output.concentrate_ag  \\\n",
       "count                           19439.000000   \n",
       "mean                                8.442408   \n",
       "std                                 2.054465   \n",
       "min                                 0.000000   \n",
       "25%                                 7.263288   \n",
       "50%                                 8.507298   \n",
       "75%                                 9.809001   \n",
       "max                                16.081632   \n",
       "\n",
       "       primary_cleaner.output.concentrate_pb  \\\n",
       "count                           19323.000000   \n",
       "mean                                9.829530   \n",
       "std                                 2.556843   \n",
       "min                                 0.000000   \n",
       "25%                                 8.702328   \n",
       "50%                                10.152433   \n",
       "75%                                11.424971   \n",
       "max                                17.081278   \n",
       "\n",
       "       primary_cleaner.output.concentrate_sol  \\\n",
       "count                            19069.000000   \n",
       "mean                                10.489499   \n",
       "std                                  3.909639   \n",
       "min                                  0.000000   \n",
       "25%                                  7.893893   \n",
       "50%                                 10.314632   \n",
       "75%                                 13.446702   \n",
       "max                                 22.458114   \n",
       "\n",
       "       primary_cleaner.output.concentrate_au  primary_cleaner.output.tail_ag  \\\n",
       "count                           19439.000000                    19435.000000   \n",
       "mean                               32.119400                       16.145826   \n",
       "std                                 5.627611                        3.548598   \n",
       "min                                 0.000000                        0.000000   \n",
       "25%                                30.463140                       14.017742   \n",
       "50%                                32.841295                       15.842836   \n",
       "75%                                35.048006                       18.013975   \n",
       "max                                45.933934                       29.459575   \n",
       "\n",
       "       primary_cleaner.output.tail_pb  primary_cleaner.output.tail_sol  \\\n",
       "count                    19418.000000                     19377.000000   \n",
       "mean                         3.435656                         7.973209   \n",
       "std                          1.392536                         2.212677   \n",
       "min                          0.000000                         0.000000   \n",
       "25%                          2.504365                         6.747483   \n",
       "50%                          3.271153                         8.183673   \n",
       "75%                          4.181748                         9.548586   \n",
       "max                          9.634565                        22.276364   \n",
       "\n",
       "       primary_cleaner.output.tail_au  primary_cleaner.state.floatbank8_a_air  \\\n",
       "count                    19439.000000                            1.943500e+04   \n",
       "mean                         3.914179                            1.589354e+03   \n",
       "std                          1.593034                            1.289968e+02   \n",
       "min                          0.000000                            5.445860e-32   \n",
       "25%                          2.924844                            1.505063e+03   \n",
       "50%                          3.623234                            1.600597e+03   \n",
       "75%                          4.585705                            1.697658e+03   \n",
       "max                         17.788925                            2.103104e+03   \n",
       "\n",
       "       primary_cleaner.state.floatbank8_a_level  \\\n",
       "count                              19438.000000   \n",
       "mean                                -491.195012   \n",
       "std                                   32.431842   \n",
       "min                                 -798.641662   \n",
       "25%                                 -500.308544   \n",
       "50%                                 -499.926134   \n",
       "75%                                 -499.433950   \n",
       "max                                  -57.195404   \n",
       "\n",
       "       primary_cleaner.state.floatbank8_b_air  \\\n",
       "count                            1.943500e+04   \n",
       "mean                             1.591344e+03   \n",
       "std                              1.318109e+02   \n",
       "min                              6.647490e-32   \n",
       "25%                              1.503630e+03   \n",
       "50%                              1.600521e+03   \n",
       "75%                              1.699218e+03   \n",
       "max                              2.114907e+03   \n",
       "\n",
       "       primary_cleaner.state.floatbank8_b_level  \\\n",
       "count                              19438.000000   \n",
       "mean                                -492.192978   \n",
       "std                                   33.794822   \n",
       "min                                 -799.997015   \n",
       "25%                                 -500.437171   \n",
       "50%                                 -499.956767   \n",
       "75%                                 -499.373336   \n",
       "max                                 -142.527229   \n",
       "\n",
       "       primary_cleaner.state.floatbank8_c_air  \\\n",
       "count                            1.943700e+04   \n",
       "mean                             1.586669e+03   \n",
       "std                              1.361114e+02   \n",
       "min                              4.033736e-32   \n",
       "25%                              1.500927e+03   \n",
       "50%                              1.600254e+03   \n",
       "75%                              1.699483e+03   \n",
       "max                              2.013156e+03   \n",
       "\n",
       "       primary_cleaner.state.floatbank8_c_level  \\\n",
       "count                              19438.000000   \n",
       "mean                                -491.980070   \n",
       "std                                   32.711455   \n",
       "min                                 -799.960571   \n",
       "25%                                 -500.703932   \n",
       "50%                                 -499.909524   \n",
       "75%                                 -498.857643   \n",
       "max                                 -150.937035   \n",
       "\n",
       "       primary_cleaner.state.floatbank8_d_air  \\\n",
       "count                            1.943600e+04   \n",
       "mean                             1.542912e+03   \n",
       "std                              2.461996e+02   \n",
       "min                              4.039220e-32   \n",
       "25%                              1.494219e+03   \n",
       "50%                              1.599447e+03   \n",
       "75%                              1.698525e+03   \n",
       "max                              2.398904e+03   \n",
       "\n",
       "       primary_cleaner.state.floatbank8_d_level  \\\n",
       "count                              19438.000000   \n",
       "mean                                -488.017382   \n",
       "std                                   43.959780   \n",
       "min                                 -799.794250   \n",
       "25%                                 -500.458365   \n",
       "50%                                 -499.905974   \n",
       "75%                                 -499.064695   \n",
       "max                                  -30.601828   \n",
       "\n",
       "       rougher.calculation.sulfate_to_au_concentrate  \\\n",
       "count                                   1.943700e+04   \n",
       "mean                                    4.217119e+04   \n",
       "std                                     3.243621e+05   \n",
       "min                                    -4.223520e+07   \n",
       "25%                                     4.070095e+04   \n",
       "50%                                     4.469648e+04   \n",
       "75%                                     4.816821e+04   \n",
       "max                                     3.428099e+06   \n",
       "\n",
       "       rougher.calculation.floatbank10_sulfate_to_au_feed  \\\n",
       "count                                       19437.000000    \n",
       "mean                                         3393.052498    \n",
       "std                                          4943.845943    \n",
       "min                                          -486.598675    \n",
       "25%                                          2611.425833    \n",
       "50%                                          3018.353876    \n",
       "75%                                          3676.769750    \n",
       "max                                        629638.977914    \n",
       "\n",
       "       rougher.calculation.floatbank11_sulfate_to_au_feed  \\\n",
       "count                                       19437.000000    \n",
       "mean                                         3256.854171    \n",
       "std                                          5781.423659    \n",
       "min                                          -264.982785    \n",
       "25%                                          2551.437587    \n",
       "50%                                          2997.218088    \n",
       "75%                                          3601.998911    \n",
       "max                                        718684.955855    \n",
       "\n",
       "       rougher.calculation.au_pb_ratio  rougher.input.feed_ag  \\\n",
       "count                     19439.000000           19439.000000   \n",
       "mean                          2.420119               8.794927   \n",
       "std                           0.814935               1.936847   \n",
       "min                          -0.010548               0.010000   \n",
       "25%                           2.035434               7.237967   \n",
       "50%                           2.309665               8.593574   \n",
       "75%                           2.731794              10.213771   \n",
       "max                          39.379272              14.596026   \n",
       "\n",
       "       rougher.input.feed_pb  rougher.input.feed_rate  \\\n",
       "count           19339.000000             19428.000000   \n",
       "mean                3.598085               478.320042   \n",
       "std                 1.049486               105.373758   \n",
       "min                 0.010000                 0.002986   \n",
       "25%                 2.887280               416.525453   \n",
       "50%                 3.534895               499.416120   \n",
       "75%                 4.244161               550.172183   \n",
       "max                 7.142594               717.508837   \n",
       "\n",
       "       rougher.input.feed_size  rougher.input.feed_sol  rougher.input.feed_au  \\\n",
       "count             19294.000000            19340.000000           19439.000000   \n",
       "mean                 58.970310               36.695114               8.266097   \n",
       "std                  21.634478                5.145445               1.955092   \n",
       "min                   0.046369                0.010000               0.010000   \n",
       "25%                  47.435103               34.207799               6.854384   \n",
       "50%                  54.610197               37.202650               8.125839   \n",
       "75%                  65.023044               40.039133               9.769917   \n",
       "max                 484.967466               53.477742              13.731330   \n",
       "\n",
       "       rougher.input.floatbank10_sulfate  rougher.input.floatbank10_xanthate  \\\n",
       "count                       19405.000000                        19431.000000   \n",
       "mean                           12.334373                            6.021474   \n",
       "std                             3.427317                            1.127263   \n",
       "min                             0.001083                            0.000568   \n",
       "25%                            10.000362                            5.398678   \n",
       "50%                            12.001174                            6.008273   \n",
       "75%                            14.716595                            6.798051   \n",
       "max                            36.118275                            9.703448   \n",
       "\n",
       "       rougher.input.floatbank11_sulfate  rougher.input.floatbank11_xanthate  \\\n",
       "count                       19395.000000                        18986.000000   \n",
       "mean                           12.064140                            6.065533   \n",
       "std                             3.784221                            1.099118   \n",
       "min                             0.000077                            0.000290   \n",
       "25%                             9.998460                            5.402368   \n",
       "50%                            12.000204                            6.098580   \n",
       "75%                            14.636766                            6.801233   \n",
       "max                            37.980648                            9.698407   \n",
       "\n",
       "       rougher.output.concentrate_ag  rougher.output.concentrate_pb  \\\n",
       "count                   19439.000000                   19439.000000   \n",
       "mean                       11.994759                       7.606272   \n",
       "std                         2.733862                       1.796757   \n",
       "min                         0.000000                       0.000000   \n",
       "25%                        10.628337                       6.725987   \n",
       "50%                        12.098115                       7.742580   \n",
       "75%                        13.736996                       8.565199   \n",
       "max                        24.480271                      13.617072   \n",
       "\n",
       "       rougher.output.concentrate_sol  rougher.output.concentrate_au  \\\n",
       "count                    19416.000000                   19439.000000   \n",
       "mean                        28.805571                      19.772000   \n",
       "std                          5.944207                       3.753600   \n",
       "min                          0.000000                       0.000000   \n",
       "25%                         27.224120                      18.802523   \n",
       "50%                         29.835345                      20.280214   \n",
       "75%                         32.189933                      21.717843   \n",
       "max                         38.351193                      28.824507   \n",
       "\n",
       "       rougher.output.recovery  rougher.output.tail_ag  \\\n",
       "count             19439.000000            19438.000000   \n",
       "mean                 83.328587                5.588982   \n",
       "std                  14.148086                1.111288   \n",
       "min                   0.000000                0.594562   \n",
       "25%                  81.037957                4.889892   \n",
       "50%                  86.188892                5.765802   \n",
       "75%                  90.010670                6.389234   \n",
       "max                 100.000000               12.719177   \n",
       "\n",
       "       rougher.output.tail_pb  rougher.output.tail_sol  \\\n",
       "count            19439.000000             19439.000000   \n",
       "mean                 0.645782                18.057106   \n",
       "std                  0.251526                 3.449218   \n",
       "min                  0.007566                10.014648   \n",
       "25%                  0.477728                15.822525   \n",
       "50%                  0.617465                18.106867   \n",
       "75%                  0.778271                20.088151   \n",
       "max                  3.778064                66.117188   \n",
       "\n",
       "       rougher.output.tail_au  rougher.state.floatbank10_a_air  \\\n",
       "count            19439.000000                     19438.000000   \n",
       "mean                 1.816391                      1105.315068   \n",
       "std                  0.680046                       160.826798   \n",
       "min                  0.020676                        -0.042069   \n",
       "25%                  1.404207                       999.661867   \n",
       "50%                  1.808170                      1001.072890   \n",
       "75%                  2.211861                      1205.620588   \n",
       "max                  9.688980                      1521.980372   \n",
       "\n",
       "       rougher.state.floatbank10_a_level  rougher.state.floatbank10_b_air  \\\n",
       "count                       19438.000000                     19438.000000   \n",
       "mean                         -376.610690                      1320.221139   \n",
       "std                            93.909667                       176.287095   \n",
       "min                          -657.949759                        -0.721806   \n",
       "25%                          -499.835165                      1199.626115   \n",
       "50%                          -300.263994                      1301.579988   \n",
       "75%                          -299.981998                      1448.630789   \n",
       "max                          -273.776101                      1809.194008   \n",
       "\n",
       "       rougher.state.floatbank10_b_level  rougher.state.floatbank10_c_air  \\\n",
       "count                       19438.000000                     19438.000000   \n",
       "mean                         -467.247826                      1299.968799   \n",
       "std                            54.673142                       202.804325   \n",
       "min                          -650.260008                        -0.056636   \n",
       "25%                          -500.201130                      1151.076301   \n",
       "50%                          -499.784045                      1300.211537   \n",
       "75%                          -400.615589                      1449.464001   \n",
       "max                          -296.383080                      2499.129174   \n",
       "\n",
       "       rougher.state.floatbank10_c_level  rougher.state.floatbank10_d_air  \\\n",
       "count                       19438.000000                     19439.000000   \n",
       "mean                         -467.716946                      1211.563299   \n",
       "std                            53.534825                       204.019326   \n",
       "min                          -647.544439                        -0.992219   \n",
       "25%                          -500.217218                      1061.051788   \n",
       "50%                          -499.713364                      1201.569141   \n",
       "75%                          -400.985743                      1352.880320   \n",
       "max                          -292.155509                      1817.199290   \n",
       "\n",
       "       rougher.state.floatbank10_d_level  rougher.state.floatbank10_e_air  \\\n",
       "count                       19439.000000                     19003.000000   \n",
       "mean                         -468.239912                      1080.869685   \n",
       "std                            53.921458                       172.149992   \n",
       "min                          -648.390665                        -1.982295   \n",
       "25%                          -500.386386                       998.675263   \n",
       "50%                          -499.532412                      1050.029461   \n",
       "75%                          -401.638550                      1199.425140   \n",
       "max                           -76.397327                      1922.636637   \n",
       "\n",
       "       rougher.state.floatbank10_e_level  rougher.state.floatbank10_f_air  \\\n",
       "count                       19439.000000                     19439.000000   \n",
       "mean                         -466.037742                      1025.274256   \n",
       "std                            57.384424                       164.487837   \n",
       "min                          -649.443911                        -2.593390   \n",
       "25%                          -500.232191                       900.995511   \n",
       "50%                          -499.663089                       999.924821   \n",
       "75%                          -401.161191                      1099.719692   \n",
       "max                          -139.753025                      1706.307502   \n",
       "\n",
       "       rougher.state.floatbank10_f_level  secondary_cleaner.output.tail_ag  \\\n",
       "count                       19439.000000                      19437.000000   \n",
       "mean                         -466.265327                         14.586833   \n",
       "std                            57.850263                          4.265202   \n",
       "min                          -649.949283                          0.000000   \n",
       "25%                          -500.522553                         12.640239   \n",
       "50%                          -499.471777                         15.641902   \n",
       "75%                          -401.511042                         17.358217   \n",
       "max                          -191.718480                         23.264738   \n",
       "\n",
       "       secondary_cleaner.output.tail_pb  secondary_cleaner.output.tail_sol  \\\n",
       "count                      19427.000000                       17691.000000   \n",
       "mean                           5.777703                           7.167247   \n",
       "std                            2.774598                           3.916079   \n",
       "min                            0.000000                           0.000000   \n",
       "25%                            3.864733                           3.845475   \n",
       "50%                            5.344073                           7.685827   \n",
       "75%                            7.788467                          10.411296   \n",
       "max                           17.042505                          26.000772   \n",
       "\n",
       "       secondary_cleaner.output.tail_au  \\\n",
       "count                      19439.000000   \n",
       "mean                           4.339625   \n",
       "std                            2.326751   \n",
       "min                            0.000000   \n",
       "25%                            3.182770   \n",
       "50%                            4.072412   \n",
       "75%                            5.063081   \n",
       "max                           26.811643   \n",
       "\n",
       "       secondary_cleaner.state.floatbank2_a_air  \\\n",
       "count                              19219.000000   \n",
       "mean                                  28.705564   \n",
       "std                                    5.458789   \n",
       "min                                    0.077503   \n",
       "25%                                   25.048462   \n",
       "50%                                   29.099943   \n",
       "75%                                   33.012536   \n",
       "max                                   52.651399   \n",
       "\n",
       "       secondary_cleaner.state.floatbank2_a_level  \\\n",
       "count                                19438.000000   \n",
       "mean                                  -502.367331   \n",
       "std                                     53.571950   \n",
       "min                                   -799.606441   \n",
       "25%                                   -500.233700   \n",
       "50%                                   -499.973250   \n",
       "75%                                   -499.671261   \n",
       "max                                   -127.875565   \n",
       "\n",
       "       secondary_cleaner.state.floatbank2_b_air  \\\n",
       "count                              19416.000000   \n",
       "mean                                  24.106800   \n",
       "std                                    5.749616   \n",
       "min                                    0.000000   \n",
       "25%                                   20.919853   \n",
       "50%                                   25.043289   \n",
       "75%                                   28.008197   \n",
       "max                                   35.152122   \n",
       "\n",
       "       secondary_cleaner.state.floatbank2_b_level  \\\n",
       "count                                19438.000000   \n",
       "mean                                  -503.230712   \n",
       "std                                     56.567724   \n",
       "min                                   -799.873878   \n",
       "25%                                   -500.253794   \n",
       "50%                                   -500.015439   \n",
       "75%                                   -499.785698   \n",
       "max                                   -211.999273   \n",
       "\n",
       "       secondary_cleaner.state.floatbank3_a_air  \\\n",
       "count                              19426.000000   \n",
       "mean                                  28.199338   \n",
       "std                                    6.134908   \n",
       "min                                    0.000000   \n",
       "25%                                   24.949227   \n",
       "50%                                   27.982129   \n",
       "75%                                   33.002798   \n",
       "max                                   44.260464   \n",
       "\n",
       "       secondary_cleaner.state.floatbank3_a_level  \\\n",
       "count                                19438.000000   \n",
       "mean                                  -486.203350   \n",
       "std                                     54.412349   \n",
       "min                                   -799.755798   \n",
       "25%                                   -500.213546   \n",
       "50%                                   -499.930680   \n",
       "75%                                   -499.325739   \n",
       "max                                   -191.678810   \n",
       "\n",
       "       secondary_cleaner.state.floatbank3_b_air  \\\n",
       "count                              19438.000000   \n",
       "mean                                  22.200645   \n",
       "std                                    5.574001   \n",
       "min                                    0.000000   \n",
       "25%                                   18.995924   \n",
       "50%                                   22.011231   \n",
       "75%                                   25.998206   \n",
       "max                                   35.072841   \n",
       "\n",
       "       secondary_cleaner.state.floatbank3_b_level  \\\n",
       "count                                19438.000000   \n",
       "mean                                  -493.742107   \n",
       "std                                     43.372158   \n",
       "min                                   -809.333008   \n",
       "25%                                   -500.123034   \n",
       "50%                                   -499.981902   \n",
       "75%                                   -499.812834   \n",
       "max                                   -159.742331   \n",
       "\n",
       "       secondary_cleaner.state.floatbank4_a_air  \\\n",
       "count                              19433.000000   \n",
       "mean                                  18.987674   \n",
       "std                                    5.411058   \n",
       "min                                    0.000000   \n",
       "25%                                   14.975734   \n",
       "50%                                   18.017481   \n",
       "75%                                   23.012470   \n",
       "max                                   30.115735   \n",
       "\n",
       "       secondary_cleaner.state.floatbank4_a_level  \\\n",
       "count                                19438.000000   \n",
       "mean                                  -485.894516   \n",
       "std                                     47.758570   \n",
       "min                                   -799.798523   \n",
       "25%                                   -500.704892   \n",
       "50%                                   -499.837793   \n",
       "75%                                   -498.249730   \n",
       "max                                   -245.239184   \n",
       "\n",
       "       secondary_cleaner.state.floatbank4_b_air  \\\n",
       "count                              19438.000000   \n",
       "mean                                  15.010366   \n",
       "std                                    4.890228   \n",
       "min                                    0.000000   \n",
       "25%                                   11.940294   \n",
       "50%                                   14.971014   \n",
       "75%                                   19.034162   \n",
       "max                                   31.269706   \n",
       "\n",
       "       secondary_cleaner.state.floatbank4_b_level  \\\n",
       "count                                19438.000000   \n",
       "mean                                  -461.078636   \n",
       "std                                     67.405524   \n",
       "min                                   -800.836914   \n",
       "25%                                   -500.187742   \n",
       "50%                                   -499.459786   \n",
       "75%                                   -400.118106   \n",
       "max                                     -6.506986   \n",
       "\n",
       "       secondary_cleaner.state.floatbank5_a_air  \\\n",
       "count                              19438.000000   \n",
       "mean                                  15.694452   \n",
       "std                                    5.510974   \n",
       "min                                   -0.372054   \n",
       "25%                                   10.988606   \n",
       "50%                                   15.000036   \n",
       "75%                                   18.026190   \n",
       "max                                   43.709931   \n",
       "\n",
       "       secondary_cleaner.state.floatbank5_a_level  \\\n",
       "count                                19438.000000   \n",
       "mean                                  -488.684065   \n",
       "std                                     34.533396   \n",
       "min                                   -797.323986   \n",
       "25%                                   -500.458467   \n",
       "50%                                   -499.802605   \n",
       "75%                                   -498.384187   \n",
       "max                                   -244.483566   \n",
       "\n",
       "       secondary_cleaner.state.floatbank5_b_air  \\\n",
       "count                              19438.000000   \n",
       "mean                                  12.198224   \n",
       "std                                    5.333024   \n",
       "min                                    0.528083   \n",
       "25%                                    8.971105   \n",
       "50%                                   11.019433   \n",
       "75%                                   14.019088   \n",
       "max                                   27.926001   \n",
       "\n",
       "       secondary_cleaner.state.floatbank5_b_level  \\\n",
       "count                                19438.000000   \n",
       "mean                                  -487.149827   \n",
       "std                                     38.347312   \n",
       "min                                   -800.220337   \n",
       "25%                                   -500.129462   \n",
       "50%                                   -499.935317   \n",
       "75%                                   -499.436708   \n",
       "max                                   -137.740004   \n",
       "\n",
       "       secondary_cleaner.state.floatbank6_a_air  \\\n",
       "count                              19437.000000   \n",
       "mean                                  18.959024   \n",
       "std                                    5.550498   \n",
       "min                                   -0.079426   \n",
       "25%                                   14.983037   \n",
       "50%                                   19.960541   \n",
       "75%                                   24.003170   \n",
       "max                                   32.188906   \n",
       "\n",
       "       secondary_cleaner.state.floatbank6_a_level  \n",
       "count                                19438.000000  \n",
       "mean                                  -505.436305  \n",
       "std                                     37.689057  \n",
       "min                                   -809.741464  \n",
       "25%                                   -500.728067  \n",
       "50%                                   -500.048400  \n",
       "75%                                   -499.495378  \n",
       "max                                   -104.427459  "
      ]
     },
     "execution_count": 7,
     "metadata": {},
     "output_type": "execute_result"
    }
   ],
   "source": [
    "data_full.describe()"
   ]
  },
  {
   "cell_type": "markdown",
   "metadata": {},
   "source": [
    "Рассмотрим обучающую выборку."
   ]
  },
  {
   "cell_type": "code",
   "execution_count": 8,
   "metadata": {
    "scrolled": false
   },
   "outputs": [
    {
     "name": "stdout",
     "output_type": "stream",
     "text": [
      "<class 'pandas.core.frame.DataFrame'>\n",
      "RangeIndex: 14149 entries, 0 to 14148\n",
      "Data columns (total 87 columns):\n",
      " #   Column                                              Non-Null Count  Dtype  \n",
      "---  ------                                              --------------  -----  \n",
      " 0   date                                                14149 non-null  object \n",
      " 1   final.output.concentrate_ag                         14148 non-null  float64\n",
      " 2   final.output.concentrate_pb                         14148 non-null  float64\n",
      " 3   final.output.concentrate_sol                        13938 non-null  float64\n",
      " 4   final.output.concentrate_au                         14149 non-null  float64\n",
      " 5   final.output.recovery                               14149 non-null  float64\n",
      " 6   final.output.tail_ag                                14149 non-null  float64\n",
      " 7   final.output.tail_pb                                14049 non-null  float64\n",
      " 8   final.output.tail_sol                               14144 non-null  float64\n",
      " 9   final.output.tail_au                                14149 non-null  float64\n",
      " 10  primary_cleaner.input.sulfate                       14129 non-null  float64\n",
      " 11  primary_cleaner.input.depressant                    14117 non-null  float64\n",
      " 12  primary_cleaner.input.feed_size                     14149 non-null  float64\n",
      " 13  primary_cleaner.input.xanthate                      14049 non-null  float64\n",
      " 14  primary_cleaner.output.concentrate_ag               14149 non-null  float64\n",
      " 15  primary_cleaner.output.concentrate_pb               14063 non-null  float64\n",
      " 16  primary_cleaner.output.concentrate_sol              13863 non-null  float64\n",
      " 17  primary_cleaner.output.concentrate_au               14149 non-null  float64\n",
      " 18  primary_cleaner.output.tail_ag                      14148 non-null  float64\n",
      " 19  primary_cleaner.output.tail_pb                      14134 non-null  float64\n",
      " 20  primary_cleaner.output.tail_sol                     14103 non-null  float64\n",
      " 21  primary_cleaner.output.tail_au                      14149 non-null  float64\n",
      " 22  primary_cleaner.state.floatbank8_a_air              14145 non-null  float64\n",
      " 23  primary_cleaner.state.floatbank8_a_level            14148 non-null  float64\n",
      " 24  primary_cleaner.state.floatbank8_b_air              14145 non-null  float64\n",
      " 25  primary_cleaner.state.floatbank8_b_level            14148 non-null  float64\n",
      " 26  primary_cleaner.state.floatbank8_c_air              14147 non-null  float64\n",
      " 27  primary_cleaner.state.floatbank8_c_level            14148 non-null  float64\n",
      " 28  primary_cleaner.state.floatbank8_d_air              14146 non-null  float64\n",
      " 29  primary_cleaner.state.floatbank8_d_level            14148 non-null  float64\n",
      " 30  rougher.calculation.sulfate_to_au_concentrate       14148 non-null  float64\n",
      " 31  rougher.calculation.floatbank10_sulfate_to_au_feed  14148 non-null  float64\n",
      " 32  rougher.calculation.floatbank11_sulfate_to_au_feed  14148 non-null  float64\n",
      " 33  rougher.calculation.au_pb_ratio                     14149 non-null  float64\n",
      " 34  rougher.input.feed_ag                               14149 non-null  float64\n",
      " 35  rougher.input.feed_pb                               14049 non-null  float64\n",
      " 36  rougher.input.feed_rate                             14141 non-null  float64\n",
      " 37  rougher.input.feed_size                             14005 non-null  float64\n",
      " 38  rougher.input.feed_sol                              14071 non-null  float64\n",
      " 39  rougher.input.feed_au                               14149 non-null  float64\n",
      " 40  rougher.input.floatbank10_sulfate                   14120 non-null  float64\n",
      " 41  rougher.input.floatbank10_xanthate                  14141 non-null  float64\n",
      " 42  rougher.input.floatbank11_sulfate                   14113 non-null  float64\n",
      " 43  rougher.input.floatbank11_xanthate                  13721 non-null  float64\n",
      " 44  rougher.output.concentrate_ag                       14149 non-null  float64\n",
      " 45  rougher.output.concentrate_pb                       14149 non-null  float64\n",
      " 46  rougher.output.concentrate_sol                      14127 non-null  float64\n",
      " 47  rougher.output.concentrate_au                       14149 non-null  float64\n",
      " 48  rougher.output.recovery                             14149 non-null  float64\n",
      " 49  rougher.output.tail_ag                              14148 non-null  float64\n",
      " 50  rougher.output.tail_pb                              14149 non-null  float64\n",
      " 51  rougher.output.tail_sol                             14149 non-null  float64\n",
      " 52  rougher.output.tail_au                              14149 non-null  float64\n",
      " 53  rougher.state.floatbank10_a_air                     14148 non-null  float64\n",
      " 54  rougher.state.floatbank10_a_level                   14148 non-null  float64\n",
      " 55  rougher.state.floatbank10_b_air                     14148 non-null  float64\n",
      " 56  rougher.state.floatbank10_b_level                   14148 non-null  float64\n",
      " 57  rougher.state.floatbank10_c_air                     14148 non-null  float64\n",
      " 58  rougher.state.floatbank10_c_level                   14148 non-null  float64\n",
      " 59  rougher.state.floatbank10_d_air                     14149 non-null  float64\n",
      " 60  rougher.state.floatbank10_d_level                   14149 non-null  float64\n",
      " 61  rougher.state.floatbank10_e_air                     13713 non-null  float64\n",
      " 62  rougher.state.floatbank10_e_level                   14149 non-null  float64\n",
      " 63  rougher.state.floatbank10_f_air                     14149 non-null  float64\n",
      " 64  rougher.state.floatbank10_f_level                   14149 non-null  float64\n",
      " 65  secondary_cleaner.output.tail_ag                    14147 non-null  float64\n",
      " 66  secondary_cleaner.output.tail_pb                    14139 non-null  float64\n",
      " 67  secondary_cleaner.output.tail_sol                   12544 non-null  float64\n",
      " 68  secondary_cleaner.output.tail_au                    14149 non-null  float64\n",
      " 69  secondary_cleaner.state.floatbank2_a_air            13932 non-null  float64\n",
      " 70  secondary_cleaner.state.floatbank2_a_level          14148 non-null  float64\n",
      " 71  secondary_cleaner.state.floatbank2_b_air            14128 non-null  float64\n",
      " 72  secondary_cleaner.state.floatbank2_b_level          14148 non-null  float64\n",
      " 73  secondary_cleaner.state.floatbank3_a_air            14145 non-null  float64\n",
      " 74  secondary_cleaner.state.floatbank3_a_level          14148 non-null  float64\n",
      " 75  secondary_cleaner.state.floatbank3_b_air            14148 non-null  float64\n",
      " 76  secondary_cleaner.state.floatbank3_b_level          14148 non-null  float64\n",
      " 77  secondary_cleaner.state.floatbank4_a_air            14143 non-null  float64\n",
      " 78  secondary_cleaner.state.floatbank4_a_level          14148 non-null  float64\n",
      " 79  secondary_cleaner.state.floatbank4_b_air            14148 non-null  float64\n",
      " 80  secondary_cleaner.state.floatbank4_b_level          14148 non-null  float64\n",
      " 81  secondary_cleaner.state.floatbank5_a_air            14148 non-null  float64\n",
      " 82  secondary_cleaner.state.floatbank5_a_level          14148 non-null  float64\n",
      " 83  secondary_cleaner.state.floatbank5_b_air            14148 non-null  float64\n",
      " 84  secondary_cleaner.state.floatbank5_b_level          14148 non-null  float64\n",
      " 85  secondary_cleaner.state.floatbank6_a_air            14147 non-null  float64\n",
      " 86  secondary_cleaner.state.floatbank6_a_level          14148 non-null  float64\n",
      "dtypes: float64(86), object(1)\n",
      "memory usage: 9.4+ MB\n"
     ]
    }
   ],
   "source": [
    "data_train.info()"
   ]
  },
  {
   "cell_type": "markdown",
   "metadata": {},
   "source": [
    "Пропуски в обучающем наборе"
   ]
  },
  {
   "cell_type": "code",
   "execution_count": 9,
   "metadata": {},
   "outputs": [
    {
     "data": {
      "text/plain": [
       "date                                                   0.00\n",
       "final.output.concentrate_ag                            0.01\n",
       "final.output.concentrate_pb                            0.01\n",
       "final.output.concentrate_sol                           2.11\n",
       "final.output.concentrate_au                            0.00\n",
       "final.output.recovery                                  0.00\n",
       "final.output.tail_ag                                   0.00\n",
       "final.output.tail_pb                                   1.00\n",
       "final.output.tail_sol                                  0.05\n",
       "final.output.tail_au                                   0.00\n",
       "primary_cleaner.input.sulfate                          0.20\n",
       "primary_cleaner.input.depressant                       0.32\n",
       "primary_cleaner.input.feed_size                        0.00\n",
       "primary_cleaner.input.xanthate                         1.00\n",
       "primary_cleaner.output.concentrate_ag                  0.00\n",
       "primary_cleaner.output.concentrate_pb                  0.86\n",
       "primary_cleaner.output.concentrate_sol                 2.86\n",
       "primary_cleaner.output.concentrate_au                  0.00\n",
       "primary_cleaner.output.tail_ag                         0.01\n",
       "primary_cleaner.output.tail_pb                         0.15\n",
       "primary_cleaner.output.tail_sol                        0.46\n",
       "primary_cleaner.output.tail_au                         0.00\n",
       "primary_cleaner.state.floatbank8_a_air                 0.04\n",
       "primary_cleaner.state.floatbank8_a_level               0.01\n",
       "primary_cleaner.state.floatbank8_b_air                 0.04\n",
       "primary_cleaner.state.floatbank8_b_level               0.01\n",
       "primary_cleaner.state.floatbank8_c_air                 0.02\n",
       "primary_cleaner.state.floatbank8_c_level               0.01\n",
       "primary_cleaner.state.floatbank8_d_air                 0.03\n",
       "primary_cleaner.state.floatbank8_d_level               0.01\n",
       "rougher.calculation.sulfate_to_au_concentrate          0.01\n",
       "rougher.calculation.floatbank10_sulfate_to_au_feed     0.01\n",
       "rougher.calculation.floatbank11_sulfate_to_au_feed     0.01\n",
       "rougher.calculation.au_pb_ratio                        0.00\n",
       "rougher.input.feed_ag                                  0.00\n",
       "rougher.input.feed_pb                                  1.00\n",
       "rougher.input.feed_rate                                0.08\n",
       "rougher.input.feed_size                                1.44\n",
       "rougher.input.feed_sol                                 0.78\n",
       "rougher.input.feed_au                                  0.00\n",
       "rougher.input.floatbank10_sulfate                      0.29\n",
       "rougher.input.floatbank10_xanthate                     0.08\n",
       "rougher.input.floatbank11_sulfate                      0.36\n",
       "rougher.input.floatbank11_xanthate                     4.28\n",
       "rougher.output.concentrate_ag                          0.00\n",
       "rougher.output.concentrate_pb                          0.00\n",
       "rougher.output.concentrate_sol                         0.22\n",
       "rougher.output.concentrate_au                          0.00\n",
       "rougher.output.recovery                                0.00\n",
       "rougher.output.tail_ag                                 0.01\n",
       "rougher.output.tail_pb                                 0.00\n",
       "rougher.output.tail_sol                                0.00\n",
       "rougher.output.tail_au                                 0.00\n",
       "rougher.state.floatbank10_a_air                        0.01\n",
       "rougher.state.floatbank10_a_level                      0.01\n",
       "rougher.state.floatbank10_b_air                        0.01\n",
       "rougher.state.floatbank10_b_level                      0.01\n",
       "rougher.state.floatbank10_c_air                        0.01\n",
       "rougher.state.floatbank10_c_level                      0.01\n",
       "rougher.state.floatbank10_d_air                        0.00\n",
       "rougher.state.floatbank10_d_level                      0.00\n",
       "rougher.state.floatbank10_e_air                        4.36\n",
       "rougher.state.floatbank10_e_level                      0.00\n",
       "rougher.state.floatbank10_f_air                        0.00\n",
       "rougher.state.floatbank10_f_level                      0.00\n",
       "secondary_cleaner.output.tail_ag                       0.02\n",
       "secondary_cleaner.output.tail_pb                       0.10\n",
       "secondary_cleaner.output.tail_sol                     16.05\n",
       "secondary_cleaner.output.tail_au                       0.00\n",
       "secondary_cleaner.state.floatbank2_a_air               2.17\n",
       "secondary_cleaner.state.floatbank2_a_level             0.01\n",
       "secondary_cleaner.state.floatbank2_b_air               0.21\n",
       "secondary_cleaner.state.floatbank2_b_level             0.01\n",
       "secondary_cleaner.state.floatbank3_a_air               0.04\n",
       "secondary_cleaner.state.floatbank3_a_level             0.01\n",
       "secondary_cleaner.state.floatbank3_b_air               0.01\n",
       "secondary_cleaner.state.floatbank3_b_level             0.01\n",
       "secondary_cleaner.state.floatbank4_a_air               0.06\n",
       "secondary_cleaner.state.floatbank4_a_level             0.01\n",
       "secondary_cleaner.state.floatbank4_b_air               0.01\n",
       "secondary_cleaner.state.floatbank4_b_level             0.01\n",
       "secondary_cleaner.state.floatbank5_a_air               0.01\n",
       "secondary_cleaner.state.floatbank5_a_level             0.01\n",
       "secondary_cleaner.state.floatbank5_b_air               0.01\n",
       "secondary_cleaner.state.floatbank5_b_level             0.01\n",
       "secondary_cleaner.state.floatbank6_a_air               0.02\n",
       "secondary_cleaner.state.floatbank6_a_level             0.01\n",
       "dtype: float64"
      ]
     },
     "execution_count": 9,
     "metadata": {},
     "output_type": "execute_result"
    }
   ],
   "source": [
    "data_train.isna().sum() / 100"
   ]
  },
  {
   "cell_type": "markdown",
   "metadata": {},
   "source": [
    "Картина аналогична общему набору: больше всего пропусков в признаке ```secondary_cleaner.output.tail_sol```, остальные пропуски не превышают 5 % в своих столбцах."
   ]
  },
  {
   "cell_type": "code",
   "execution_count": 10,
   "metadata": {},
   "outputs": [
    {
     "data": {
      "text/html": [
       "<div>\n",
       "<style scoped>\n",
       "    .dataframe tbody tr th:only-of-type {\n",
       "        vertical-align: middle;\n",
       "    }\n",
       "\n",
       "    .dataframe tbody tr th {\n",
       "        vertical-align: top;\n",
       "    }\n",
       "\n",
       "    .dataframe thead th {\n",
       "        text-align: right;\n",
       "    }\n",
       "</style>\n",
       "<table border=\"1\" class=\"dataframe\">\n",
       "  <thead>\n",
       "    <tr style=\"text-align: right;\">\n",
       "      <th></th>\n",
       "      <th>date</th>\n",
       "      <th>final.output.concentrate_ag</th>\n",
       "      <th>final.output.concentrate_pb</th>\n",
       "      <th>final.output.concentrate_sol</th>\n",
       "      <th>final.output.concentrate_au</th>\n",
       "      <th>final.output.recovery</th>\n",
       "      <th>final.output.tail_ag</th>\n",
       "      <th>final.output.tail_pb</th>\n",
       "      <th>final.output.tail_sol</th>\n",
       "      <th>final.output.tail_au</th>\n",
       "      <th>primary_cleaner.input.sulfate</th>\n",
       "      <th>primary_cleaner.input.depressant</th>\n",
       "      <th>primary_cleaner.input.feed_size</th>\n",
       "      <th>primary_cleaner.input.xanthate</th>\n",
       "      <th>primary_cleaner.output.concentrate_ag</th>\n",
       "      <th>primary_cleaner.output.concentrate_pb</th>\n",
       "      <th>primary_cleaner.output.concentrate_sol</th>\n",
       "      <th>primary_cleaner.output.concentrate_au</th>\n",
       "      <th>primary_cleaner.output.tail_ag</th>\n",
       "      <th>primary_cleaner.output.tail_pb</th>\n",
       "      <th>primary_cleaner.output.tail_sol</th>\n",
       "      <th>primary_cleaner.output.tail_au</th>\n",
       "      <th>primary_cleaner.state.floatbank8_a_air</th>\n",
       "      <th>primary_cleaner.state.floatbank8_a_level</th>\n",
       "      <th>primary_cleaner.state.floatbank8_b_air</th>\n",
       "      <th>primary_cleaner.state.floatbank8_b_level</th>\n",
       "      <th>primary_cleaner.state.floatbank8_c_air</th>\n",
       "      <th>primary_cleaner.state.floatbank8_c_level</th>\n",
       "      <th>primary_cleaner.state.floatbank8_d_air</th>\n",
       "      <th>primary_cleaner.state.floatbank8_d_level</th>\n",
       "      <th>rougher.calculation.sulfate_to_au_concentrate</th>\n",
       "      <th>rougher.calculation.floatbank10_sulfate_to_au_feed</th>\n",
       "      <th>rougher.calculation.floatbank11_sulfate_to_au_feed</th>\n",
       "      <th>rougher.calculation.au_pb_ratio</th>\n",
       "      <th>rougher.input.feed_ag</th>\n",
       "      <th>rougher.input.feed_pb</th>\n",
       "      <th>rougher.input.feed_rate</th>\n",
       "      <th>rougher.input.feed_size</th>\n",
       "      <th>rougher.input.feed_sol</th>\n",
       "      <th>rougher.input.feed_au</th>\n",
       "      <th>rougher.input.floatbank10_sulfate</th>\n",
       "      <th>rougher.input.floatbank10_xanthate</th>\n",
       "      <th>rougher.input.floatbank11_sulfate</th>\n",
       "      <th>rougher.input.floatbank11_xanthate</th>\n",
       "      <th>rougher.output.concentrate_ag</th>\n",
       "      <th>rougher.output.concentrate_pb</th>\n",
       "      <th>rougher.output.concentrate_sol</th>\n",
       "      <th>rougher.output.concentrate_au</th>\n",
       "      <th>rougher.output.recovery</th>\n",
       "      <th>rougher.output.tail_ag</th>\n",
       "      <th>rougher.output.tail_pb</th>\n",
       "      <th>rougher.output.tail_sol</th>\n",
       "      <th>rougher.output.tail_au</th>\n",
       "      <th>rougher.state.floatbank10_a_air</th>\n",
       "      <th>rougher.state.floatbank10_a_level</th>\n",
       "      <th>rougher.state.floatbank10_b_air</th>\n",
       "      <th>rougher.state.floatbank10_b_level</th>\n",
       "      <th>rougher.state.floatbank10_c_air</th>\n",
       "      <th>rougher.state.floatbank10_c_level</th>\n",
       "      <th>rougher.state.floatbank10_d_air</th>\n",
       "      <th>rougher.state.floatbank10_d_level</th>\n",
       "      <th>rougher.state.floatbank10_e_air</th>\n",
       "      <th>rougher.state.floatbank10_e_level</th>\n",
       "      <th>rougher.state.floatbank10_f_air</th>\n",
       "      <th>rougher.state.floatbank10_f_level</th>\n",
       "      <th>secondary_cleaner.output.tail_ag</th>\n",
       "      <th>secondary_cleaner.output.tail_pb</th>\n",
       "      <th>secondary_cleaner.output.tail_sol</th>\n",
       "      <th>secondary_cleaner.output.tail_au</th>\n",
       "      <th>secondary_cleaner.state.floatbank2_a_air</th>\n",
       "      <th>secondary_cleaner.state.floatbank2_a_level</th>\n",
       "      <th>secondary_cleaner.state.floatbank2_b_air</th>\n",
       "      <th>secondary_cleaner.state.floatbank2_b_level</th>\n",
       "      <th>secondary_cleaner.state.floatbank3_a_air</th>\n",
       "      <th>secondary_cleaner.state.floatbank3_a_level</th>\n",
       "      <th>secondary_cleaner.state.floatbank3_b_air</th>\n",
       "      <th>secondary_cleaner.state.floatbank3_b_level</th>\n",
       "      <th>secondary_cleaner.state.floatbank4_a_air</th>\n",
       "      <th>secondary_cleaner.state.floatbank4_a_level</th>\n",
       "      <th>secondary_cleaner.state.floatbank4_b_air</th>\n",
       "      <th>secondary_cleaner.state.floatbank4_b_level</th>\n",
       "      <th>secondary_cleaner.state.floatbank5_a_air</th>\n",
       "      <th>secondary_cleaner.state.floatbank5_a_level</th>\n",
       "      <th>secondary_cleaner.state.floatbank5_b_air</th>\n",
       "      <th>secondary_cleaner.state.floatbank5_b_level</th>\n",
       "      <th>secondary_cleaner.state.floatbank6_a_air</th>\n",
       "      <th>secondary_cleaner.state.floatbank6_a_level</th>\n",
       "    </tr>\n",
       "  </thead>\n",
       "  <tbody>\n",
       "    <tr>\n",
       "      <th>0</th>\n",
       "      <td>2016-01-15 00:00:00</td>\n",
       "      <td>6.055403</td>\n",
       "      <td>9.889648</td>\n",
       "      <td>5.507324</td>\n",
       "      <td>42.192020</td>\n",
       "      <td>70.541216</td>\n",
       "      <td>10.411962</td>\n",
       "      <td>0.895447</td>\n",
       "      <td>16.904297</td>\n",
       "      <td>2.143149</td>\n",
       "      <td>127.092003</td>\n",
       "      <td>10.128295</td>\n",
       "      <td>7.25</td>\n",
       "      <td>0.988759</td>\n",
       "      <td>8.547551</td>\n",
       "      <td>10.389648</td>\n",
       "      <td>19.529297</td>\n",
       "      <td>34.174427</td>\n",
       "      <td>14.936526</td>\n",
       "      <td>2.534912</td>\n",
       "      <td>7.476074</td>\n",
       "      <td>2.106679</td>\n",
       "      <td>1549.775757</td>\n",
       "      <td>-498.912140</td>\n",
       "      <td>1551.434204</td>\n",
       "      <td>-516.403442</td>\n",
       "      <td>1549.873901</td>\n",
       "      <td>-498.666595</td>\n",
       "      <td>1554.367432</td>\n",
       "      <td>-493.428131</td>\n",
       "      <td>41885.707031</td>\n",
       "      <td>3481.779053</td>\n",
       "      <td>3520.337158</td>\n",
       "      <td>2.838687</td>\n",
       "      <td>6.100378</td>\n",
       "      <td>2.284912</td>\n",
       "      <td>523.546326</td>\n",
       "      <td>55.486599</td>\n",
       "      <td>36.808594</td>\n",
       "      <td>6.486150</td>\n",
       "      <td>11.986616</td>\n",
       "      <td>6.007990</td>\n",
       "      <td>11.836743</td>\n",
       "      <td>6.005818</td>\n",
       "      <td>11.500771</td>\n",
       "      <td>7.101074</td>\n",
       "      <td>28.029297</td>\n",
       "      <td>19.793808</td>\n",
       "      <td>87.107763</td>\n",
       "      <td>5.008018</td>\n",
       "      <td>0.508728</td>\n",
       "      <td>19.154297</td>\n",
       "      <td>1.170244</td>\n",
       "      <td>999.706909</td>\n",
       "      <td>-404.066986</td>\n",
       "      <td>1603.011353</td>\n",
       "      <td>-434.715027</td>\n",
       "      <td>1602.375000</td>\n",
       "      <td>-442.204468</td>\n",
       "      <td>1598.937256</td>\n",
       "      <td>-451.294128</td>\n",
       "      <td>1404.472046</td>\n",
       "      <td>-455.462982</td>\n",
       "      <td>1416.354980</td>\n",
       "      <td>-451.939636</td>\n",
       "      <td>14.500184</td>\n",
       "      <td>4.694824</td>\n",
       "      <td>8.764648</td>\n",
       "      <td>2.606185</td>\n",
       "      <td>25.853109</td>\n",
       "      <td>-498.526489</td>\n",
       "      <td>23.893660</td>\n",
       "      <td>-501.406281</td>\n",
       "      <td>23.961798</td>\n",
       "      <td>-495.262817</td>\n",
       "      <td>21.940409</td>\n",
       "      <td>-499.340973</td>\n",
       "      <td>14.016835</td>\n",
       "      <td>-502.488007</td>\n",
       "      <td>12.099931</td>\n",
       "      <td>-504.715942</td>\n",
       "      <td>9.925633</td>\n",
       "      <td>-498.310211</td>\n",
       "      <td>8.079666</td>\n",
       "      <td>-500.470978</td>\n",
       "      <td>14.151341</td>\n",
       "      <td>-605.841980</td>\n",
       "    </tr>\n",
       "    <tr>\n",
       "      <th>1</th>\n",
       "      <td>2016-01-15 01:00:00</td>\n",
       "      <td>6.029369</td>\n",
       "      <td>9.968944</td>\n",
       "      <td>5.257781</td>\n",
       "      <td>42.701629</td>\n",
       "      <td>69.266198</td>\n",
       "      <td>10.462676</td>\n",
       "      <td>0.927452</td>\n",
       "      <td>16.634514</td>\n",
       "      <td>2.224930</td>\n",
       "      <td>125.629232</td>\n",
       "      <td>10.296251</td>\n",
       "      <td>7.25</td>\n",
       "      <td>1.002663</td>\n",
       "      <td>8.558743</td>\n",
       "      <td>10.497069</td>\n",
       "      <td>19.369147</td>\n",
       "      <td>34.118526</td>\n",
       "      <td>16.250511</td>\n",
       "      <td>3.049646</td>\n",
       "      <td>6.733907</td>\n",
       "      <td>2.353017</td>\n",
       "      <td>1576.166671</td>\n",
       "      <td>-500.904965</td>\n",
       "      <td>1575.950626</td>\n",
       "      <td>-499.865889</td>\n",
       "      <td>1575.994189</td>\n",
       "      <td>-499.315107</td>\n",
       "      <td>1574.479259</td>\n",
       "      <td>-498.931665</td>\n",
       "      <td>42050.861809</td>\n",
       "      <td>3498.370979</td>\n",
       "      <td>3489.981857</td>\n",
       "      <td>2.858998</td>\n",
       "      <td>6.161113</td>\n",
       "      <td>2.266033</td>\n",
       "      <td>525.290581</td>\n",
       "      <td>57.278666</td>\n",
       "      <td>35.753385</td>\n",
       "      <td>6.478583</td>\n",
       "      <td>11.971193</td>\n",
       "      <td>6.005766</td>\n",
       "      <td>11.996163</td>\n",
       "      <td>6.012594</td>\n",
       "      <td>11.615865</td>\n",
       "      <td>7.278807</td>\n",
       "      <td>28.067063</td>\n",
       "      <td>20.050975</td>\n",
       "      <td>86.843261</td>\n",
       "      <td>4.955378</td>\n",
       "      <td>0.536689</td>\n",
       "      <td>18.965234</td>\n",
       "      <td>1.184827</td>\n",
       "      <td>1000.286398</td>\n",
       "      <td>-400.065196</td>\n",
       "      <td>1600.754587</td>\n",
       "      <td>-449.953435</td>\n",
       "      <td>1600.479580</td>\n",
       "      <td>-449.830646</td>\n",
       "      <td>1600.527589</td>\n",
       "      <td>-449.953649</td>\n",
       "      <td>1399.227084</td>\n",
       "      <td>-450.869848</td>\n",
       "      <td>1399.719514</td>\n",
       "      <td>-450.119001</td>\n",
       "      <td>14.265474</td>\n",
       "      <td>4.592547</td>\n",
       "      <td>9.001494</td>\n",
       "      <td>2.488248</td>\n",
       "      <td>25.880539</td>\n",
       "      <td>-499.989656</td>\n",
       "      <td>23.889530</td>\n",
       "      <td>-500.372428</td>\n",
       "      <td>23.970550</td>\n",
       "      <td>-500.085473</td>\n",
       "      <td>22.085714</td>\n",
       "      <td>-499.446897</td>\n",
       "      <td>13.992281</td>\n",
       "      <td>-505.503262</td>\n",
       "      <td>11.950531</td>\n",
       "      <td>-501.331529</td>\n",
       "      <td>10.039245</td>\n",
       "      <td>-500.169983</td>\n",
       "      <td>7.984757</td>\n",
       "      <td>-500.582168</td>\n",
       "      <td>13.998353</td>\n",
       "      <td>-599.787184</td>\n",
       "    </tr>\n",
       "    <tr>\n",
       "      <th>2</th>\n",
       "      <td>2016-01-15 02:00:00</td>\n",
       "      <td>6.055926</td>\n",
       "      <td>10.213995</td>\n",
       "      <td>5.383759</td>\n",
       "      <td>42.657501</td>\n",
       "      <td>68.116445</td>\n",
       "      <td>10.507046</td>\n",
       "      <td>0.953716</td>\n",
       "      <td>16.208849</td>\n",
       "      <td>2.257889</td>\n",
       "      <td>123.819808</td>\n",
       "      <td>11.316280</td>\n",
       "      <td>7.25</td>\n",
       "      <td>0.991265</td>\n",
       "      <td>8.603505</td>\n",
       "      <td>10.354494</td>\n",
       "      <td>19.167579</td>\n",
       "      <td>33.969464</td>\n",
       "      <td>16.491823</td>\n",
       "      <td>3.124664</td>\n",
       "      <td>6.471768</td>\n",
       "      <td>2.416800</td>\n",
       "      <td>1601.556163</td>\n",
       "      <td>-499.997791</td>\n",
       "      <td>1600.386685</td>\n",
       "      <td>-500.607762</td>\n",
       "      <td>1602.003542</td>\n",
       "      <td>-500.870069</td>\n",
       "      <td>1599.541515</td>\n",
       "      <td>-499.827444</td>\n",
       "      <td>42018.101184</td>\n",
       "      <td>3495.348910</td>\n",
       "      <td>3502.359819</td>\n",
       "      <td>2.945989</td>\n",
       "      <td>6.116455</td>\n",
       "      <td>2.159622</td>\n",
       "      <td>530.026610</td>\n",
       "      <td>57.510649</td>\n",
       "      <td>35.971630</td>\n",
       "      <td>6.362222</td>\n",
       "      <td>11.920603</td>\n",
       "      <td>6.197377</td>\n",
       "      <td>11.920305</td>\n",
       "      <td>6.204633</td>\n",
       "      <td>11.695753</td>\n",
       "      <td>7.216833</td>\n",
       "      <td>27.454037</td>\n",
       "      <td>19.737170</td>\n",
       "      <td>86.842308</td>\n",
       "      <td>4.843460</td>\n",
       "      <td>0.546416</td>\n",
       "      <td>18.808533</td>\n",
       "      <td>1.162562</td>\n",
       "      <td>999.719565</td>\n",
       "      <td>-400.074028</td>\n",
       "      <td>1599.337330</td>\n",
       "      <td>-450.008530</td>\n",
       "      <td>1599.672797</td>\n",
       "      <td>-449.954491</td>\n",
       "      <td>1599.849325</td>\n",
       "      <td>-449.954185</td>\n",
       "      <td>1399.180945</td>\n",
       "      <td>-449.937588</td>\n",
       "      <td>1400.316682</td>\n",
       "      <td>-450.527147</td>\n",
       "      <td>14.115662</td>\n",
       "      <td>4.624775</td>\n",
       "      <td>8.842896</td>\n",
       "      <td>2.458187</td>\n",
       "      <td>26.005245</td>\n",
       "      <td>-499.929616</td>\n",
       "      <td>23.886657</td>\n",
       "      <td>-499.951928</td>\n",
       "      <td>23.913535</td>\n",
       "      <td>-499.442343</td>\n",
       "      <td>23.957717</td>\n",
       "      <td>-499.901982</td>\n",
       "      <td>14.015015</td>\n",
       "      <td>-502.520901</td>\n",
       "      <td>11.912783</td>\n",
       "      <td>-501.133383</td>\n",
       "      <td>10.070913</td>\n",
       "      <td>-500.129135</td>\n",
       "      <td>8.013877</td>\n",
       "      <td>-500.517572</td>\n",
       "      <td>14.028663</td>\n",
       "      <td>-601.427363</td>\n",
       "    </tr>\n",
       "    <tr>\n",
       "      <th>3</th>\n",
       "      <td>2016-01-15 03:00:00</td>\n",
       "      <td>6.047977</td>\n",
       "      <td>9.977019</td>\n",
       "      <td>4.858634</td>\n",
       "      <td>42.689819</td>\n",
       "      <td>68.347543</td>\n",
       "      <td>10.422762</td>\n",
       "      <td>0.883763</td>\n",
       "      <td>16.532835</td>\n",
       "      <td>2.146849</td>\n",
       "      <td>122.270188</td>\n",
       "      <td>11.322140</td>\n",
       "      <td>7.25</td>\n",
       "      <td>0.996739</td>\n",
       "      <td>7.221879</td>\n",
       "      <td>8.496563</td>\n",
       "      <td>15.978538</td>\n",
       "      <td>28.260743</td>\n",
       "      <td>16.024359</td>\n",
       "      <td>2.960362</td>\n",
       "      <td>6.843791</td>\n",
       "      <td>2.262051</td>\n",
       "      <td>1599.968720</td>\n",
       "      <td>-500.951778</td>\n",
       "      <td>1600.659236</td>\n",
       "      <td>-499.677094</td>\n",
       "      <td>1600.304144</td>\n",
       "      <td>-500.727997</td>\n",
       "      <td>1600.449520</td>\n",
       "      <td>-500.052575</td>\n",
       "      <td>42029.447991</td>\n",
       "      <td>3498.578313</td>\n",
       "      <td>3499.162912</td>\n",
       "      <td>3.002340</td>\n",
       "      <td>6.043309</td>\n",
       "      <td>2.037807</td>\n",
       "      <td>542.590390</td>\n",
       "      <td>57.792734</td>\n",
       "      <td>36.862241</td>\n",
       "      <td>6.118189</td>\n",
       "      <td>11.630094</td>\n",
       "      <td>6.203177</td>\n",
       "      <td>11.692450</td>\n",
       "      <td>6.196578</td>\n",
       "      <td>11.915047</td>\n",
       "      <td>7.175616</td>\n",
       "      <td>27.341277</td>\n",
       "      <td>19.320810</td>\n",
       "      <td>87.226430</td>\n",
       "      <td>4.655288</td>\n",
       "      <td>0.542525</td>\n",
       "      <td>19.330200</td>\n",
       "      <td>1.079755</td>\n",
       "      <td>999.814770</td>\n",
       "      <td>-400.200179</td>\n",
       "      <td>1600.059442</td>\n",
       "      <td>-450.619948</td>\n",
       "      <td>1600.012842</td>\n",
       "      <td>-449.910497</td>\n",
       "      <td>1597.725177</td>\n",
       "      <td>-450.130127</td>\n",
       "      <td>1400.943157</td>\n",
       "      <td>-450.030142</td>\n",
       "      <td>1400.234743</td>\n",
       "      <td>-449.790835</td>\n",
       "      <td>13.732071</td>\n",
       "      <td>4.482453</td>\n",
       "      <td>9.122857</td>\n",
       "      <td>2.322062</td>\n",
       "      <td>25.942508</td>\n",
       "      <td>-499.176749</td>\n",
       "      <td>23.955516</td>\n",
       "      <td>-499.848796</td>\n",
       "      <td>23.966838</td>\n",
       "      <td>-500.008812</td>\n",
       "      <td>23.954443</td>\n",
       "      <td>-499.944710</td>\n",
       "      <td>14.036510</td>\n",
       "      <td>-500.857308</td>\n",
       "      <td>11.999550</td>\n",
       "      <td>-501.193686</td>\n",
       "      <td>9.970366</td>\n",
       "      <td>-499.201640</td>\n",
       "      <td>7.977324</td>\n",
       "      <td>-500.255908</td>\n",
       "      <td>14.005551</td>\n",
       "      <td>-599.996129</td>\n",
       "    </tr>\n",
       "    <tr>\n",
       "      <th>4</th>\n",
       "      <td>2016-01-15 04:00:00</td>\n",
       "      <td>6.148599</td>\n",
       "      <td>10.142511</td>\n",
       "      <td>4.939416</td>\n",
       "      <td>42.774141</td>\n",
       "      <td>66.927016</td>\n",
       "      <td>10.360302</td>\n",
       "      <td>0.792826</td>\n",
       "      <td>16.525686</td>\n",
       "      <td>2.055292</td>\n",
       "      <td>117.988169</td>\n",
       "      <td>11.913613</td>\n",
       "      <td>7.25</td>\n",
       "      <td>1.009869</td>\n",
       "      <td>9.089428</td>\n",
       "      <td>9.986786</td>\n",
       "      <td>19.199864</td>\n",
       "      <td>33.044932</td>\n",
       "      <td>16.480185</td>\n",
       "      <td>3.112100</td>\n",
       "      <td>6.550154</td>\n",
       "      <td>2.277073</td>\n",
       "      <td>1601.339707</td>\n",
       "      <td>-498.975456</td>\n",
       "      <td>1601.437854</td>\n",
       "      <td>-500.323246</td>\n",
       "      <td>1599.581894</td>\n",
       "      <td>-500.888152</td>\n",
       "      <td>1602.649541</td>\n",
       "      <td>-500.593010</td>\n",
       "      <td>42125.354245</td>\n",
       "      <td>3494.800771</td>\n",
       "      <td>3506.679315</td>\n",
       "      <td>3.169615</td>\n",
       "      <td>6.060915</td>\n",
       "      <td>1.786875</td>\n",
       "      <td>540.531893</td>\n",
       "      <td>56.047189</td>\n",
       "      <td>34.347666</td>\n",
       "      <td>5.663707</td>\n",
       "      <td>10.957755</td>\n",
       "      <td>6.198826</td>\n",
       "      <td>10.960521</td>\n",
       "      <td>6.194897</td>\n",
       "      <td>12.411054</td>\n",
       "      <td>7.240205</td>\n",
       "      <td>27.041023</td>\n",
       "      <td>19.216101</td>\n",
       "      <td>86.688794</td>\n",
       "      <td>4.552800</td>\n",
       "      <td>0.515438</td>\n",
       "      <td>19.267422</td>\n",
       "      <td>1.012642</td>\n",
       "      <td>999.678690</td>\n",
       "      <td>-399.752729</td>\n",
       "      <td>1600.208824</td>\n",
       "      <td>-449.599614</td>\n",
       "      <td>1600.357732</td>\n",
       "      <td>-450.034364</td>\n",
       "      <td>1599.759049</td>\n",
       "      <td>-449.909799</td>\n",
       "      <td>1401.560902</td>\n",
       "      <td>-448.877187</td>\n",
       "      <td>1401.160227</td>\n",
       "      <td>-450.407128</td>\n",
       "      <td>14.079996</td>\n",
       "      <td>4.470737</td>\n",
       "      <td>8.871028</td>\n",
       "      <td>2.330448</td>\n",
       "      <td>26.024787</td>\n",
       "      <td>-500.279091</td>\n",
       "      <td>23.955345</td>\n",
       "      <td>-500.593614</td>\n",
       "      <td>23.985703</td>\n",
       "      <td>-500.083811</td>\n",
       "      <td>23.958945</td>\n",
       "      <td>-499.990309</td>\n",
       "      <td>14.027298</td>\n",
       "      <td>-499.838632</td>\n",
       "      <td>11.953070</td>\n",
       "      <td>-501.053894</td>\n",
       "      <td>9.925709</td>\n",
       "      <td>-501.686727</td>\n",
       "      <td>7.894242</td>\n",
       "      <td>-500.356035</td>\n",
       "      <td>13.996647</td>\n",
       "      <td>-601.496691</td>\n",
       "    </tr>\n",
       "  </tbody>\n",
       "</table>\n",
       "</div>"
      ],
      "text/plain": [
       "                  date  final.output.concentrate_ag  \\\n",
       "0  2016-01-15 00:00:00                     6.055403   \n",
       "1  2016-01-15 01:00:00                     6.029369   \n",
       "2  2016-01-15 02:00:00                     6.055926   \n",
       "3  2016-01-15 03:00:00                     6.047977   \n",
       "4  2016-01-15 04:00:00                     6.148599   \n",
       "\n",
       "   final.output.concentrate_pb  final.output.concentrate_sol  \\\n",
       "0                     9.889648                      5.507324   \n",
       "1                     9.968944                      5.257781   \n",
       "2                    10.213995                      5.383759   \n",
       "3                     9.977019                      4.858634   \n",
       "4                    10.142511                      4.939416   \n",
       "\n",
       "   final.output.concentrate_au  final.output.recovery  final.output.tail_ag  \\\n",
       "0                    42.192020              70.541216             10.411962   \n",
       "1                    42.701629              69.266198             10.462676   \n",
       "2                    42.657501              68.116445             10.507046   \n",
       "3                    42.689819              68.347543             10.422762   \n",
       "4                    42.774141              66.927016             10.360302   \n",
       "\n",
       "   final.output.tail_pb  final.output.tail_sol  final.output.tail_au  \\\n",
       "0              0.895447              16.904297              2.143149   \n",
       "1              0.927452              16.634514              2.224930   \n",
       "2              0.953716              16.208849              2.257889   \n",
       "3              0.883763              16.532835              2.146849   \n",
       "4              0.792826              16.525686              2.055292   \n",
       "\n",
       "   primary_cleaner.input.sulfate  primary_cleaner.input.depressant  \\\n",
       "0                     127.092003                         10.128295   \n",
       "1                     125.629232                         10.296251   \n",
       "2                     123.819808                         11.316280   \n",
       "3                     122.270188                         11.322140   \n",
       "4                     117.988169                         11.913613   \n",
       "\n",
       "   primary_cleaner.input.feed_size  primary_cleaner.input.xanthate  \\\n",
       "0                             7.25                        0.988759   \n",
       "1                             7.25                        1.002663   \n",
       "2                             7.25                        0.991265   \n",
       "3                             7.25                        0.996739   \n",
       "4                             7.25                        1.009869   \n",
       "\n",
       "   primary_cleaner.output.concentrate_ag  \\\n",
       "0                               8.547551   \n",
       "1                               8.558743   \n",
       "2                               8.603505   \n",
       "3                               7.221879   \n",
       "4                               9.089428   \n",
       "\n",
       "   primary_cleaner.output.concentrate_pb  \\\n",
       "0                              10.389648   \n",
       "1                              10.497069   \n",
       "2                              10.354494   \n",
       "3                               8.496563   \n",
       "4                               9.986786   \n",
       "\n",
       "   primary_cleaner.output.concentrate_sol  \\\n",
       "0                               19.529297   \n",
       "1                               19.369147   \n",
       "2                               19.167579   \n",
       "3                               15.978538   \n",
       "4                               19.199864   \n",
       "\n",
       "   primary_cleaner.output.concentrate_au  primary_cleaner.output.tail_ag  \\\n",
       "0                              34.174427                       14.936526   \n",
       "1                              34.118526                       16.250511   \n",
       "2                              33.969464                       16.491823   \n",
       "3                              28.260743                       16.024359   \n",
       "4                              33.044932                       16.480185   \n",
       "\n",
       "   primary_cleaner.output.tail_pb  primary_cleaner.output.tail_sol  \\\n",
       "0                        2.534912                         7.476074   \n",
       "1                        3.049646                         6.733907   \n",
       "2                        3.124664                         6.471768   \n",
       "3                        2.960362                         6.843791   \n",
       "4                        3.112100                         6.550154   \n",
       "\n",
       "   primary_cleaner.output.tail_au  primary_cleaner.state.floatbank8_a_air  \\\n",
       "0                        2.106679                             1549.775757   \n",
       "1                        2.353017                             1576.166671   \n",
       "2                        2.416800                             1601.556163   \n",
       "3                        2.262051                             1599.968720   \n",
       "4                        2.277073                             1601.339707   \n",
       "\n",
       "   primary_cleaner.state.floatbank8_a_level  \\\n",
       "0                               -498.912140   \n",
       "1                               -500.904965   \n",
       "2                               -499.997791   \n",
       "3                               -500.951778   \n",
       "4                               -498.975456   \n",
       "\n",
       "   primary_cleaner.state.floatbank8_b_air  \\\n",
       "0                             1551.434204   \n",
       "1                             1575.950626   \n",
       "2                             1600.386685   \n",
       "3                             1600.659236   \n",
       "4                             1601.437854   \n",
       "\n",
       "   primary_cleaner.state.floatbank8_b_level  \\\n",
       "0                               -516.403442   \n",
       "1                               -499.865889   \n",
       "2                               -500.607762   \n",
       "3                               -499.677094   \n",
       "4                               -500.323246   \n",
       "\n",
       "   primary_cleaner.state.floatbank8_c_air  \\\n",
       "0                             1549.873901   \n",
       "1                             1575.994189   \n",
       "2                             1602.003542   \n",
       "3                             1600.304144   \n",
       "4                             1599.581894   \n",
       "\n",
       "   primary_cleaner.state.floatbank8_c_level  \\\n",
       "0                               -498.666595   \n",
       "1                               -499.315107   \n",
       "2                               -500.870069   \n",
       "3                               -500.727997   \n",
       "4                               -500.888152   \n",
       "\n",
       "   primary_cleaner.state.floatbank8_d_air  \\\n",
       "0                             1554.367432   \n",
       "1                             1574.479259   \n",
       "2                             1599.541515   \n",
       "3                             1600.449520   \n",
       "4                             1602.649541   \n",
       "\n",
       "   primary_cleaner.state.floatbank8_d_level  \\\n",
       "0                               -493.428131   \n",
       "1                               -498.931665   \n",
       "2                               -499.827444   \n",
       "3                               -500.052575   \n",
       "4                               -500.593010   \n",
       "\n",
       "   rougher.calculation.sulfate_to_au_concentrate  \\\n",
       "0                                   41885.707031   \n",
       "1                                   42050.861809   \n",
       "2                                   42018.101184   \n",
       "3                                   42029.447991   \n",
       "4                                   42125.354245   \n",
       "\n",
       "   rougher.calculation.floatbank10_sulfate_to_au_feed  \\\n",
       "0                                        3481.779053    \n",
       "1                                        3498.370979    \n",
       "2                                        3495.348910    \n",
       "3                                        3498.578313    \n",
       "4                                        3494.800771    \n",
       "\n",
       "   rougher.calculation.floatbank11_sulfate_to_au_feed  \\\n",
       "0                                        3520.337158    \n",
       "1                                        3489.981857    \n",
       "2                                        3502.359819    \n",
       "3                                        3499.162912    \n",
       "4                                        3506.679315    \n",
       "\n",
       "   rougher.calculation.au_pb_ratio  rougher.input.feed_ag  \\\n",
       "0                         2.838687               6.100378   \n",
       "1                         2.858998               6.161113   \n",
       "2                         2.945989               6.116455   \n",
       "3                         3.002340               6.043309   \n",
       "4                         3.169615               6.060915   \n",
       "\n",
       "   rougher.input.feed_pb  rougher.input.feed_rate  rougher.input.feed_size  \\\n",
       "0               2.284912               523.546326                55.486599   \n",
       "1               2.266033               525.290581                57.278666   \n",
       "2               2.159622               530.026610                57.510649   \n",
       "3               2.037807               542.590390                57.792734   \n",
       "4               1.786875               540.531893                56.047189   \n",
       "\n",
       "   rougher.input.feed_sol  rougher.input.feed_au  \\\n",
       "0               36.808594               6.486150   \n",
       "1               35.753385               6.478583   \n",
       "2               35.971630               6.362222   \n",
       "3               36.862241               6.118189   \n",
       "4               34.347666               5.663707   \n",
       "\n",
       "   rougher.input.floatbank10_sulfate  rougher.input.floatbank10_xanthate  \\\n",
       "0                          11.986616                            6.007990   \n",
       "1                          11.971193                            6.005766   \n",
       "2                          11.920603                            6.197377   \n",
       "3                          11.630094                            6.203177   \n",
       "4                          10.957755                            6.198826   \n",
       "\n",
       "   rougher.input.floatbank11_sulfate  rougher.input.floatbank11_xanthate  \\\n",
       "0                          11.836743                            6.005818   \n",
       "1                          11.996163                            6.012594   \n",
       "2                          11.920305                            6.204633   \n",
       "3                          11.692450                            6.196578   \n",
       "4                          10.960521                            6.194897   \n",
       "\n",
       "   rougher.output.concentrate_ag  rougher.output.concentrate_pb  \\\n",
       "0                      11.500771                       7.101074   \n",
       "1                      11.615865                       7.278807   \n",
       "2                      11.695753                       7.216833   \n",
       "3                      11.915047                       7.175616   \n",
       "4                      12.411054                       7.240205   \n",
       "\n",
       "   rougher.output.concentrate_sol  rougher.output.concentrate_au  \\\n",
       "0                       28.029297                      19.793808   \n",
       "1                       28.067063                      20.050975   \n",
       "2                       27.454037                      19.737170   \n",
       "3                       27.341277                      19.320810   \n",
       "4                       27.041023                      19.216101   \n",
       "\n",
       "   rougher.output.recovery  rougher.output.tail_ag  rougher.output.tail_pb  \\\n",
       "0                87.107763                5.008018                0.508728   \n",
       "1                86.843261                4.955378                0.536689   \n",
       "2                86.842308                4.843460                0.546416   \n",
       "3                87.226430                4.655288                0.542525   \n",
       "4                86.688794                4.552800                0.515438   \n",
       "\n",
       "   rougher.output.tail_sol  rougher.output.tail_au  \\\n",
       "0                19.154297                1.170244   \n",
       "1                18.965234                1.184827   \n",
       "2                18.808533                1.162562   \n",
       "3                19.330200                1.079755   \n",
       "4                19.267422                1.012642   \n",
       "\n",
       "   rougher.state.floatbank10_a_air  rougher.state.floatbank10_a_level  \\\n",
       "0                       999.706909                        -404.066986   \n",
       "1                      1000.286398                        -400.065196   \n",
       "2                       999.719565                        -400.074028   \n",
       "3                       999.814770                        -400.200179   \n",
       "4                       999.678690                        -399.752729   \n",
       "\n",
       "   rougher.state.floatbank10_b_air  rougher.state.floatbank10_b_level  \\\n",
       "0                      1603.011353                        -434.715027   \n",
       "1                      1600.754587                        -449.953435   \n",
       "2                      1599.337330                        -450.008530   \n",
       "3                      1600.059442                        -450.619948   \n",
       "4                      1600.208824                        -449.599614   \n",
       "\n",
       "   rougher.state.floatbank10_c_air  rougher.state.floatbank10_c_level  \\\n",
       "0                      1602.375000                        -442.204468   \n",
       "1                      1600.479580                        -449.830646   \n",
       "2                      1599.672797                        -449.954491   \n",
       "3                      1600.012842                        -449.910497   \n",
       "4                      1600.357732                        -450.034364   \n",
       "\n",
       "   rougher.state.floatbank10_d_air  rougher.state.floatbank10_d_level  \\\n",
       "0                      1598.937256                        -451.294128   \n",
       "1                      1600.527589                        -449.953649   \n",
       "2                      1599.849325                        -449.954185   \n",
       "3                      1597.725177                        -450.130127   \n",
       "4                      1599.759049                        -449.909799   \n",
       "\n",
       "   rougher.state.floatbank10_e_air  rougher.state.floatbank10_e_level  \\\n",
       "0                      1404.472046                        -455.462982   \n",
       "1                      1399.227084                        -450.869848   \n",
       "2                      1399.180945                        -449.937588   \n",
       "3                      1400.943157                        -450.030142   \n",
       "4                      1401.560902                        -448.877187   \n",
       "\n",
       "   rougher.state.floatbank10_f_air  rougher.state.floatbank10_f_level  \\\n",
       "0                      1416.354980                        -451.939636   \n",
       "1                      1399.719514                        -450.119001   \n",
       "2                      1400.316682                        -450.527147   \n",
       "3                      1400.234743                        -449.790835   \n",
       "4                      1401.160227                        -450.407128   \n",
       "\n",
       "   secondary_cleaner.output.tail_ag  secondary_cleaner.output.tail_pb  \\\n",
       "0                         14.500184                          4.694824   \n",
       "1                         14.265474                          4.592547   \n",
       "2                         14.115662                          4.624775   \n",
       "3                         13.732071                          4.482453   \n",
       "4                         14.079996                          4.470737   \n",
       "\n",
       "   secondary_cleaner.output.tail_sol  secondary_cleaner.output.tail_au  \\\n",
       "0                           8.764648                          2.606185   \n",
       "1                           9.001494                          2.488248   \n",
       "2                           8.842896                          2.458187   \n",
       "3                           9.122857                          2.322062   \n",
       "4                           8.871028                          2.330448   \n",
       "\n",
       "   secondary_cleaner.state.floatbank2_a_air  \\\n",
       "0                                 25.853109   \n",
       "1                                 25.880539   \n",
       "2                                 26.005245   \n",
       "3                                 25.942508   \n",
       "4                                 26.024787   \n",
       "\n",
       "   secondary_cleaner.state.floatbank2_a_level  \\\n",
       "0                                 -498.526489   \n",
       "1                                 -499.989656   \n",
       "2                                 -499.929616   \n",
       "3                                 -499.176749   \n",
       "4                                 -500.279091   \n",
       "\n",
       "   secondary_cleaner.state.floatbank2_b_air  \\\n",
       "0                                 23.893660   \n",
       "1                                 23.889530   \n",
       "2                                 23.886657   \n",
       "3                                 23.955516   \n",
       "4                                 23.955345   \n",
       "\n",
       "   secondary_cleaner.state.floatbank2_b_level  \\\n",
       "0                                 -501.406281   \n",
       "1                                 -500.372428   \n",
       "2                                 -499.951928   \n",
       "3                                 -499.848796   \n",
       "4                                 -500.593614   \n",
       "\n",
       "   secondary_cleaner.state.floatbank3_a_air  \\\n",
       "0                                 23.961798   \n",
       "1                                 23.970550   \n",
       "2                                 23.913535   \n",
       "3                                 23.966838   \n",
       "4                                 23.985703   \n",
       "\n",
       "   secondary_cleaner.state.floatbank3_a_level  \\\n",
       "0                                 -495.262817   \n",
       "1                                 -500.085473   \n",
       "2                                 -499.442343   \n",
       "3                                 -500.008812   \n",
       "4                                 -500.083811   \n",
       "\n",
       "   secondary_cleaner.state.floatbank3_b_air  \\\n",
       "0                                 21.940409   \n",
       "1                                 22.085714   \n",
       "2                                 23.957717   \n",
       "3                                 23.954443   \n",
       "4                                 23.958945   \n",
       "\n",
       "   secondary_cleaner.state.floatbank3_b_level  \\\n",
       "0                                 -499.340973   \n",
       "1                                 -499.446897   \n",
       "2                                 -499.901982   \n",
       "3                                 -499.944710   \n",
       "4                                 -499.990309   \n",
       "\n",
       "   secondary_cleaner.state.floatbank4_a_air  \\\n",
       "0                                 14.016835   \n",
       "1                                 13.992281   \n",
       "2                                 14.015015   \n",
       "3                                 14.036510   \n",
       "4                                 14.027298   \n",
       "\n",
       "   secondary_cleaner.state.floatbank4_a_level  \\\n",
       "0                                 -502.488007   \n",
       "1                                 -505.503262   \n",
       "2                                 -502.520901   \n",
       "3                                 -500.857308   \n",
       "4                                 -499.838632   \n",
       "\n",
       "   secondary_cleaner.state.floatbank4_b_air  \\\n",
       "0                                 12.099931   \n",
       "1                                 11.950531   \n",
       "2                                 11.912783   \n",
       "3                                 11.999550   \n",
       "4                                 11.953070   \n",
       "\n",
       "   secondary_cleaner.state.floatbank4_b_level  \\\n",
       "0                                 -504.715942   \n",
       "1                                 -501.331529   \n",
       "2                                 -501.133383   \n",
       "3                                 -501.193686   \n",
       "4                                 -501.053894   \n",
       "\n",
       "   secondary_cleaner.state.floatbank5_a_air  \\\n",
       "0                                  9.925633   \n",
       "1                                 10.039245   \n",
       "2                                 10.070913   \n",
       "3                                  9.970366   \n",
       "4                                  9.925709   \n",
       "\n",
       "   secondary_cleaner.state.floatbank5_a_level  \\\n",
       "0                                 -498.310211   \n",
       "1                                 -500.169983   \n",
       "2                                 -500.129135   \n",
       "3                                 -499.201640   \n",
       "4                                 -501.686727   \n",
       "\n",
       "   secondary_cleaner.state.floatbank5_b_air  \\\n",
       "0                                  8.079666   \n",
       "1                                  7.984757   \n",
       "2                                  8.013877   \n",
       "3                                  7.977324   \n",
       "4                                  7.894242   \n",
       "\n",
       "   secondary_cleaner.state.floatbank5_b_level  \\\n",
       "0                                 -500.470978   \n",
       "1                                 -500.582168   \n",
       "2                                 -500.517572   \n",
       "3                                 -500.255908   \n",
       "4                                 -500.356035   \n",
       "\n",
       "   secondary_cleaner.state.floatbank6_a_air  \\\n",
       "0                                 14.151341   \n",
       "1                                 13.998353   \n",
       "2                                 14.028663   \n",
       "3                                 14.005551   \n",
       "4                                 13.996647   \n",
       "\n",
       "   secondary_cleaner.state.floatbank6_a_level  \n",
       "0                                 -605.841980  \n",
       "1                                 -599.787184  \n",
       "2                                 -601.427363  \n",
       "3                                 -599.996129  \n",
       "4                                 -601.496691  "
      ]
     },
     "execution_count": 10,
     "metadata": {},
     "output_type": "execute_result"
    }
   ],
   "source": [
    "data_train.head()"
   ]
  },
  {
   "cell_type": "markdown",
   "metadata": {},
   "source": [
    "В обучающей выборке, как и в датасете с полным объемом данных есть 87 столбцов. Среди них есть очевидно признаки, которые до начала процесса очистки руды знать нельзя - например продукт после каждого из этапов очистки, хвосты после этих этапов. Все эти данные становятся известны уже в ходе процесса, и эти признаки для предсказательной модели использовать не получится."
   ]
  },
  {
   "cell_type": "markdown",
   "metadata": {},
   "source": [
    "Теперь изучим тестовую выборку - это именно те признаки, которые возможно получить до самого процесса очистки, соответственно и модель должна обучаться только на этих признаках."
   ]
  },
  {
   "cell_type": "code",
   "execution_count": 11,
   "metadata": {
    "scrolled": false
   },
   "outputs": [
    {
     "name": "stdout",
     "output_type": "stream",
     "text": [
      "<class 'pandas.core.frame.DataFrame'>\n",
      "RangeIndex: 5290 entries, 0 to 5289\n",
      "Data columns (total 53 columns):\n",
      " #   Column                                      Non-Null Count  Dtype  \n",
      "---  ------                                      --------------  -----  \n",
      " 0   date                                        5290 non-null   object \n",
      " 1   primary_cleaner.input.sulfate               5286 non-null   float64\n",
      " 2   primary_cleaner.input.depressant            5285 non-null   float64\n",
      " 3   primary_cleaner.input.feed_size             5290 non-null   float64\n",
      " 4   primary_cleaner.input.xanthate              5286 non-null   float64\n",
      " 5   primary_cleaner.state.floatbank8_a_air      5290 non-null   float64\n",
      " 6   primary_cleaner.state.floatbank8_a_level    5290 non-null   float64\n",
      " 7   primary_cleaner.state.floatbank8_b_air      5290 non-null   float64\n",
      " 8   primary_cleaner.state.floatbank8_b_level    5290 non-null   float64\n",
      " 9   primary_cleaner.state.floatbank8_c_air      5290 non-null   float64\n",
      " 10  primary_cleaner.state.floatbank8_c_level    5290 non-null   float64\n",
      " 11  primary_cleaner.state.floatbank8_d_air      5290 non-null   float64\n",
      " 12  primary_cleaner.state.floatbank8_d_level    5290 non-null   float64\n",
      " 13  rougher.input.feed_ag                       5290 non-null   float64\n",
      " 14  rougher.input.feed_pb                       5290 non-null   float64\n",
      " 15  rougher.input.feed_rate                     5287 non-null   float64\n",
      " 16  rougher.input.feed_size                     5289 non-null   float64\n",
      " 17  rougher.input.feed_sol                      5269 non-null   float64\n",
      " 18  rougher.input.feed_au                       5290 non-null   float64\n",
      " 19  rougher.input.floatbank10_sulfate           5285 non-null   float64\n",
      " 20  rougher.input.floatbank10_xanthate          5290 non-null   float64\n",
      " 21  rougher.input.floatbank11_sulfate           5282 non-null   float64\n",
      " 22  rougher.input.floatbank11_xanthate          5265 non-null   float64\n",
      " 23  rougher.state.floatbank10_a_air             5290 non-null   float64\n",
      " 24  rougher.state.floatbank10_a_level           5290 non-null   float64\n",
      " 25  rougher.state.floatbank10_b_air             5290 non-null   float64\n",
      " 26  rougher.state.floatbank10_b_level           5290 non-null   float64\n",
      " 27  rougher.state.floatbank10_c_air             5290 non-null   float64\n",
      " 28  rougher.state.floatbank10_c_level           5290 non-null   float64\n",
      " 29  rougher.state.floatbank10_d_air             5290 non-null   float64\n",
      " 30  rougher.state.floatbank10_d_level           5290 non-null   float64\n",
      " 31  rougher.state.floatbank10_e_air             5290 non-null   float64\n",
      " 32  rougher.state.floatbank10_e_level           5290 non-null   float64\n",
      " 33  rougher.state.floatbank10_f_air             5290 non-null   float64\n",
      " 34  rougher.state.floatbank10_f_level           5290 non-null   float64\n",
      " 35  secondary_cleaner.state.floatbank2_a_air    5287 non-null   float64\n",
      " 36  secondary_cleaner.state.floatbank2_a_level  5290 non-null   float64\n",
      " 37  secondary_cleaner.state.floatbank2_b_air    5288 non-null   float64\n",
      " 38  secondary_cleaner.state.floatbank2_b_level  5290 non-null   float64\n",
      " 39  secondary_cleaner.state.floatbank3_a_air    5281 non-null   float64\n",
      " 40  secondary_cleaner.state.floatbank3_a_level  5290 non-null   float64\n",
      " 41  secondary_cleaner.state.floatbank3_b_air    5290 non-null   float64\n",
      " 42  secondary_cleaner.state.floatbank3_b_level  5290 non-null   float64\n",
      " 43  secondary_cleaner.state.floatbank4_a_air    5290 non-null   float64\n",
      " 44  secondary_cleaner.state.floatbank4_a_level  5290 non-null   float64\n",
      " 45  secondary_cleaner.state.floatbank4_b_air    5290 non-null   float64\n",
      " 46  secondary_cleaner.state.floatbank4_b_level  5290 non-null   float64\n",
      " 47  secondary_cleaner.state.floatbank5_a_air    5290 non-null   float64\n",
      " 48  secondary_cleaner.state.floatbank5_a_level  5290 non-null   float64\n",
      " 49  secondary_cleaner.state.floatbank5_b_air    5290 non-null   float64\n",
      " 50  secondary_cleaner.state.floatbank5_b_level  5290 non-null   float64\n",
      " 51  secondary_cleaner.state.floatbank6_a_air    5290 non-null   float64\n",
      " 52  secondary_cleaner.state.floatbank6_a_level  5290 non-null   float64\n",
      "dtypes: float64(52), object(1)\n",
      "memory usage: 2.1+ MB\n"
     ]
    }
   ],
   "source": [
    "data_test.info()"
   ]
  },
  {
   "cell_type": "markdown",
   "metadata": {},
   "source": [
    "Пропуски в тестовом наборе"
   ]
  },
  {
   "cell_type": "code",
   "execution_count": 12,
   "metadata": {
    "scrolled": false
   },
   "outputs": [
    {
     "data": {
      "text/plain": [
       "date                                          0.00\n",
       "primary_cleaner.input.sulfate                 0.04\n",
       "primary_cleaner.input.depressant              0.05\n",
       "primary_cleaner.input.feed_size               0.00\n",
       "primary_cleaner.input.xanthate                0.04\n",
       "primary_cleaner.state.floatbank8_a_air        0.00\n",
       "primary_cleaner.state.floatbank8_a_level      0.00\n",
       "primary_cleaner.state.floatbank8_b_air        0.00\n",
       "primary_cleaner.state.floatbank8_b_level      0.00\n",
       "primary_cleaner.state.floatbank8_c_air        0.00\n",
       "primary_cleaner.state.floatbank8_c_level      0.00\n",
       "primary_cleaner.state.floatbank8_d_air        0.00\n",
       "primary_cleaner.state.floatbank8_d_level      0.00\n",
       "rougher.input.feed_ag                         0.00\n",
       "rougher.input.feed_pb                         0.00\n",
       "rougher.input.feed_rate                       0.03\n",
       "rougher.input.feed_size                       0.01\n",
       "rougher.input.feed_sol                        0.21\n",
       "rougher.input.feed_au                         0.00\n",
       "rougher.input.floatbank10_sulfate             0.05\n",
       "rougher.input.floatbank10_xanthate            0.00\n",
       "rougher.input.floatbank11_sulfate             0.08\n",
       "rougher.input.floatbank11_xanthate            0.25\n",
       "rougher.state.floatbank10_a_air               0.00\n",
       "rougher.state.floatbank10_a_level             0.00\n",
       "rougher.state.floatbank10_b_air               0.00\n",
       "rougher.state.floatbank10_b_level             0.00\n",
       "rougher.state.floatbank10_c_air               0.00\n",
       "rougher.state.floatbank10_c_level             0.00\n",
       "rougher.state.floatbank10_d_air               0.00\n",
       "rougher.state.floatbank10_d_level             0.00\n",
       "rougher.state.floatbank10_e_air               0.00\n",
       "rougher.state.floatbank10_e_level             0.00\n",
       "rougher.state.floatbank10_f_air               0.00\n",
       "rougher.state.floatbank10_f_level             0.00\n",
       "secondary_cleaner.state.floatbank2_a_air      0.03\n",
       "secondary_cleaner.state.floatbank2_a_level    0.00\n",
       "secondary_cleaner.state.floatbank2_b_air      0.02\n",
       "secondary_cleaner.state.floatbank2_b_level    0.00\n",
       "secondary_cleaner.state.floatbank3_a_air      0.09\n",
       "secondary_cleaner.state.floatbank3_a_level    0.00\n",
       "secondary_cleaner.state.floatbank3_b_air      0.00\n",
       "secondary_cleaner.state.floatbank3_b_level    0.00\n",
       "secondary_cleaner.state.floatbank4_a_air      0.00\n",
       "secondary_cleaner.state.floatbank4_a_level    0.00\n",
       "secondary_cleaner.state.floatbank4_b_air      0.00\n",
       "secondary_cleaner.state.floatbank4_b_level    0.00\n",
       "secondary_cleaner.state.floatbank5_a_air      0.00\n",
       "secondary_cleaner.state.floatbank5_a_level    0.00\n",
       "secondary_cleaner.state.floatbank5_b_air      0.00\n",
       "secondary_cleaner.state.floatbank5_b_level    0.00\n",
       "secondary_cleaner.state.floatbank6_a_air      0.00\n",
       "secondary_cleaner.state.floatbank6_a_level    0.00\n",
       "dtype: float64"
      ]
     },
     "execution_count": 12,
     "metadata": {},
     "output_type": "execute_result"
    }
   ],
   "source": [
    "data_test.isna().sum() / 100"
   ]
  },
  {
   "cell_type": "code",
   "execution_count": 13,
   "metadata": {},
   "outputs": [
    {
     "data": {
      "text/html": [
       "<div>\n",
       "<style scoped>\n",
       "    .dataframe tbody tr th:only-of-type {\n",
       "        vertical-align: middle;\n",
       "    }\n",
       "\n",
       "    .dataframe tbody tr th {\n",
       "        vertical-align: top;\n",
       "    }\n",
       "\n",
       "    .dataframe thead th {\n",
       "        text-align: right;\n",
       "    }\n",
       "</style>\n",
       "<table border=\"1\" class=\"dataframe\">\n",
       "  <thead>\n",
       "    <tr style=\"text-align: right;\">\n",
       "      <th></th>\n",
       "      <th>date</th>\n",
       "      <th>primary_cleaner.input.sulfate</th>\n",
       "      <th>primary_cleaner.input.depressant</th>\n",
       "      <th>primary_cleaner.input.feed_size</th>\n",
       "      <th>primary_cleaner.input.xanthate</th>\n",
       "      <th>primary_cleaner.state.floatbank8_a_air</th>\n",
       "      <th>primary_cleaner.state.floatbank8_a_level</th>\n",
       "      <th>primary_cleaner.state.floatbank8_b_air</th>\n",
       "      <th>primary_cleaner.state.floatbank8_b_level</th>\n",
       "      <th>primary_cleaner.state.floatbank8_c_air</th>\n",
       "      <th>primary_cleaner.state.floatbank8_c_level</th>\n",
       "      <th>primary_cleaner.state.floatbank8_d_air</th>\n",
       "      <th>primary_cleaner.state.floatbank8_d_level</th>\n",
       "      <th>rougher.input.feed_ag</th>\n",
       "      <th>rougher.input.feed_pb</th>\n",
       "      <th>rougher.input.feed_rate</th>\n",
       "      <th>rougher.input.feed_size</th>\n",
       "      <th>rougher.input.feed_sol</th>\n",
       "      <th>rougher.input.feed_au</th>\n",
       "      <th>rougher.input.floatbank10_sulfate</th>\n",
       "      <th>rougher.input.floatbank10_xanthate</th>\n",
       "      <th>rougher.input.floatbank11_sulfate</th>\n",
       "      <th>rougher.input.floatbank11_xanthate</th>\n",
       "      <th>rougher.state.floatbank10_a_air</th>\n",
       "      <th>rougher.state.floatbank10_a_level</th>\n",
       "      <th>rougher.state.floatbank10_b_air</th>\n",
       "      <th>rougher.state.floatbank10_b_level</th>\n",
       "      <th>rougher.state.floatbank10_c_air</th>\n",
       "      <th>rougher.state.floatbank10_c_level</th>\n",
       "      <th>rougher.state.floatbank10_d_air</th>\n",
       "      <th>rougher.state.floatbank10_d_level</th>\n",
       "      <th>rougher.state.floatbank10_e_air</th>\n",
       "      <th>rougher.state.floatbank10_e_level</th>\n",
       "      <th>rougher.state.floatbank10_f_air</th>\n",
       "      <th>rougher.state.floatbank10_f_level</th>\n",
       "      <th>secondary_cleaner.state.floatbank2_a_air</th>\n",
       "      <th>secondary_cleaner.state.floatbank2_a_level</th>\n",
       "      <th>secondary_cleaner.state.floatbank2_b_air</th>\n",
       "      <th>secondary_cleaner.state.floatbank2_b_level</th>\n",
       "      <th>secondary_cleaner.state.floatbank3_a_air</th>\n",
       "      <th>secondary_cleaner.state.floatbank3_a_level</th>\n",
       "      <th>secondary_cleaner.state.floatbank3_b_air</th>\n",
       "      <th>secondary_cleaner.state.floatbank3_b_level</th>\n",
       "      <th>secondary_cleaner.state.floatbank4_a_air</th>\n",
       "      <th>secondary_cleaner.state.floatbank4_a_level</th>\n",
       "      <th>secondary_cleaner.state.floatbank4_b_air</th>\n",
       "      <th>secondary_cleaner.state.floatbank4_b_level</th>\n",
       "      <th>secondary_cleaner.state.floatbank5_a_air</th>\n",
       "      <th>secondary_cleaner.state.floatbank5_a_level</th>\n",
       "      <th>secondary_cleaner.state.floatbank5_b_air</th>\n",
       "      <th>secondary_cleaner.state.floatbank5_b_level</th>\n",
       "      <th>secondary_cleaner.state.floatbank6_a_air</th>\n",
       "      <th>secondary_cleaner.state.floatbank6_a_level</th>\n",
       "    </tr>\n",
       "  </thead>\n",
       "  <tbody>\n",
       "    <tr>\n",
       "      <th>0</th>\n",
       "      <td>2016-09-01 00:59:59</td>\n",
       "      <td>210.800909</td>\n",
       "      <td>14.993118</td>\n",
       "      <td>8.080000</td>\n",
       "      <td>1.005021</td>\n",
       "      <td>1398.981301</td>\n",
       "      <td>-500.225577</td>\n",
       "      <td>1399.144926</td>\n",
       "      <td>-499.919735</td>\n",
       "      <td>1400.102998</td>\n",
       "      <td>-500.704369</td>\n",
       "      <td>1399.001695</td>\n",
       "      <td>-499.485144</td>\n",
       "      <td>13.128569</td>\n",
       "      <td>5.636710</td>\n",
       "      <td>489.793655</td>\n",
       "      <td>62.710452</td>\n",
       "      <td>42.022440</td>\n",
       "      <td>12.084103</td>\n",
       "      <td>16.922877</td>\n",
       "      <td>6.153479</td>\n",
       "      <td>16.867518</td>\n",
       "      <td>6.150709</td>\n",
       "      <td>1001.849317</td>\n",
       "      <td>-350.301265</td>\n",
       "      <td>1249.738612</td>\n",
       "      <td>-399.107531</td>\n",
       "      <td>1249.750520</td>\n",
       "      <td>-399.396730</td>\n",
       "      <td>1198.287855</td>\n",
       "      <td>-399.488594</td>\n",
       "      <td>999.472250</td>\n",
       "      <td>-399.530962</td>\n",
       "      <td>949.566189</td>\n",
       "      <td>-398.180807</td>\n",
       "      <td>24.938200</td>\n",
       "      <td>-500.490963</td>\n",
       "      <td>14.947607</td>\n",
       "      <td>-500.013837</td>\n",
       "      <td>20.018166</td>\n",
       "      <td>-450.395995</td>\n",
       "      <td>13.987058</td>\n",
       "      <td>-449.831513</td>\n",
       "      <td>12.023554</td>\n",
       "      <td>-497.795834</td>\n",
       "      <td>8.016656</td>\n",
       "      <td>-501.289139</td>\n",
       "      <td>7.946562</td>\n",
       "      <td>-432.317850</td>\n",
       "      <td>4.872511</td>\n",
       "      <td>-500.037437</td>\n",
       "      <td>26.705889</td>\n",
       "      <td>-499.709414</td>\n",
       "    </tr>\n",
       "    <tr>\n",
       "      <th>1</th>\n",
       "      <td>2016-09-01 01:59:59</td>\n",
       "      <td>215.392455</td>\n",
       "      <td>14.987471</td>\n",
       "      <td>8.080000</td>\n",
       "      <td>0.990469</td>\n",
       "      <td>1398.777912</td>\n",
       "      <td>-500.057435</td>\n",
       "      <td>1398.055362</td>\n",
       "      <td>-499.778182</td>\n",
       "      <td>1396.151033</td>\n",
       "      <td>-499.240168</td>\n",
       "      <td>1399.508091</td>\n",
       "      <td>-500.416324</td>\n",
       "      <td>13.036280</td>\n",
       "      <td>5.526065</td>\n",
       "      <td>490.104534</td>\n",
       "      <td>61.961163</td>\n",
       "      <td>41.187903</td>\n",
       "      <td>11.918977</td>\n",
       "      <td>17.002532</td>\n",
       "      <td>5.999043</td>\n",
       "      <td>16.996063</td>\n",
       "      <td>6.002315</td>\n",
       "      <td>998.690785</td>\n",
       "      <td>-350.425704</td>\n",
       "      <td>1248.395457</td>\n",
       "      <td>-399.946025</td>\n",
       "      <td>1249.514451</td>\n",
       "      <td>-399.630810</td>\n",
       "      <td>1200.506459</td>\n",
       "      <td>-399.942434</td>\n",
       "      <td>1000.002114</td>\n",
       "      <td>-399.491528</td>\n",
       "      <td>950.200009</td>\n",
       "      <td>-405.787514</td>\n",
       "      <td>24.923466</td>\n",
       "      <td>-499.813963</td>\n",
       "      <td>14.930873</td>\n",
       "      <td>-500.764452</td>\n",
       "      <td>19.988503</td>\n",
       "      <td>-450.114024</td>\n",
       "      <td>14.092981</td>\n",
       "      <td>-450.059163</td>\n",
       "      <td>12.058140</td>\n",
       "      <td>-498.695773</td>\n",
       "      <td>8.130979</td>\n",
       "      <td>-499.634209</td>\n",
       "      <td>7.958270</td>\n",
       "      <td>-525.839648</td>\n",
       "      <td>4.878850</td>\n",
       "      <td>-500.162375</td>\n",
       "      <td>25.019940</td>\n",
       "      <td>-499.819438</td>\n",
       "    </tr>\n",
       "    <tr>\n",
       "      <th>2</th>\n",
       "      <td>2016-09-01 02:59:59</td>\n",
       "      <td>215.259946</td>\n",
       "      <td>12.884934</td>\n",
       "      <td>7.786667</td>\n",
       "      <td>0.996043</td>\n",
       "      <td>1398.493666</td>\n",
       "      <td>-500.868360</td>\n",
       "      <td>1398.860436</td>\n",
       "      <td>-499.764529</td>\n",
       "      <td>1398.075709</td>\n",
       "      <td>-502.151509</td>\n",
       "      <td>1399.497088</td>\n",
       "      <td>-499.715479</td>\n",
       "      <td>13.138412</td>\n",
       "      <td>5.426561</td>\n",
       "      <td>489.617969</td>\n",
       "      <td>66.903807</td>\n",
       "      <td>42.546294</td>\n",
       "      <td>12.091332</td>\n",
       "      <td>16.992520</td>\n",
       "      <td>5.850632</td>\n",
       "      <td>16.982096</td>\n",
       "      <td>5.853594</td>\n",
       "      <td>998.516720</td>\n",
       "      <td>-349.783538</td>\n",
       "      <td>1247.440748</td>\n",
       "      <td>-400.264330</td>\n",
       "      <td>1248.207204</td>\n",
       "      <td>-401.074405</td>\n",
       "      <td>1199.770026</td>\n",
       "      <td>-400.790582</td>\n",
       "      <td>999.925519</td>\n",
       "      <td>-399.236999</td>\n",
       "      <td>950.320481</td>\n",
       "      <td>-400.864340</td>\n",
       "      <td>24.908732</td>\n",
       "      <td>-500.304035</td>\n",
       "      <td>14.996511</td>\n",
       "      <td>-500.993821</td>\n",
       "      <td>20.039689</td>\n",
       "      <td>-450.263164</td>\n",
       "      <td>14.077881</td>\n",
       "      <td>-449.660997</td>\n",
       "      <td>11.962366</td>\n",
       "      <td>-498.767484</td>\n",
       "      <td>8.096893</td>\n",
       "      <td>-500.827423</td>\n",
       "      <td>8.071056</td>\n",
       "      <td>-500.801673</td>\n",
       "      <td>4.905125</td>\n",
       "      <td>-499.828510</td>\n",
       "      <td>24.994862</td>\n",
       "      <td>-500.622559</td>\n",
       "    </tr>\n",
       "    <tr>\n",
       "      <th>3</th>\n",
       "      <td>2016-09-01 03:59:59</td>\n",
       "      <td>215.336236</td>\n",
       "      <td>12.006805</td>\n",
       "      <td>7.640000</td>\n",
       "      <td>0.863514</td>\n",
       "      <td>1399.618111</td>\n",
       "      <td>-498.863574</td>\n",
       "      <td>1397.440120</td>\n",
       "      <td>-499.211024</td>\n",
       "      <td>1400.129303</td>\n",
       "      <td>-498.355873</td>\n",
       "      <td>1401.065165</td>\n",
       "      <td>-501.038738</td>\n",
       "      <td>12.400507</td>\n",
       "      <td>5.114758</td>\n",
       "      <td>476.618130</td>\n",
       "      <td>59.865919</td>\n",
       "      <td>41.060195</td>\n",
       "      <td>12.181597</td>\n",
       "      <td>16.532144</td>\n",
       "      <td>5.801935</td>\n",
       "      <td>16.515277</td>\n",
       "      <td>5.803657</td>\n",
       "      <td>1000.276604</td>\n",
       "      <td>-350.172597</td>\n",
       "      <td>1251.322675</td>\n",
       "      <td>-398.655289</td>\n",
       "      <td>1250.493702</td>\n",
       "      <td>-399.746728</td>\n",
       "      <td>1199.398691</td>\n",
       "      <td>-397.503052</td>\n",
       "      <td>1001.930679</td>\n",
       "      <td>-400.437573</td>\n",
       "      <td>950.735324</td>\n",
       "      <td>-399.802986</td>\n",
       "      <td>24.893998</td>\n",
       "      <td>-499.382374</td>\n",
       "      <td>14.916674</td>\n",
       "      <td>-499.862299</td>\n",
       "      <td>20.031100</td>\n",
       "      <td>-449.372570</td>\n",
       "      <td>14.013968</td>\n",
       "      <td>-449.526900</td>\n",
       "      <td>12.033091</td>\n",
       "      <td>-498.350935</td>\n",
       "      <td>8.074946</td>\n",
       "      <td>-499.474407</td>\n",
       "      <td>7.897085</td>\n",
       "      <td>-500.868509</td>\n",
       "      <td>4.931400</td>\n",
       "      <td>-499.963623</td>\n",
       "      <td>24.948919</td>\n",
       "      <td>-498.709987</td>\n",
       "    </tr>\n",
       "    <tr>\n",
       "      <th>4</th>\n",
       "      <td>2016-09-01 04:59:59</td>\n",
       "      <td>199.099327</td>\n",
       "      <td>10.682530</td>\n",
       "      <td>7.530000</td>\n",
       "      <td>0.805575</td>\n",
       "      <td>1401.268123</td>\n",
       "      <td>-500.808305</td>\n",
       "      <td>1398.128818</td>\n",
       "      <td>-499.504543</td>\n",
       "      <td>1402.172226</td>\n",
       "      <td>-500.810606</td>\n",
       "      <td>1399.480508</td>\n",
       "      <td>-499.374053</td>\n",
       "      <td>11.327427</td>\n",
       "      <td>4.767383</td>\n",
       "      <td>488.248117</td>\n",
       "      <td>63.315324</td>\n",
       "      <td>41.269161</td>\n",
       "      <td>11.290425</td>\n",
       "      <td>13.607257</td>\n",
       "      <td>5.738081</td>\n",
       "      <td>13.650053</td>\n",
       "      <td>5.739634</td>\n",
       "      <td>996.541302</td>\n",
       "      <td>-350.562517</td>\n",
       "      <td>1304.658848</td>\n",
       "      <td>-399.511519</td>\n",
       "      <td>1306.455515</td>\n",
       "      <td>-399.050685</td>\n",
       "      <td>1248.699349</td>\n",
       "      <td>-400.876894</td>\n",
       "      <td>1058.839106</td>\n",
       "      <td>-398.988239</td>\n",
       "      <td>949.645313</td>\n",
       "      <td>-399.277632</td>\n",
       "      <td>24.886905</td>\n",
       "      <td>-499.357375</td>\n",
       "      <td>14.979233</td>\n",
       "      <td>-500.186804</td>\n",
       "      <td>19.962364</td>\n",
       "      <td>-450.638828</td>\n",
       "      <td>14.009245</td>\n",
       "      <td>-450.022259</td>\n",
       "      <td>12.025367</td>\n",
       "      <td>-500.786497</td>\n",
       "      <td>8.054678</td>\n",
       "      <td>-500.397500</td>\n",
       "      <td>8.107890</td>\n",
       "      <td>-509.526725</td>\n",
       "      <td>4.957674</td>\n",
       "      <td>-500.360026</td>\n",
       "      <td>25.003331</td>\n",
       "      <td>-500.856333</td>\n",
       "    </tr>\n",
       "  </tbody>\n",
       "</table>\n",
       "</div>"
      ],
      "text/plain": [
       "                  date  primary_cleaner.input.sulfate  \\\n",
       "0  2016-09-01 00:59:59                     210.800909   \n",
       "1  2016-09-01 01:59:59                     215.392455   \n",
       "2  2016-09-01 02:59:59                     215.259946   \n",
       "3  2016-09-01 03:59:59                     215.336236   \n",
       "4  2016-09-01 04:59:59                     199.099327   \n",
       "\n",
       "   primary_cleaner.input.depressant  primary_cleaner.input.feed_size  \\\n",
       "0                         14.993118                         8.080000   \n",
       "1                         14.987471                         8.080000   \n",
       "2                         12.884934                         7.786667   \n",
       "3                         12.006805                         7.640000   \n",
       "4                         10.682530                         7.530000   \n",
       "\n",
       "   primary_cleaner.input.xanthate  primary_cleaner.state.floatbank8_a_air  \\\n",
       "0                        1.005021                             1398.981301   \n",
       "1                        0.990469                             1398.777912   \n",
       "2                        0.996043                             1398.493666   \n",
       "3                        0.863514                             1399.618111   \n",
       "4                        0.805575                             1401.268123   \n",
       "\n",
       "   primary_cleaner.state.floatbank8_a_level  \\\n",
       "0                               -500.225577   \n",
       "1                               -500.057435   \n",
       "2                               -500.868360   \n",
       "3                               -498.863574   \n",
       "4                               -500.808305   \n",
       "\n",
       "   primary_cleaner.state.floatbank8_b_air  \\\n",
       "0                             1399.144926   \n",
       "1                             1398.055362   \n",
       "2                             1398.860436   \n",
       "3                             1397.440120   \n",
       "4                             1398.128818   \n",
       "\n",
       "   primary_cleaner.state.floatbank8_b_level  \\\n",
       "0                               -499.919735   \n",
       "1                               -499.778182   \n",
       "2                               -499.764529   \n",
       "3                               -499.211024   \n",
       "4                               -499.504543   \n",
       "\n",
       "   primary_cleaner.state.floatbank8_c_air  \\\n",
       "0                             1400.102998   \n",
       "1                             1396.151033   \n",
       "2                             1398.075709   \n",
       "3                             1400.129303   \n",
       "4                             1402.172226   \n",
       "\n",
       "   primary_cleaner.state.floatbank8_c_level  \\\n",
       "0                               -500.704369   \n",
       "1                               -499.240168   \n",
       "2                               -502.151509   \n",
       "3                               -498.355873   \n",
       "4                               -500.810606   \n",
       "\n",
       "   primary_cleaner.state.floatbank8_d_air  \\\n",
       "0                             1399.001695   \n",
       "1                             1399.508091   \n",
       "2                             1399.497088   \n",
       "3                             1401.065165   \n",
       "4                             1399.480508   \n",
       "\n",
       "   primary_cleaner.state.floatbank8_d_level  rougher.input.feed_ag  \\\n",
       "0                               -499.485144              13.128569   \n",
       "1                               -500.416324              13.036280   \n",
       "2                               -499.715479              13.138412   \n",
       "3                               -501.038738              12.400507   \n",
       "4                               -499.374053              11.327427   \n",
       "\n",
       "   rougher.input.feed_pb  rougher.input.feed_rate  rougher.input.feed_size  \\\n",
       "0               5.636710               489.793655                62.710452   \n",
       "1               5.526065               490.104534                61.961163   \n",
       "2               5.426561               489.617969                66.903807   \n",
       "3               5.114758               476.618130                59.865919   \n",
       "4               4.767383               488.248117                63.315324   \n",
       "\n",
       "   rougher.input.feed_sol  rougher.input.feed_au  \\\n",
       "0               42.022440              12.084103   \n",
       "1               41.187903              11.918977   \n",
       "2               42.546294              12.091332   \n",
       "3               41.060195              12.181597   \n",
       "4               41.269161              11.290425   \n",
       "\n",
       "   rougher.input.floatbank10_sulfate  rougher.input.floatbank10_xanthate  \\\n",
       "0                          16.922877                            6.153479   \n",
       "1                          17.002532                            5.999043   \n",
       "2                          16.992520                            5.850632   \n",
       "3                          16.532144                            5.801935   \n",
       "4                          13.607257                            5.738081   \n",
       "\n",
       "   rougher.input.floatbank11_sulfate  rougher.input.floatbank11_xanthate  \\\n",
       "0                          16.867518                            6.150709   \n",
       "1                          16.996063                            6.002315   \n",
       "2                          16.982096                            5.853594   \n",
       "3                          16.515277                            5.803657   \n",
       "4                          13.650053                            5.739634   \n",
       "\n",
       "   rougher.state.floatbank10_a_air  rougher.state.floatbank10_a_level  \\\n",
       "0                      1001.849317                        -350.301265   \n",
       "1                       998.690785                        -350.425704   \n",
       "2                       998.516720                        -349.783538   \n",
       "3                      1000.276604                        -350.172597   \n",
       "4                       996.541302                        -350.562517   \n",
       "\n",
       "   rougher.state.floatbank10_b_air  rougher.state.floatbank10_b_level  \\\n",
       "0                      1249.738612                        -399.107531   \n",
       "1                      1248.395457                        -399.946025   \n",
       "2                      1247.440748                        -400.264330   \n",
       "3                      1251.322675                        -398.655289   \n",
       "4                      1304.658848                        -399.511519   \n",
       "\n",
       "   rougher.state.floatbank10_c_air  rougher.state.floatbank10_c_level  \\\n",
       "0                      1249.750520                        -399.396730   \n",
       "1                      1249.514451                        -399.630810   \n",
       "2                      1248.207204                        -401.074405   \n",
       "3                      1250.493702                        -399.746728   \n",
       "4                      1306.455515                        -399.050685   \n",
       "\n",
       "   rougher.state.floatbank10_d_air  rougher.state.floatbank10_d_level  \\\n",
       "0                      1198.287855                        -399.488594   \n",
       "1                      1200.506459                        -399.942434   \n",
       "2                      1199.770026                        -400.790582   \n",
       "3                      1199.398691                        -397.503052   \n",
       "4                      1248.699349                        -400.876894   \n",
       "\n",
       "   rougher.state.floatbank10_e_air  rougher.state.floatbank10_e_level  \\\n",
       "0                       999.472250                        -399.530962   \n",
       "1                      1000.002114                        -399.491528   \n",
       "2                       999.925519                        -399.236999   \n",
       "3                      1001.930679                        -400.437573   \n",
       "4                      1058.839106                        -398.988239   \n",
       "\n",
       "   rougher.state.floatbank10_f_air  rougher.state.floatbank10_f_level  \\\n",
       "0                       949.566189                        -398.180807   \n",
       "1                       950.200009                        -405.787514   \n",
       "2                       950.320481                        -400.864340   \n",
       "3                       950.735324                        -399.802986   \n",
       "4                       949.645313                        -399.277632   \n",
       "\n",
       "   secondary_cleaner.state.floatbank2_a_air  \\\n",
       "0                                 24.938200   \n",
       "1                                 24.923466   \n",
       "2                                 24.908732   \n",
       "3                                 24.893998   \n",
       "4                                 24.886905   \n",
       "\n",
       "   secondary_cleaner.state.floatbank2_a_level  \\\n",
       "0                                 -500.490963   \n",
       "1                                 -499.813963   \n",
       "2                                 -500.304035   \n",
       "3                                 -499.382374   \n",
       "4                                 -499.357375   \n",
       "\n",
       "   secondary_cleaner.state.floatbank2_b_air  \\\n",
       "0                                 14.947607   \n",
       "1                                 14.930873   \n",
       "2                                 14.996511   \n",
       "3                                 14.916674   \n",
       "4                                 14.979233   \n",
       "\n",
       "   secondary_cleaner.state.floatbank2_b_level  \\\n",
       "0                                 -500.013837   \n",
       "1                                 -500.764452   \n",
       "2                                 -500.993821   \n",
       "3                                 -499.862299   \n",
       "4                                 -500.186804   \n",
       "\n",
       "   secondary_cleaner.state.floatbank3_a_air  \\\n",
       "0                                 20.018166   \n",
       "1                                 19.988503   \n",
       "2                                 20.039689   \n",
       "3                                 20.031100   \n",
       "4                                 19.962364   \n",
       "\n",
       "   secondary_cleaner.state.floatbank3_a_level  \\\n",
       "0                                 -450.395995   \n",
       "1                                 -450.114024   \n",
       "2                                 -450.263164   \n",
       "3                                 -449.372570   \n",
       "4                                 -450.638828   \n",
       "\n",
       "   secondary_cleaner.state.floatbank3_b_air  \\\n",
       "0                                 13.987058   \n",
       "1                                 14.092981   \n",
       "2                                 14.077881   \n",
       "3                                 14.013968   \n",
       "4                                 14.009245   \n",
       "\n",
       "   secondary_cleaner.state.floatbank3_b_level  \\\n",
       "0                                 -449.831513   \n",
       "1                                 -450.059163   \n",
       "2                                 -449.660997   \n",
       "3                                 -449.526900   \n",
       "4                                 -450.022259   \n",
       "\n",
       "   secondary_cleaner.state.floatbank4_a_air  \\\n",
       "0                                 12.023554   \n",
       "1                                 12.058140   \n",
       "2                                 11.962366   \n",
       "3                                 12.033091   \n",
       "4                                 12.025367   \n",
       "\n",
       "   secondary_cleaner.state.floatbank4_a_level  \\\n",
       "0                                 -497.795834   \n",
       "1                                 -498.695773   \n",
       "2                                 -498.767484   \n",
       "3                                 -498.350935   \n",
       "4                                 -500.786497   \n",
       "\n",
       "   secondary_cleaner.state.floatbank4_b_air  \\\n",
       "0                                  8.016656   \n",
       "1                                  8.130979   \n",
       "2                                  8.096893   \n",
       "3                                  8.074946   \n",
       "4                                  8.054678   \n",
       "\n",
       "   secondary_cleaner.state.floatbank4_b_level  \\\n",
       "0                                 -501.289139   \n",
       "1                                 -499.634209   \n",
       "2                                 -500.827423   \n",
       "3                                 -499.474407   \n",
       "4                                 -500.397500   \n",
       "\n",
       "   secondary_cleaner.state.floatbank5_a_air  \\\n",
       "0                                  7.946562   \n",
       "1                                  7.958270   \n",
       "2                                  8.071056   \n",
       "3                                  7.897085   \n",
       "4                                  8.107890   \n",
       "\n",
       "   secondary_cleaner.state.floatbank5_a_level  \\\n",
       "0                                 -432.317850   \n",
       "1                                 -525.839648   \n",
       "2                                 -500.801673   \n",
       "3                                 -500.868509   \n",
       "4                                 -509.526725   \n",
       "\n",
       "   secondary_cleaner.state.floatbank5_b_air  \\\n",
       "0                                  4.872511   \n",
       "1                                  4.878850   \n",
       "2                                  4.905125   \n",
       "3                                  4.931400   \n",
       "4                                  4.957674   \n",
       "\n",
       "   secondary_cleaner.state.floatbank5_b_level  \\\n",
       "0                                 -500.037437   \n",
       "1                                 -500.162375   \n",
       "2                                 -499.828510   \n",
       "3                                 -499.963623   \n",
       "4                                 -500.360026   \n",
       "\n",
       "   secondary_cleaner.state.floatbank6_a_air  \\\n",
       "0                                 26.705889   \n",
       "1                                 25.019940   \n",
       "2                                 24.994862   \n",
       "3                                 24.948919   \n",
       "4                                 25.003331   \n",
       "\n",
       "   secondary_cleaner.state.floatbank6_a_level  \n",
       "0                                 -499.709414  \n",
       "1                                 -499.819438  \n",
       "2                                 -500.622559  \n",
       "3                                 -498.709987  \n",
       "4                                 -500.856333  "
      ]
     },
     "execution_count": 13,
     "metadata": {},
     "output_type": "execute_result"
    }
   ],
   "source": [
    "data_test.head()"
   ]
  },
  {
   "cell_type": "markdown",
   "metadata": {},
   "source": [
    "В тестовой выборке у нас есть только 53 признака. Только эти признаки и нужны будут для обучения модели. Необходимо удалить все лишние признаки из обучающей выборки. Так же видно, что кое-где есть пропуски, как и в обучающей выборке. Но их совсем немного.\n",
    "\n",
    "Сразу заметим, что в тестовом наборе нет признака ```secondary_cleaner.output.tail_sol``` с наибольшим числом пропусков. Это сразу снимает задачу заполнения этих пропусков"
   ]
  },
  {
   "cell_type": "markdown",
   "metadata": {},
   "source": [
    "Расчитаем ```recovery``` для этапа флотации на обучающем наборе с помощью формулы и сравним его с данной фичей из набора."
   ]
  },
  {
   "cell_type": "code",
   "execution_count": 14,
   "metadata": {},
   "outputs": [
    {
     "data": {
      "text/plain": [
       "9.73512347450521e-15"
      ]
     },
     "execution_count": 14,
     "metadata": {},
     "output_type": "execute_result"
    }
   ],
   "source": [
    "rougher_output_recovery = ((data_train['rougher.output.concentrate_au'] * \n",
    "                            (data_train['rougher.input.feed_au'] - data_train['rougher.output.tail_au'])) / \n",
    "                           (data_train['rougher.input.feed_au'] * \n",
    "                            (data_train['rougher.output.concentrate_au'] - data_train['rougher.output.tail_au']))\n",
    "                           ) * 100\n",
    "mean_absolute_error = mae(data_train['rougher.output.recovery'], rougher_output_recovery)\n",
    "mean_absolute_error"
   ]
  },
  {
   "cell_type": "markdown",
   "metadata": {},
   "source": [
    "MAE между расчтеным значением и значением в наборе практически отсутсвует. Но все же есть. Возможно это связано с системой хранения чисел в компьютерах или с округлением значений."
   ]
  },
  {
   "cell_type": "markdown",
   "metadata": {},
   "source": [
    "Обратим внимание на то, что у нас все еще остались данные о сырье для флотационной установки 11 на стадии флотации. Хотя видно, что параметров ```'air'``` и ```'level'``` для данной установки нет ни в одном из процессов очистки. Возможно эта установка не используется в текущем процессе, а значит этот признак можно удалить."
   ]
  },
  {
   "cell_type": "code",
   "execution_count": 15,
   "metadata": {},
   "outputs": [],
   "source": [
    "data_test = data_test.drop(['rougher.input.floatbank11_sulfate', \n",
    "                            'rougher.input.floatbank11_xanthate',], axis=1)\n",
    "\n",
    "data_train = data_train.drop(['rougher.input.floatbank11_sulfate', \n",
    "                            'rougher.input.floatbank11_xanthate',], axis=1)"
   ]
  },
  {
   "cell_type": "markdown",
   "metadata": {},
   "source": [
    "### Проверка наличия дубликатов"
   ]
  },
  {
   "cell_type": "code",
   "execution_count": 16,
   "metadata": {},
   "outputs": [
    {
     "name": "stdout",
     "output_type": "stream",
     "text": [
      "0\n",
      "0\n"
     ]
    }
   ],
   "source": [
    "print(data_full.duplicated().sum())\n",
    "print(data_full['date'].duplicated().sum())"
   ]
  },
  {
   "cell_type": "markdown",
   "metadata": {},
   "source": [
    "ни полных дубликатов на задвоенных по времени замеров нет."
   ]
  },
  {
   "cell_type": "markdown",
   "metadata": {},
   "source": [
    "### Работа с пропусками"
   ]
  },
  {
   "cell_type": "markdown",
   "metadata": {},
   "source": [
    "Так как пропусков немного, можно просто удалить строки с пропусками"
   ]
  },
  {
   "cell_type": "code",
   "execution_count": 17,
   "metadata": {},
   "outputs": [],
   "source": [
    "data_train = data_train.dropna()\n",
    "data_test = data_test.dropna()\n",
    "data_full_clean = data_full.dropna().copy()"
   ]
  },
  {
   "cell_type": "markdown",
   "metadata": {},
   "source": [
    "Больше пропусков нет."
   ]
  },
  {
   "cell_type": "markdown",
   "metadata": {},
   "source": [
    "## Анализ данных"
   ]
  },
  {
   "cell_type": "markdown",
   "metadata": {},
   "source": [
    "### Концентрация сторонних металлов на разных этапах."
   ]
  },
  {
   "cell_type": "code",
   "execution_count": 18,
   "metadata": {},
   "outputs": [],
   "source": [
    "def plot_hist(ax, data, label, alpha, bins, density, rwidth):\n",
    "    hist = ax.hist(data, label=label, alpha=alpha, bins=bins, density=density, rwidth=rwidth)\n",
    "    return hist"
   ]
  },
  {
   "cell_type": "code",
   "execution_count": 19,
   "metadata": {
    "scrolled": false
   },
   "outputs": [
    {
     "data": {
      "image/png": "[encoded data removed]",
      "text/plain": [
       "<Figure size 1296x1080 with 4 Axes>"
      ]
     },
     "metadata": {
      "needs_background": "light"
     },
     "output_type": "display_data"
    }
   ],
   "source": [
    "fig, ((ax0), (ax1), (ax2), (ax3)) = plt.subplots(nrows=4, ncols=1, figsize=(18, 15), layout='constrained')\n",
    "components = ['ag', 'pb', 'sol', 'au']\n",
    "plots = (ax0, ax1, ax2, ax3)\n",
    "titles = ['Серебро', 'Свинец', 'Растворенные примеси', 'Золото']\n",
    "hist_0 = 0\n",
    "hist_1 = 0\n",
    "hist_2 = 0\n",
    "hist_3 = 0\n",
    "hists = [hist_0, hist_1, hist_2, hist_3]\n",
    "processes = ['rougher.input.feed_', 'rougher.output.concentrate_', 'primary_cleaner.output.concentrate_', 'final.output.concentrate_']\n",
    "labels = ['До флотации', 'После флотации', 'После первичной очистки', 'В конце очистки']\n",
    "\n",
    "i = 0\n",
    "alpha = 0.4\n",
    "bins = 'fd'\n",
    "rwidth=0.8\n",
    "density=True\n",
    "\n",
    "for component in components:\n",
    "    ax = plots[i]\n",
    "    j = 0\n",
    "    for hist in hists:\n",
    "        hist = plot_hist(ax, data_full[processes[j]+component], label=labels[j], alpha=alpha, bins=bins, density=density, rwidth=rwidth)\n",
    "        j += 1\n",
    "    ax.legend(labels=labels)\n",
    "    ax.set_title(titles[i])\n",
    "    i += 1\n",
    "\n",
    "i = 0\n",
    "j = 0"
   ]
  },
  {
   "cell_type": "markdown",
   "metadata": {},
   "source": [
    "Видно, что концентрация серебра возрастает после флотации, а далее от этапа к этапу концентрация серебра снижается. Судя по всему серебро удаляется именно на первичной и вторичной очистках, а на этапе флотации не затрагивается. \n",
    "\n",
    "Концентрация свинца возрастает после флотации и не сильно изменяется в процессе очистки.\n",
    "\n",
    "Растворенные примеси удаляются из сырья по большей части при флотации и первичной очистке, при вторичной очистке растворенные примеси удаляются в незначительном объеме.\n",
    "\n",
    "Как и ожидается от процесса обогащения золота, конуентрация золота возрастает от процесса к процессу.\n",
    "\n",
    "Также для всех компонентов на всех этапах обогащения руды заметны выбросы около нуля"
   ]
  },
  {
   "cell_type": "markdown",
   "metadata": {},
   "source": [
    "### Проверка размера гранул в обучающей и тестовой выборках"
   ]
  },
  {
   "cell_type": "markdown",
   "metadata": {},
   "source": [
    "Изучим размер гранул сырья в обучающей и тестовой выборках с помощью нормализованных гистограмм."
   ]
  },
  {
   "cell_type": "code",
   "execution_count": 20,
   "metadata": {},
   "outputs": [
    {
     "data": {
      "image/png": "[encoded data removed]",
      "text/plain": [
       "<Figure size 720x720 with 1 Axes>"
      ]
     },
     "metadata": {
      "needs_background": "light"
     },
     "output_type": "display_data"
    }
   ],
   "source": [
    "datasets = [data_train, data_test]\n",
    "labels = ['В обучающем наборе', 'В тестовом наборе']\n",
    "\n",
    "fig, ax = plt.subplots(nrows=1, ncols=1, figsize=(10, 10))\n",
    "i = 0\n",
    "\n",
    "for dataset in datasets:\n",
    "    ax.hist(dataset['rougher.input.feed_size'], \n",
    "            density=density, \n",
    "            bins=bins, \n",
    "            alpha=alpha, \n",
    "            range=(0, 170), \n",
    "            label=labels[i])\n",
    "    i += 1\n",
    "ax.legend(labels=labels)\n",
    "ax.set_title('Размер гранул сырья')\n",
    "plt.show()\n",
    "i = 0"
   ]
  },
  {
   "cell_type": "markdown",
   "metadata": {},
   "source": [
    "### Суммарные концентрации веществ на разных стадиях очистки "
   ]
  },
  {
   "cell_type": "markdown",
   "metadata": {},
   "source": [
    "C помощью гистограмм изучим суммарные концентрации веществ на разных стадиях"
   ]
  },
  {
   "cell_type": "code",
   "execution_count": 21,
   "metadata": {},
   "outputs": [],
   "source": [
    "data_full_clean['rougher.input.total_concentrate'] = data_full_clean[['rougher.input.feed_ag', \n",
    "                                                                      'rougher.input.feed_au', \n",
    "                                                                      'rougher.input.feed_pb', \n",
    "                                                                      'rougher.input.feed_sol']].sum(axis=1)\n",
    "data_full_clean['rougher.output.total_concentrate'] = data_full_clean[['rougher.output.concentrate_ag', \n",
    "                                                                       'rougher.output.concentrate_au', \n",
    "                                                                       'rougher.output.concentrate_pb', \n",
    "                                                                       'rougher.output.concentrate_sol']].sum(axis=1)\n",
    "data_full_clean['final.output.total_concentrate'] = data_full_clean[['final.output.concentrate_ag', \n",
    "                                                                     'final.output.concentrate_au', \n",
    "                                                                     'final.output.concentrate_pb', \n",
    "                                                                     'final.output.concentrate_sol']].sum(axis=1)\n"
   ]
  },
  {
   "cell_type": "code",
   "execution_count": 22,
   "metadata": {},
   "outputs": [],
   "source": [
    "data_full_clean = data_full_clean.set_index(data_full_clean['date'], drop=True)"
   ]
  },
  {
   "cell_type": "code",
   "execution_count": 23,
   "metadata": {},
   "outputs": [
    {
     "data": {
      "image/png": "[encoded data removed]",
      "text/plain": [
       "<Figure size 1296x432 with 1 Axes>"
      ]
     },
     "metadata": {
      "needs_background": "light"
     },
     "output_type": "display_data"
    }
   ],
   "source": [
    "fig, ax = plt.subplots(nrows=1, ncols=1, figsize=(18, 6))\n",
    "total_conc = ['rougher.input.total_concentrate',\n",
    "              'rougher.output.total_concentrate',\n",
    "              'final.output.total_concentrate']\n",
    "\n",
    "labels = ['В сырье',\n",
    "         'В черновом концентрате',\n",
    "         'Финальный продукт']\n",
    "i = 0\n",
    "\n",
    "for conc in total_conc:\n",
    "    ax.hist(data_full_clean[conc], \n",
    "            density=density, \n",
    "            bins=bins, \n",
    "            alpha=alpha, \n",
    "            label=labels[i])\n",
    "    i += 1\n",
    "ax.set_title('Суммарная концентрация веществ')\n",
    "ax.legend(labels=labels)\n",
    "plt.show()\n",
    "\n",
    "i = 0"
   ]
  },
  {
   "cell_type": "markdown",
   "metadata": {},
   "source": [
    "Видно, что в сырье суммарная крнцентрация веществ собрана в районе значений 55-65, после флотации (в черновом концентрате) суммарная концентрация сместилась к значениям 65-75, но все еще остается большой разброс в данных - встречаются случаи с суммарной концентрацией веществ, как и в сырье. Картина ощутимо менятеся для финального продукта - суммарный концентрации довольно кучно собраны в районе значения 70.\n",
    "\n",
    "Из аномальных значений - заметно много знчений в районе 0. Это странные значения, лучше от таких строк избавиться. Как и в целом от редких значений, менее 40."
   ]
  },
  {
   "cell_type": "code",
   "execution_count": 24,
   "metadata": {},
   "outputs": [],
   "source": [
    "anomaly_index_final = list(data_full_clean.loc[data_full_clean['final.output.total_concentrate'] <= 38].index)\n",
    "anomaly_index_r_output = list(data_full_clean.loc[data_full_clean['rougher.output.total_concentrate'] <= 38].index)\n",
    "anomaly_index_r_input = list(data_full_clean.loc[data_full_clean['rougher.input.total_concentrate'] <= 38].index)\n",
    "anomaly_index = []\n",
    "anomaly_index.extend(anomaly_index_final)\n",
    "anomaly_index.extend(anomaly_index_r_output)\n",
    "anomaly_index.extend(anomaly_index_r_input)\n",
    "data_full_clean = data_full_clean.loc[data_full_clean['final.output.total_concentrate'] > 38]\n",
    "data_full_clean = data_full_clean.loc[data_full_clean['rougher.output.total_concentrate'] > 38]\n",
    "data_full_clean = data_full_clean.loc[data_full_clean['rougher.input.total_concentrate'] > 38]"
   ]
  },
  {
   "cell_type": "code",
   "execution_count": 25,
   "metadata": {},
   "outputs": [
    {
     "data": {
      "image/png": "[encoded data removed]",
      "text/plain": [
       "<Figure size 1296x432 with 1 Axes>"
      ]
     },
     "metadata": {
      "needs_background": "light"
     },
     "output_type": "display_data"
    }
   ],
   "source": [
    "fig, ax = plt.subplots(nrows=1, ncols=1, figsize=(18, 6))\n",
    "\n",
    "i = 0\n",
    "\n",
    "for conc in total_conc:\n",
    "    ax.hist(data_full_clean[conc], \n",
    "            density=density, \n",
    "            bins=bins, \n",
    "            alpha=alpha, \n",
    "            label=labels[i])\n",
    "    i += 1\n",
    "ax.set_title('Суммарная концентрация веществ')\n",
    "ax.legend(labels=labels)\n",
    "plt.show()\n",
    "\n",
    "i = 0"
   ]
  },
  {
   "cell_type": "markdown",
   "metadata": {},
   "source": [
    "Тепеперь в данных нет измерений \"пустого\" сырья"
   ]
  },
  {
   "cell_type": "markdown",
   "metadata": {},
   "source": [
    "###  Разобьем данные на выборки"
   ]
  },
  {
   "cell_type": "markdown",
   "metadata": {},
   "source": [
    "Оставим в обучающем наборе только необходимые признаки"
   ]
  },
  {
   "cell_type": "code",
   "execution_count": 26,
   "metadata": {},
   "outputs": [
    {
     "data": {
      "text/plain": [
       "(11341, 85)"
      ]
     },
     "execution_count": 26,
     "metadata": {},
     "output_type": "execute_result"
    }
   ],
   "source": [
    "data_train.shape"
   ]
  },
  {
   "cell_type": "markdown",
   "metadata": {},
   "source": [
    "Удалим из обучающего набора все ненужные признаки и строки с аномальными значениями, которые мы определили на предыдущем этапе."
   ]
  },
  {
   "cell_type": "code",
   "execution_count": 27,
   "metadata": {},
   "outputs": [
    {
     "data": {
      "text/plain": [
       "(10903, 52)"
      ]
     },
     "execution_count": 27,
     "metadata": {},
     "output_type": "execute_result"
    }
   ],
   "source": [
    "test_features_list = list(data_test.columns)\n",
    "test_features_list.extend(['final.output.recovery', 'rougher.output.recovery'])  #запишем признаки из тестовой выборки и целевой признак (пока один)\n",
    "train_features_list = list(data_train.columns)  #запишем все признаки из обучающей выборки\n",
    "\n",
    "\n",
    "for feature in train_features_list:\n",
    "    if feature not in test_features_list:                 #отбросим те признаки, которых нет в тестовой выборке,\n",
    "        data_train = data_train.drop(feature, axis=1)     #за исключением целевого\n",
    "\n",
    "data_train = data_train.set_index(data_train['date'])\n",
    "data_train = data_train.drop(anomaly_index, errors='ignore')\n",
    "data_train = data_train.reset_index(drop=True)\n",
    "data_train = data_train.drop('date', axis=1)\n",
    "data_train.shape"
   ]
  },
  {
   "cell_type": "markdown",
   "metadata": {},
   "source": [
    "Данные в наборах шли по-порядку, такое расположение данных не помогает обучению модели. Поэтому перед работой с моделями перемешаем наши данные."
   ]
  },
  {
   "cell_type": "code",
   "execution_count": 28,
   "metadata": {},
   "outputs": [],
   "source": [
    "data_train = data_train.sample(frac=1, random_state=12345).reset_index(drop=True)"
   ]
  },
  {
   "cell_type": "markdown",
   "metadata": {},
   "source": [
    "Необходимо разделить обучающий набор на набор признаков и целевой признак для флотации и для очистки. В итоге получится 4 набора, необходимых для обучения моделей. 2 - для флотации, 2 - для очистки."
   ]
  },
  {
   "cell_type": "code",
   "execution_count": 29,
   "metadata": {
    "scrolled": true
   },
   "outputs": [
    {
     "name": "stdout",
     "output_type": "stream",
     "text": [
      "(10903, 20) (10903,)\n",
      "(10903, 31) (10903,)\n"
     ]
    }
   ],
   "source": [
    "all_features_train = data_train.columns  #все необходимые признаки\n",
    "rougher_data_train = data_train.copy()  #тут будут признаки для процесса флотации\n",
    "cleaner_data_train = data_train.copy()  #тут будут признаки для остального процесса очистки\n",
    "for feature in all_features_train:\n",
    "    if 'roug' not in feature:\n",
    "        rougher_data_train = rougher_data_train.drop(feature, axis=1)  #отбрасываем все признаки не отсносящиеся к флотации\n",
    "    if 'clean' not in feature and 'recov' not in feature:\n",
    "        cleaner_data_train = cleaner_data_train.drop(feature, axis=1)  #отбрасываем все признаки относящиеся к флотации за исключением recovery\n",
    "\n",
    "features_train_rougher = rougher_data_train.drop(['rougher.output.recovery'], axis=1).copy()\n",
    "target_train_rougher = rougher_data_train['rougher.output.recovery'].copy()\n",
    "features_train_cleaner = cleaner_data_train.drop(['final.output.recovery'], axis=1).copy()\n",
    "target_train_cleaner = cleaner_data_train['final.output.recovery'].copy()\n",
    "print(features_train_rougher.shape, target_train_rougher.shape)\n",
    "print(features_train_cleaner.shape, target_train_cleaner.shape)"
   ]
  },
  {
   "cell_type": "markdown",
   "metadata": {},
   "source": [
    "Тестовый набор достался нам без целевого признака, необходимо его добавить. И удалить строки с аномальными значениями."
   ]
  },
  {
   "cell_type": "code",
   "execution_count": 30,
   "metadata": {},
   "outputs": [
    {
     "data": {
      "text/plain": [
       "(5250, 51)"
      ]
     },
     "execution_count": 30,
     "metadata": {},
     "output_type": "execute_result"
    }
   ],
   "source": [
    "data_test.shape"
   ]
  },
  {
   "cell_type": "code",
   "execution_count": 31,
   "metadata": {
    "scrolled": true
   },
   "outputs": [
    {
     "data": {
      "text/plain": [
       "(5070, 52)"
      ]
     },
     "execution_count": 31,
     "metadata": {},
     "output_type": "execute_result"
    }
   ],
   "source": [
    "data_test = data_test.set_index(data_test['date'], drop=True)\n",
    "data_test = data_test.join(data_full_clean['final.output.recovery'])\n",
    "data_test = data_test.join(data_full_clean['rougher.output.recovery'])\n",
    "data_test = data_test.reindex(columns=['date',\n",
    "                                       'final.output.recovery', \n",
    "                                       'primary_cleaner.input.sulfate',\n",
    "                                       'primary_cleaner.input.depressant',\n",
    "                                       'primary_cleaner.input.feed_size',\n",
    "                                       'primary_cleaner.input.xanthate', \n",
    "                                       'primary_cleaner.state.floatbank8_a_air',\n",
    "                                       'primary_cleaner.state.floatbank8_a_level',\n",
    "                                       'primary_cleaner.state.floatbank8_b_air', \n",
    "                                       'primary_cleaner.state.floatbank8_b_level',\n",
    "                                       'primary_cleaner.state.floatbank8_c_air',\n",
    "                                       'primary_cleaner.state.floatbank8_c_level',\n",
    "                                       'primary_cleaner.state.floatbank8_d_air',\n",
    "                                       'primary_cleaner.state.floatbank8_d_level',\n",
    "                                       'rougher.input.feed_ag',\n",
    "                                       'rougher.input.feed_pb',\n",
    "                                       'rougher.input.feed_rate',\n",
    "                                       'rougher.input.feed_size',\n",
    "                                       'rougher.input.feed_sol',\n",
    "                                       'rougher.input.feed_au',\n",
    "                                       'rougher.input.floatbank10_sulfate',\n",
    "                                       'rougher.input.floatbank10_xanthate',\n",
    "                                       'rougher.output.recovery',\n",
    "                                       'rougher.state.floatbank10_a_air',\n",
    "                                       'rougher.state.floatbank10_a_level',\n",
    "                                       'rougher.state.floatbank10_b_air',\n",
    "                                       'rougher.state.floatbank10_b_level',\n",
    "                                       'rougher.state.floatbank10_c_air',\n",
    "                                       'rougher.state.floatbank10_c_level',\n",
    "                                       'rougher.state.floatbank10_d_air',\n",
    "                                       'rougher.state.floatbank10_d_level',\n",
    "                                       'rougher.state.floatbank10_e_air',\n",
    "                                       'rougher.state.floatbank10_e_level',\n",
    "                                       'rougher.state.floatbank10_f_air',\n",
    "                                       'rougher.state.floatbank10_f_level',\n",
    "                                       'secondary_cleaner.state.floatbank2_a_air',\n",
    "                                       'secondary_cleaner.state.floatbank2_a_level',\n",
    "                                       'secondary_cleaner.state.floatbank2_b_air',\n",
    "                                       'secondary_cleaner.state.floatbank2_b_level',\n",
    "                                       'secondary_cleaner.state.floatbank3_a_air',\n",
    "                                       'secondary_cleaner.state.floatbank3_a_level',\n",
    "                                       'secondary_cleaner.state.floatbank3_b_air',\n",
    "                                       'secondary_cleaner.state.floatbank3_b_level',\n",
    "                                       'secondary_cleaner.state.floatbank4_a_air',\n",
    "                                       'secondary_cleaner.state.floatbank4_a_level',\n",
    "                                       'secondary_cleaner.state.floatbank4_b_air',\n",
    "                                       'secondary_cleaner.state.floatbank4_b_level',\n",
    "                                       'secondary_cleaner.state.floatbank5_a_air',\n",
    "                                       'secondary_cleaner.state.floatbank5_a_level',\n",
    "                                       'secondary_cleaner.state.floatbank5_b_air',\n",
    "                                       'secondary_cleaner.state.floatbank5_b_level',\n",
    "                                       'secondary_cleaner.state.floatbank6_a_air',\n",
    "                                       'secondary_cleaner.state.floatbank6_a_level'])\n",
    "data_test = data_test.drop(anomaly_index, errors='ignore')\n",
    "data_test = data_test.reset_index(drop=True)\n",
    "data_test = data_test.drop('date', axis=1)\n",
    "data_test.shape"
   ]
  },
  {
   "cell_type": "code",
   "execution_count": 32,
   "metadata": {},
   "outputs": [],
   "source": [
    "data_test = data_test.sample(frac=1, random_state=12345).reset_index(drop=True)"
   ]
  },
  {
   "cell_type": "markdown",
   "metadata": {},
   "source": [
    "Точно также разделим тестовый набор на 2 набора для флотации (признаки и целевой признак) и 2 набора для очистки."
   ]
  },
  {
   "cell_type": "code",
   "execution_count": 33,
   "metadata": {
    "scrolled": true
   },
   "outputs": [
    {
     "name": "stdout",
     "output_type": "stream",
     "text": [
      "(5070, 20) (5070,)\n",
      "(5070, 31) (5070,)\n"
     ]
    }
   ],
   "source": [
    "all_features_test = data_test.columns  #все необходимые признаки\n",
    "rougher_data_test = data_test.copy()  #тут будут признаки для процесса флотации\n",
    "cleaner_data_test = data_test.copy()  #тут будут признаки для остального процесса очистки\n",
    "for feature in all_features_test:\n",
    "    if 'roug' not in feature:\n",
    "        rougher_data_test = rougher_data_test.drop(feature, axis=1)  #отбрасываем все признаки не отсносящиеся к флотации\n",
    "    if 'clean' not in feature and 'recov' not in feature:\n",
    "        cleaner_data_test = cleaner_data_test.drop(feature, axis=1)  #отбрасываем все признаки относящиеся к флотации за исключением recovery\n",
    "\n",
    "features_test_rougher = rougher_data_test.drop(['rougher.output.recovery'], axis=1).copy()\n",
    "target_test_rougher = rougher_data_test['rougher.output.recovery'].copy()\n",
    "features_test_cleaner = cleaner_data_test.drop(['final.output.recovery'], axis=1).copy()\n",
    "target_test_cleaner = cleaner_data_test['final.output.recovery'].copy()\n",
    "print(features_test_rougher.shape, target_test_rougher.shape)\n",
    "print(features_test_cleaner.shape, target_test_cleaner.shape)"
   ]
  },
  {
   "cell_type": "markdown",
   "metadata": {},
   "source": [
    "## Модель"
   ]
  },
  {
   "cell_type": "markdown",
   "metadata": {},
   "source": [
    "### Функция для расчета sMAPE"
   ]
  },
  {
   "cell_type": "code",
   "execution_count": 34,
   "metadata": {},
   "outputs": [],
   "source": [
    "def sMAPE(target, predictions):\n",
    "    predictions = pd.Series(predictions).reset_index(drop=True)\n",
    "    target = pd.Series(target).reset_index(drop=True)\n",
    "    step_1 = (target - predictions).abs()\n",
    "    step_2 = (target.abs() + predictions.abs())/2\n",
    "    smape = (step_1 / step_2).mean() * 100\n",
    "    return smape\n",
    "\n",
    "smape_score = make_scorer(sMAPE, greater_is_better=False)\n",
    "\n",
    "def cv_smape(model, cv, features, target):\n",
    "    cv_results = cross_val_score(model, \n",
    "                                 features, \n",
    "                                 target, \n",
    "                                 cv=cv, \n",
    "                                 scoring=smape_score,\n",
    "                                 n_jobs=-1)\n",
    "    smape = abs(sum(cv_results) / len(cv_results))\n",
    "    return smape"
   ]
  },
  {
   "cell_type": "code",
   "execution_count": 35,
   "metadata": {},
   "outputs": [],
   "source": [
    "i = 0\n",
    "def new_row(table, data, i):\n",
    "    row_lin = pd.DataFrame(data=[data], columns=table.columns)\n",
    "    table.loc[i, :] = row_lin.loc[0, :]\n",
    "    display(table)\n",
    "    i = i + 1\n",
    "    return table, i"
   ]
  },
  {
   "cell_type": "code",
   "execution_count": 36,
   "metadata": {},
   "outputs": [],
   "source": [
    "def best_models(features_train, target_train, model, params, random_state, n_iter, cv, scoring, verbose):\n",
    "    clf_rougher = BayesSearchCV(model,\n",
    "                                search_spaces=params,\n",
    "                                random_state=random_state,\n",
    "                                n_iter=n_iter,\n",
    "                                cv=cv,\n",
    "                                scoring=scoring,\n",
    "                                verbose=verbose,\n",
    "                                n_jobs=-1)\n",
    "    clf_rougher_search = clf_rougher.fit(features_train, target_train)\n",
    "    best_score = clf_rougher_search.best_score_\n",
    "    best_params = clf_rougher_search.best_params_\n",
    "    best_model = clf_rougher_search.best_estimator_\n",
    "    print('Лучшие гипперпараметры: ', best_params)\n",
    "    print('sMAPE:', best_score)\n",
    "    return best_model, best_params, best_score"
   ]
  },
  {
   "cell_type": "code",
   "execution_count": 37,
   "metadata": {},
   "outputs": [],
   "source": [
    "models = pd.DataFrame(columns=['name', \n",
    "                               'rougher_best_params',\n",
    "                               'sMAPE_rougher', \n",
    "                               'cleaner_best_params',\n",
    "                               'sMAPE_cleaner', \n",
    "                               'total_SMAPE'\n",
    "                              ])"
   ]
  },
  {
   "cell_type": "markdown",
   "metadata": {},
   "source": [
    "### Константаная модель"
   ]
  },
  {
   "cell_type": "code",
   "execution_count": 38,
   "metadata": {},
   "outputs": [
    {
     "name": "stdout",
     "output_type": "stream",
     "text": [
      "8.519029872289234\n"
     ]
    }
   ],
   "source": [
    "predictions_rougher = pd.Series(target_train_rougher.mean(), index=target_train_rougher.index)\n",
    "smape_rougher_const = sMAPE(target_train_rougher, predictions_rougher)\n",
    "\n",
    "predictions_cleaner = pd.Series(target_train_cleaner.mean(), index=target_train_cleaner.index)\n",
    "smape_cleaner_const = sMAPE(target_train_cleaner, predictions_cleaner)\n",
    "\n",
    "smape_const = 0.25 * smape_rougher_const + 0.75 * smape_cleaner_const\n",
    "\n",
    "print(smape_const)"
   ]
  },
  {
   "cell_type": "code",
   "execution_count": 39,
   "metadata": {},
   "outputs": [
    {
     "data": {
      "text/html": [
       "<div>\n",
       "<style scoped>\n",
       "    .dataframe tbody tr th:only-of-type {\n",
       "        vertical-align: middle;\n",
       "    }\n",
       "\n",
       "    .dataframe tbody tr th {\n",
       "        vertical-align: top;\n",
       "    }\n",
       "\n",
       "    .dataframe thead th {\n",
       "        text-align: right;\n",
       "    }\n",
       "</style>\n",
       "<table border=\"1\" class=\"dataframe\">\n",
       "  <thead>\n",
       "    <tr style=\"text-align: right;\">\n",
       "      <th></th>\n",
       "      <th>name</th>\n",
       "      <th>rougher_best_params</th>\n",
       "      <th>sMAPE_rougher</th>\n",
       "      <th>cleaner_best_params</th>\n",
       "      <th>sMAPE_cleaner</th>\n",
       "      <th>total_SMAPE</th>\n",
       "    </tr>\n",
       "  </thead>\n",
       "  <tbody>\n",
       "    <tr>\n",
       "      <th>0</th>\n",
       "      <td>const</td>\n",
       "      <td>None</td>\n",
       "      <td>7.100552</td>\n",
       "      <td>None</td>\n",
       "      <td>8.991856</td>\n",
       "      <td>8.51903</td>\n",
       "    </tr>\n",
       "  </tbody>\n",
       "</table>\n",
       "</div>"
      ],
      "text/plain": [
       "    name rougher_best_params sMAPE_rougher cleaner_best_params sMAPE_cleaner  \\\n",
       "0  const                None      7.100552                None      8.991856   \n",
       "\n",
       "  total_SMAPE  \n",
       "0     8.51903  "
      ]
     },
     "metadata": {},
     "output_type": "display_data"
    }
   ],
   "source": [
    "models, i = new_row(models, \n",
    "                    ['const', \n",
    "                     None, \n",
    "                     smape_rougher_const, \n",
    "                     None, \n",
    "                     smape_cleaner_const, \n",
    "                     smape_const],\n",
    "                   i)"
   ]
  },
  {
   "cell_type": "markdown",
   "metadata": {},
   "source": [
    "Константная модель с предскзанием среднего значения для всех объектов показывает значение sMAPE в 9.07%."
   ]
  },
  {
   "cell_type": "markdown",
   "metadata": {},
   "source": [
    "### Линейная регрессия"
   ]
  },
  {
   "cell_type": "code",
   "execution_count": 40,
   "metadata": {},
   "outputs": [
    {
     "name": "stdout",
     "output_type": "stream",
     "text": [
      "6.581869500986664\n"
     ]
    }
   ],
   "source": [
    "model_rougher_1 = LinearRegression()\n",
    "smape_rougher_1 = cv_smape(model_rougher_1, CV, features_train_rougher, target_train_rougher)\n",
    "\n",
    "model_rougher_1.fit(features_train_rougher, target_train_rougher)\n",
    "features_train_cleaner['rougher.output.recovery'] = model_rougher_1.predict(features_train_rougher)\n",
    "\n",
    "model_cleaner_1 = LinearRegression()\n",
    "model_cleaner_1.fit(features_train_cleaner, target_train_cleaner)\n",
    "smape_cleaner_1 = cv_smape(model_cleaner_1, CV, features_train_cleaner, target_train_cleaner)\n",
    "smape_1 = 0.25 * smape_rougher_1 + 0.75 * smape_cleaner_1\n",
    "print(smape_1)"
   ]
  },
  {
   "cell_type": "markdown",
   "metadata": {},
   "source": [
    "Линейная модель показала результат гораздо лучше."
   ]
  },
  {
   "cell_type": "code",
   "execution_count": 41,
   "metadata": {},
   "outputs": [
    {
     "data": {
      "text/html": [
       "<div>\n",
       "<style scoped>\n",
       "    .dataframe tbody tr th:only-of-type {\n",
       "        vertical-align: middle;\n",
       "    }\n",
       "\n",
       "    .dataframe tbody tr th {\n",
       "        vertical-align: top;\n",
       "    }\n",
       "\n",
       "    .dataframe thead th {\n",
       "        text-align: right;\n",
       "    }\n",
       "</style>\n",
       "<table border=\"1\" class=\"dataframe\">\n",
       "  <thead>\n",
       "    <tr style=\"text-align: right;\">\n",
       "      <th></th>\n",
       "      <th>name</th>\n",
       "      <th>rougher_best_params</th>\n",
       "      <th>sMAPE_rougher</th>\n",
       "      <th>cleaner_best_params</th>\n",
       "      <th>sMAPE_cleaner</th>\n",
       "      <th>total_SMAPE</th>\n",
       "    </tr>\n",
       "  </thead>\n",
       "  <tbody>\n",
       "    <tr>\n",
       "      <th>0</th>\n",
       "      <td>const</td>\n",
       "      <td>None</td>\n",
       "      <td>7.100552</td>\n",
       "      <td>None</td>\n",
       "      <td>8.991856</td>\n",
       "      <td>8.51903</td>\n",
       "    </tr>\n",
       "    <tr>\n",
       "      <th>1</th>\n",
       "      <td>lin</td>\n",
       "      <td>None</td>\n",
       "      <td>4.901257</td>\n",
       "      <td>None</td>\n",
       "      <td>7.142074</td>\n",
       "      <td>6.58187</td>\n",
       "    </tr>\n",
       "  </tbody>\n",
       "</table>\n",
       "</div>"
      ],
      "text/plain": [
       "    name rougher_best_params sMAPE_rougher cleaner_best_params sMAPE_cleaner  \\\n",
       "0  const                None      7.100552                None      8.991856   \n",
       "1    lin                None      4.901257                None      7.142074   \n",
       "\n",
       "  total_SMAPE  \n",
       "0     8.51903  \n",
       "1     6.58187  "
      ]
     },
     "metadata": {},
     "output_type": "display_data"
    }
   ],
   "source": [
    "models, i = new_row(models, \n",
    "                    ['lin', \n",
    "                     None, \n",
    "                     smape_rougher_1, \n",
    "                     None, \n",
    "                     smape_cleaner_1, \n",
    "                     smape_1],\n",
    "                   i)"
   ]
  },
  {
   "cell_type": "markdown",
   "metadata": {},
   "source": [
    "### Дерево решений"
   ]
  },
  {
   "cell_type": "code",
   "execution_count": 42,
   "metadata": {
    "scrolled": true
   },
   "outputs": [
    {
     "name": "stdout",
     "output_type": "stream",
     "text": [
      "Fitting 5 folds for each of 1 candidates, totalling 5 fits\n",
      "Fitting 5 folds for each of 1 candidates, totalling 5 fits\n",
      "Fitting 5 folds for each of 1 candidates, totalling 5 fits\n",
      "Fitting 5 folds for each of 1 candidates, totalling 5 fits\n",
      "Fitting 5 folds for each of 1 candidates, totalling 5 fits\n",
      "Fitting 5 folds for each of 1 candidates, totalling 5 fits\n",
      "Fitting 5 folds for each of 1 candidates, totalling 5 fits\n",
      "Fitting 5 folds for each of 1 candidates, totalling 5 fits\n",
      "Fitting 5 folds for each of 1 candidates, totalling 5 fits\n",
      "Fitting 5 folds for each of 1 candidates, totalling 5 fits\n",
      "Лучшие гипперпараметры:  OrderedDict([('criterion', 'friedman_mse'), ('max_depth', 10), ('min_samples_leaf', 4)])\n",
      "sMAPE: -3.77377309087147\n"
     ]
    }
   ],
   "source": [
    "params_2 = {'max_depth' : Integer(1, MAX_DEPTH, 'log-uniform'),\n",
    "            'criterion' : Categorical(['squared_error', 'absolute_error', 'friedman_mse', 'poisson']),\n",
    "            'min_samples_leaf' : Integer(1, MAX_MIN_SAMPLE_LEAF, 'log-uniform')\n",
    "           }\n",
    "model_rougher_2 = DecisionTreeRegressor(random_state=RANDOM_STATE)\n",
    "best_model_rougher_2, best_params_rougher_2, best_score_rougher_2 = best_models(features_train_rougher,\n",
    "                                                                                target_train_rougher,\n",
    "                                                                                model_rougher_2,\n",
    "                                                                                params_2,\n",
    "                                                                                RANDOM_STATE,\n",
    "                                                                                N_ITER,\n",
    "                                                                                CV,\n",
    "                                                                                smape_score,\n",
    "                                                                                20\n",
    "                                                                               )\n",
    "features_train_cleaner['rougher.output.recovery'] = best_model_rougher_2.predict(features_train_rougher)"
   ]
  },
  {
   "cell_type": "code",
   "execution_count": 43,
   "metadata": {},
   "outputs": [
    {
     "name": "stdout",
     "output_type": "stream",
     "text": [
      "Fitting 5 folds for each of 1 candidates, totalling 5 fits\n",
      "Fitting 5 folds for each of 1 candidates, totalling 5 fits\n",
      "Fitting 5 folds for each of 1 candidates, totalling 5 fits\n",
      "Fitting 5 folds for each of 1 candidates, totalling 5 fits\n",
      "Fitting 5 folds for each of 1 candidates, totalling 5 fits\n",
      "Fitting 5 folds for each of 1 candidates, totalling 5 fits\n",
      "Fitting 5 folds for each of 1 candidates, totalling 5 fits\n",
      "Fitting 5 folds for each of 1 candidates, totalling 5 fits\n",
      "Fitting 5 folds for each of 1 candidates, totalling 5 fits\n",
      "Fitting 5 folds for each of 1 candidates, totalling 5 fits\n",
      "Лучшие гипперпараметры:  OrderedDict([('criterion', 'friedman_mse'), ('max_depth', 10), ('min_samples_leaf', 4)])\n",
      "sMAPE: -6.235849958912015\n"
     ]
    }
   ],
   "source": [
    "model_cleaner_2 = DecisionTreeRegressor(random_state=RANDOM_STATE)\n",
    "best_model_cleaner_2, best_params_cleaner_2, best_score_cleaner_2 = best_models(features_train_cleaner,\n",
    "                                                                                 target_train_cleaner,\n",
    "                                                                                 model_cleaner_2,\n",
    "                                                                                 params_2,\n",
    "                                                                                 RANDOM_STATE,\n",
    "                                                                                 N_ITER,\n",
    "                                                                                 CV,\n",
    "                                                                                 smape_score,\n",
    "                                                                                 20\n",
    "                                                                                )"
   ]
  },
  {
   "cell_type": "code",
   "execution_count": 44,
   "metadata": {},
   "outputs": [
    {
     "name": "stdout",
     "output_type": "stream",
     "text": [
      "Итоговый sMAPE для модели дерева: 5.620330741901879\n"
     ]
    }
   ],
   "source": [
    "smape_2 = abs(0.25 * best_score_rougher_2 + 0.75 * best_score_cleaner_2)\n",
    "\n",
    "print(f'Итоговый sMAPE для модели дерева: {smape_2}')"
   ]
  },
  {
   "cell_type": "code",
   "execution_count": 45,
   "metadata": {},
   "outputs": [
    {
     "data": {
      "text/html": [
       "<div>\n",
       "<style scoped>\n",
       "    .dataframe tbody tr th:only-of-type {\n",
       "        vertical-align: middle;\n",
       "    }\n",
       "\n",
       "    .dataframe tbody tr th {\n",
       "        vertical-align: top;\n",
       "    }\n",
       "\n",
       "    .dataframe thead th {\n",
       "        text-align: right;\n",
       "    }\n",
       "</style>\n",
       "<table border=\"1\" class=\"dataframe\">\n",
       "  <thead>\n",
       "    <tr style=\"text-align: right;\">\n",
       "      <th></th>\n",
       "      <th>name</th>\n",
       "      <th>rougher_best_params</th>\n",
       "      <th>sMAPE_rougher</th>\n",
       "      <th>cleaner_best_params</th>\n",
       "      <th>sMAPE_cleaner</th>\n",
       "      <th>total_SMAPE</th>\n",
       "    </tr>\n",
       "  </thead>\n",
       "  <tbody>\n",
       "    <tr>\n",
       "      <th>0</th>\n",
       "      <td>const</td>\n",
       "      <td>None</td>\n",
       "      <td>7.100552</td>\n",
       "      <td>None</td>\n",
       "      <td>8.991856</td>\n",
       "      <td>8.51903</td>\n",
       "    </tr>\n",
       "    <tr>\n",
       "      <th>1</th>\n",
       "      <td>lin</td>\n",
       "      <td>None</td>\n",
       "      <td>4.901257</td>\n",
       "      <td>None</td>\n",
       "      <td>7.142074</td>\n",
       "      <td>6.58187</td>\n",
       "    </tr>\n",
       "    <tr>\n",
       "      <th>2</th>\n",
       "      <td>tree</td>\n",
       "      <td>{'criterion': 'friedman_mse', 'max_depth': 10,...</td>\n",
       "      <td>-3.773773</td>\n",
       "      <td>{'criterion': 'friedman_mse', 'max_depth': 10,...</td>\n",
       "      <td>-6.23585</td>\n",
       "      <td>5.620331</td>\n",
       "    </tr>\n",
       "  </tbody>\n",
       "</table>\n",
       "</div>"
      ],
      "text/plain": [
       "    name                                rougher_best_params sMAPE_rougher  \\\n",
       "0  const                                               None      7.100552   \n",
       "1    lin                                               None      4.901257   \n",
       "2   tree  {'criterion': 'friedman_mse', 'max_depth': 10,...     -3.773773   \n",
       "\n",
       "                                 cleaner_best_params sMAPE_cleaner total_SMAPE  \n",
       "0                                               None      8.991856     8.51903  \n",
       "1                                               None      7.142074     6.58187  \n",
       "2  {'criterion': 'friedman_mse', 'max_depth': 10,...      -6.23585    5.620331  "
      ]
     },
     "metadata": {},
     "output_type": "display_data"
    }
   ],
   "source": [
    "models, i = new_row(models, \n",
    "                    ['tree', \n",
    "                     best_params_rougher_2, \n",
    "                     best_score_rougher_2, \n",
    "                     best_params_cleaner_2, \n",
    "                     best_score_cleaner_2, \n",
    "                     smape_2],\n",
    "                   i)"
   ]
  },
  {
   "cell_type": "markdown",
   "metadata": {},
   "source": [
    "### Случайный Лес"
   ]
  },
  {
   "cell_type": "code",
   "execution_count": 46,
   "metadata": {},
   "outputs": [
    {
     "name": "stdout",
     "output_type": "stream",
     "text": [
      "Fitting 5 folds for each of 1 candidates, totalling 5 fits\n",
      "Fitting 5 folds for each of 1 candidates, totalling 5 fits\n",
      "Fitting 5 folds for each of 1 candidates, totalling 5 fits\n",
      "Fitting 5 folds for each of 1 candidates, totalling 5 fits\n",
      "Fitting 5 folds for each of 1 candidates, totalling 5 fits\n",
      "Fitting 5 folds for each of 1 candidates, totalling 5 fits\n",
      "Fitting 5 folds for each of 1 candidates, totalling 5 fits\n",
      "Fitting 5 folds for each of 1 candidates, totalling 5 fits\n",
      "Fitting 5 folds for each of 1 candidates, totalling 5 fits\n",
      "Fitting 5 folds for each of 1 candidates, totalling 5 fits\n",
      "Лучшие гипперпараметры:  OrderedDict([('criterion', 'friedman_mse'), ('max_depth', 10), ('min_samples_leaf', 4), ('n_estimators', 5)])\n",
      "sMAPE: -3.3862202890777082\n"
     ]
    }
   ],
   "source": [
    "params_3 = {'max_depth' : Integer(1, MAX_DEPTH, 'log-uniform'),\n",
    "            'n_estimators' : Integer(1, MAX_N_ESTIMATORS, 'log-uniform'),\n",
    "            'criterion' : Categorical(['squared_error', 'absolute_error', 'friedman_mse', 'poisson']),\n",
    "            'min_samples_leaf' : Integer(1, MAX_MIN_SAMPLE_LEAF, 'log-uniform')\n",
    "           }\n",
    "model_rougher_3 = RandomForestRegressor(random_state=RANDOM_STATE, n_jobs=-1)\n",
    "\n",
    "best_model_rougher_3, best_params_rougher_3, best_score_rougher_3 = best_models(features_train_rougher,\n",
    "                                                                                target_train_rougher,\n",
    "                                                                                model_rougher_3,\n",
    "                                                                                params_3,\n",
    "                                                                                RANDOM_STATE,\n",
    "                                                                                N_ITER,\n",
    "                                                                                CV,\n",
    "                                                                                smape_score,\n",
    "                                                                                20\n",
    "                                                                               )\n",
    "\n",
    "features_train_cleaner['rougher.output.recovery'] = best_model_rougher_3.predict(features_train_rougher)"
   ]
  },
  {
   "cell_type": "code",
   "execution_count": 47,
   "metadata": {},
   "outputs": [
    {
     "name": "stdout",
     "output_type": "stream",
     "text": [
      "Fitting 5 folds for each of 1 candidates, totalling 5 fits\n",
      "Fitting 5 folds for each of 1 candidates, totalling 5 fits\n",
      "Fitting 5 folds for each of 1 candidates, totalling 5 fits\n",
      "Fitting 5 folds for each of 1 candidates, totalling 5 fits\n",
      "Fitting 5 folds for each of 1 candidates, totalling 5 fits\n",
      "Fitting 5 folds for each of 1 candidates, totalling 5 fits\n",
      "Fitting 5 folds for each of 1 candidates, totalling 5 fits\n",
      "Fitting 5 folds for each of 1 candidates, totalling 5 fits\n",
      "Fitting 5 folds for each of 1 candidates, totalling 5 fits\n",
      "Fitting 5 folds for each of 1 candidates, totalling 5 fits\n",
      "Лучшие гипперпараметры:  OrderedDict([('criterion', 'friedman_mse'), ('max_depth', 10), ('min_samples_leaf', 4), ('n_estimators', 5)])\n",
      "sMAPE: -5.711099756167176\n"
     ]
    }
   ],
   "source": [
    "model_cleaner_3 = RandomForestRegressor(random_state=RANDOM_STATE, n_jobs=-1)\n",
    "\n",
    "best_model_cleaner_3, best_params_cleaner_3, best_score_cleaner_3 = best_models(features_train_cleaner,\n",
    "                                                                                 target_train_cleaner,\n",
    "                                                                                 model_cleaner_3,\n",
    "                                                                                 params_3,\n",
    "                                                                                 RANDOM_STATE,\n",
    "                                                                                 N_ITER,\n",
    "                                                                                 CV,\n",
    "                                                                                 smape_score,\n",
    "                                                                                 20\n",
    "                                                                                )"
   ]
  },
  {
   "cell_type": "code",
   "execution_count": 48,
   "metadata": {},
   "outputs": [
    {
     "name": "stdout",
     "output_type": "stream",
     "text": [
      "Итоговый sMAPE для модели леса: 5.129879889394809\n"
     ]
    }
   ],
   "source": [
    "smape_3 = abs(0.25 * best_score_rougher_3 + 0.75 * best_score_cleaner_3)\n",
    "\n",
    "print(f'Итоговый sMAPE для модели леса: {smape_3}')"
   ]
  },
  {
   "cell_type": "markdown",
   "metadata": {},
   "source": [
    "Случайный лес показал наилучший резльтут."
   ]
  },
  {
   "cell_type": "code",
   "execution_count": 49,
   "metadata": {
    "scrolled": true
   },
   "outputs": [
    {
     "data": {
      "text/html": [
       "<div>\n",
       "<style scoped>\n",
       "    .dataframe tbody tr th:only-of-type {\n",
       "        vertical-align: middle;\n",
       "    }\n",
       "\n",
       "    .dataframe tbody tr th {\n",
       "        vertical-align: top;\n",
       "    }\n",
       "\n",
       "    .dataframe thead th {\n",
       "        text-align: right;\n",
       "    }\n",
       "</style>\n",
       "<table border=\"1\" class=\"dataframe\">\n",
       "  <thead>\n",
       "    <tr style=\"text-align: right;\">\n",
       "      <th></th>\n",
       "      <th>name</th>\n",
       "      <th>rougher_best_params</th>\n",
       "      <th>sMAPE_rougher</th>\n",
       "      <th>cleaner_best_params</th>\n",
       "      <th>sMAPE_cleaner</th>\n",
       "      <th>total_SMAPE</th>\n",
       "    </tr>\n",
       "  </thead>\n",
       "  <tbody>\n",
       "    <tr>\n",
       "      <th>0</th>\n",
       "      <td>const</td>\n",
       "      <td>None</td>\n",
       "      <td>7.100552</td>\n",
       "      <td>None</td>\n",
       "      <td>8.991856</td>\n",
       "      <td>8.51903</td>\n",
       "    </tr>\n",
       "    <tr>\n",
       "      <th>1</th>\n",
       "      <td>lin</td>\n",
       "      <td>None</td>\n",
       "      <td>4.901257</td>\n",
       "      <td>None</td>\n",
       "      <td>7.142074</td>\n",
       "      <td>6.58187</td>\n",
       "    </tr>\n",
       "    <tr>\n",
       "      <th>2</th>\n",
       "      <td>tree</td>\n",
       "      <td>{'criterion': 'friedman_mse', 'max_depth': 10,...</td>\n",
       "      <td>-3.773773</td>\n",
       "      <td>{'criterion': 'friedman_mse', 'max_depth': 10,...</td>\n",
       "      <td>-6.23585</td>\n",
       "      <td>5.620331</td>\n",
       "    </tr>\n",
       "    <tr>\n",
       "      <th>3</th>\n",
       "      <td>forest</td>\n",
       "      <td>{'criterion': 'friedman_mse', 'max_depth': 10,...</td>\n",
       "      <td>-3.38622</td>\n",
       "      <td>{'criterion': 'friedman_mse', 'max_depth': 10,...</td>\n",
       "      <td>-5.7111</td>\n",
       "      <td>5.12988</td>\n",
       "    </tr>\n",
       "  </tbody>\n",
       "</table>\n",
       "</div>"
      ],
      "text/plain": [
       "     name                                rougher_best_params sMAPE_rougher  \\\n",
       "0   const                                               None      7.100552   \n",
       "1     lin                                               None      4.901257   \n",
       "2    tree  {'criterion': 'friedman_mse', 'max_depth': 10,...     -3.773773   \n",
       "3  forest  {'criterion': 'friedman_mse', 'max_depth': 10,...      -3.38622   \n",
       "\n",
       "                                 cleaner_best_params sMAPE_cleaner total_SMAPE  \n",
       "0                                               None      8.991856     8.51903  \n",
       "1                                               None      7.142074     6.58187  \n",
       "2  {'criterion': 'friedman_mse', 'max_depth': 10,...      -6.23585    5.620331  \n",
       "3  {'criterion': 'friedman_mse', 'max_depth': 10,...       -5.7111     5.12988  "
      ]
     },
     "metadata": {},
     "output_type": "display_data"
    }
   ],
   "source": [
    "models, i = new_row(models, \n",
    "                    ['forest', \n",
    "                     best_params_rougher_3, \n",
    "                     best_score_rougher_3, \n",
    "                     best_params_cleaner_3, \n",
    "                     best_score_cleaner_3, \n",
    "                     smape_3],\n",
    "                   i)"
   ]
  },
  {
   "cell_type": "markdown",
   "metadata": {},
   "source": [
    "### LGBM"
   ]
  },
  {
   "cell_type": "code",
   "execution_count": 68,
   "metadata": {},
   "outputs": [
    {
     "name": "stdout",
     "output_type": "stream",
     "text": [
      "Fitting 5 folds for each of 1 candidates, totalling 5 fits\n",
      "Fitting 5 folds for each of 1 candidates, totalling 5 fits\n",
      "Fitting 5 folds for each of 1 candidates, totalling 5 fits\n",
      "Fitting 5 folds for each of 1 candidates, totalling 5 fits\n",
      "Fitting 5 folds for each of 1 candidates, totalling 5 fits\n",
      "Fitting 5 folds for each of 1 candidates, totalling 5 fits\n",
      "Fitting 5 folds for each of 1 candidates, totalling 5 fits\n",
      "Fitting 5 folds for each of 1 candidates, totalling 5 fits\n",
      "Fitting 5 folds for each of 1 candidates, totalling 5 fits\n",
      "Fitting 5 folds for each of 1 candidates, totalling 5 fits\n",
      "[LightGBM] [Warning] bagging_freq is set=1, subsample_freq=0 will be ignored. Current value: bagging_freq=1\n",
      "Лучшие гипперпараметры:  OrderedDict([('max_depth', 9), ('n_estimators', 1387)])\n",
      "sMAPE: -3.0296497931796598\n"
     ]
    }
   ],
   "source": [
    "model_rougher_4 = LGBMRegressor(random_state=RANDOM_STATE, \n",
    "                                n_jobs=-1, \n",
    "                                deterministic=True, \n",
    "                                bagging_freq=1)\n",
    "\n",
    "params_4 = {'max_depth' : Integer(1, MAX_DEPTH, 'log-uniform'),\n",
    "            'n_estimators' : Integer(500, 3000, 'log-uniform')\n",
    "           }\n",
    "\n",
    "best_model_rougher_4, best_params_rougher_4, best_score_rougher_4 = best_models(features_train_rougher,\n",
    "                                                                                target_train_rougher,\n",
    "                                                                                model_rougher_4,\n",
    "                                                                                params_4,\n",
    "                                                                                RANDOM_STATE,\n",
    "                                                                                N_ITER,\n",
    "                                                                                CV,\n",
    "                                                                                smape_score,\n",
    "                                                                                20\n",
    "                                                                               )\n",
    "\n",
    "features_train_cleaner['rougher.output.recovery'] = best_model_rougher_4.predict(features_train_rougher)"
   ]
  },
  {
   "cell_type": "code",
   "execution_count": 69,
   "metadata": {},
   "outputs": [
    {
     "name": "stdout",
     "output_type": "stream",
     "text": [
      "Fitting 5 folds for each of 1 candidates, totalling 5 fits\n",
      "Fitting 5 folds for each of 1 candidates, totalling 5 fits\n",
      "Fitting 5 folds for each of 1 candidates, totalling 5 fits\n",
      "Fitting 5 folds for each of 1 candidates, totalling 5 fits\n",
      "Fitting 5 folds for each of 1 candidates, totalling 5 fits\n",
      "Fitting 5 folds for each of 1 candidates, totalling 5 fits\n",
      "Fitting 5 folds for each of 1 candidates, totalling 5 fits\n",
      "Fitting 5 folds for each of 1 candidates, totalling 5 fits\n",
      "Fitting 5 folds for each of 1 candidates, totalling 5 fits\n",
      "Fitting 5 folds for each of 1 candidates, totalling 5 fits\n",
      "[LightGBM] [Warning] bagging_freq is set=1, subsample_freq=0 will be ignored. Current value: bagging_freq=1\n",
      "Лучшие гипперпараметры:  OrderedDict([('max_depth', 9), ('n_estimators', 1387)])\n",
      "sMAPE: -4.68207876336039\n"
     ]
    }
   ],
   "source": [
    "model_cleaner_4 = LGBMRegressor(random_state=RANDOM_STATE, \n",
    "                                n_jobs=-1, \n",
    "                                deterministic=True, \n",
    "                                bagging_freq=1)\n",
    "\n",
    "best_model_cleaner_4, best_params_cleaner_4, best_score_cleaner_4 = best_models(features_train_cleaner,\n",
    "                                                                                target_train_cleaner,\n",
    "                                                                                model_cleaner_4,\n",
    "                                                                                params_4,\n",
    "                                                                                RANDOM_STATE,\n",
    "                                                                                N_ITER,\n",
    "                                                                                CV,\n",
    "                                                                                smape_score,\n",
    "                                                                                20\n",
    "                                                                               )"
   ]
  },
  {
   "cell_type": "code",
   "execution_count": 70,
   "metadata": {},
   "outputs": [
    {
     "name": "stdout",
     "output_type": "stream",
     "text": [
      "Итоговый sMAPE для модели леса: 4.268971520815207\n"
     ]
    }
   ],
   "source": [
    "smape_4 = abs(0.25 * best_score_rougher_4 + 0.75 * best_score_cleaner_4)\n",
    "\n",
    "print(f'Итоговый sMAPE для модели леса: {smape_4}')"
   ]
  },
  {
   "cell_type": "code",
   "execution_count": 53,
   "metadata": {},
   "outputs": [
    {
     "data": {
      "text/html": [
       "<div>\n",
       "<style scoped>\n",
       "    .dataframe tbody tr th:only-of-type {\n",
       "        vertical-align: middle;\n",
       "    }\n",
       "\n",
       "    .dataframe tbody tr th {\n",
       "        vertical-align: top;\n",
       "    }\n",
       "\n",
       "    .dataframe thead th {\n",
       "        text-align: right;\n",
       "    }\n",
       "</style>\n",
       "<table border=\"1\" class=\"dataframe\">\n",
       "  <thead>\n",
       "    <tr style=\"text-align: right;\">\n",
       "      <th></th>\n",
       "      <th>name</th>\n",
       "      <th>rougher_best_params</th>\n",
       "      <th>sMAPE_rougher</th>\n",
       "      <th>cleaner_best_params</th>\n",
       "      <th>sMAPE_cleaner</th>\n",
       "      <th>total_SMAPE</th>\n",
       "    </tr>\n",
       "  </thead>\n",
       "  <tbody>\n",
       "    <tr>\n",
       "      <th>0</th>\n",
       "      <td>const</td>\n",
       "      <td>None</td>\n",
       "      <td>7.100552</td>\n",
       "      <td>None</td>\n",
       "      <td>8.991856</td>\n",
       "      <td>8.51903</td>\n",
       "    </tr>\n",
       "    <tr>\n",
       "      <th>1</th>\n",
       "      <td>lin</td>\n",
       "      <td>None</td>\n",
       "      <td>4.901257</td>\n",
       "      <td>None</td>\n",
       "      <td>7.142074</td>\n",
       "      <td>6.58187</td>\n",
       "    </tr>\n",
       "    <tr>\n",
       "      <th>2</th>\n",
       "      <td>tree</td>\n",
       "      <td>{'criterion': 'friedman_mse', 'max_depth': 10,...</td>\n",
       "      <td>-3.773773</td>\n",
       "      <td>{'criterion': 'friedman_mse', 'max_depth': 10,...</td>\n",
       "      <td>-6.23585</td>\n",
       "      <td>5.620331</td>\n",
       "    </tr>\n",
       "    <tr>\n",
       "      <th>3</th>\n",
       "      <td>forest</td>\n",
       "      <td>{'criterion': 'friedman_mse', 'max_depth': 10,...</td>\n",
       "      <td>-3.38622</td>\n",
       "      <td>{'criterion': 'friedman_mse', 'max_depth': 10,...</td>\n",
       "      <td>-5.7111</td>\n",
       "      <td>5.12988</td>\n",
       "    </tr>\n",
       "    <tr>\n",
       "      <th>4</th>\n",
       "      <td>LGBM</td>\n",
       "      <td>{'max_depth': 9, 'n_estimators': 1387}</td>\n",
       "      <td>-3.02965</td>\n",
       "      <td>{'max_depth': 9, 'n_estimators': 1387}</td>\n",
       "      <td>-4.682079</td>\n",
       "      <td>4.268972</td>\n",
       "    </tr>\n",
       "  </tbody>\n",
       "</table>\n",
       "</div>"
      ],
      "text/plain": [
       "     name                                rougher_best_params sMAPE_rougher  \\\n",
       "0   const                                               None      7.100552   \n",
       "1     lin                                               None      4.901257   \n",
       "2    tree  {'criterion': 'friedman_mse', 'max_depth': 10,...     -3.773773   \n",
       "3  forest  {'criterion': 'friedman_mse', 'max_depth': 10,...      -3.38622   \n",
       "4    LGBM             {'max_depth': 9, 'n_estimators': 1387}      -3.02965   \n",
       "\n",
       "                                 cleaner_best_params sMAPE_cleaner total_SMAPE  \n",
       "0                                               None      8.991856     8.51903  \n",
       "1                                               None      7.142074     6.58187  \n",
       "2  {'criterion': 'friedman_mse', 'max_depth': 10,...      -6.23585    5.620331  \n",
       "3  {'criterion': 'friedman_mse', 'max_depth': 10,...       -5.7111     5.12988  \n",
       "4             {'max_depth': 9, 'n_estimators': 1387}     -4.682079    4.268972  "
      ]
     },
     "metadata": {},
     "output_type": "display_data"
    }
   ],
   "source": [
    "models, i = new_row(models, \n",
    "                    ['LGBM', \n",
    "                     best_params_rougher_4, \n",
    "                     best_score_rougher_4, \n",
    "                     best_params_cleaner_4, \n",
    "                     best_score_cleaner_4, \n",
    "                     smape_4],\n",
    "                   i)"
   ]
  },
  {
   "cell_type": "markdown",
   "metadata": {},
   "source": [
    "### Определение лучшей модели"
   ]
  },
  {
   "cell_type": "markdown",
   "metadata": {},
   "source": [
    "Отсортируем модели по увеличение итогового sMAPE."
   ]
  },
  {
   "cell_type": "code",
   "execution_count": 54,
   "metadata": {},
   "outputs": [
    {
     "data": {
      "text/html": [
       "<div>\n",
       "<style scoped>\n",
       "    .dataframe tbody tr th:only-of-type {\n",
       "        vertical-align: middle;\n",
       "    }\n",
       "\n",
       "    .dataframe tbody tr th {\n",
       "        vertical-align: top;\n",
       "    }\n",
       "\n",
       "    .dataframe thead th {\n",
       "        text-align: right;\n",
       "    }\n",
       "</style>\n",
       "<table border=\"1\" class=\"dataframe\">\n",
       "  <thead>\n",
       "    <tr style=\"text-align: right;\">\n",
       "      <th></th>\n",
       "      <th>name</th>\n",
       "      <th>rougher_best_params</th>\n",
       "      <th>sMAPE_rougher</th>\n",
       "      <th>cleaner_best_params</th>\n",
       "      <th>sMAPE_cleaner</th>\n",
       "      <th>total_SMAPE</th>\n",
       "    </tr>\n",
       "  </thead>\n",
       "  <tbody>\n",
       "    <tr>\n",
       "      <th>4</th>\n",
       "      <td>LGBM</td>\n",
       "      <td>{'max_depth': 9, 'n_estimators': 1387}</td>\n",
       "      <td>-3.02965</td>\n",
       "      <td>{'max_depth': 9, 'n_estimators': 1387}</td>\n",
       "      <td>-4.682079</td>\n",
       "      <td>4.268972</td>\n",
       "    </tr>\n",
       "    <tr>\n",
       "      <th>3</th>\n",
       "      <td>forest</td>\n",
       "      <td>{'criterion': 'friedman_mse', 'max_depth': 10,...</td>\n",
       "      <td>-3.38622</td>\n",
       "      <td>{'criterion': 'friedman_mse', 'max_depth': 10,...</td>\n",
       "      <td>-5.7111</td>\n",
       "      <td>5.12988</td>\n",
       "    </tr>\n",
       "    <tr>\n",
       "      <th>2</th>\n",
       "      <td>tree</td>\n",
       "      <td>{'criterion': 'friedman_mse', 'max_depth': 10,...</td>\n",
       "      <td>-3.773773</td>\n",
       "      <td>{'criterion': 'friedman_mse', 'max_depth': 10,...</td>\n",
       "      <td>-6.23585</td>\n",
       "      <td>5.620331</td>\n",
       "    </tr>\n",
       "    <tr>\n",
       "      <th>1</th>\n",
       "      <td>lin</td>\n",
       "      <td>None</td>\n",
       "      <td>4.901257</td>\n",
       "      <td>None</td>\n",
       "      <td>7.142074</td>\n",
       "      <td>6.58187</td>\n",
       "    </tr>\n",
       "    <tr>\n",
       "      <th>0</th>\n",
       "      <td>const</td>\n",
       "      <td>None</td>\n",
       "      <td>7.100552</td>\n",
       "      <td>None</td>\n",
       "      <td>8.991856</td>\n",
       "      <td>8.51903</td>\n",
       "    </tr>\n",
       "  </tbody>\n",
       "</table>\n",
       "</div>"
      ],
      "text/plain": [
       "     name                                rougher_best_params sMAPE_rougher  \\\n",
       "4    LGBM             {'max_depth': 9, 'n_estimators': 1387}      -3.02965   \n",
       "3  forest  {'criterion': 'friedman_mse', 'max_depth': 10,...      -3.38622   \n",
       "2    tree  {'criterion': 'friedman_mse', 'max_depth': 10,...     -3.773773   \n",
       "1     lin                                               None      4.901257   \n",
       "0   const                                               None      7.100552   \n",
       "\n",
       "                                 cleaner_best_params sMAPE_cleaner total_SMAPE  \n",
       "4             {'max_depth': 9, 'n_estimators': 1387}     -4.682079    4.268972  \n",
       "3  {'criterion': 'friedman_mse', 'max_depth': 10,...       -5.7111     5.12988  \n",
       "2  {'criterion': 'friedman_mse', 'max_depth': 10,...      -6.23585    5.620331  \n",
       "1                                               None      7.142074     6.58187  \n",
       "0                                               None      8.991856     8.51903  "
      ]
     },
     "execution_count": 54,
     "metadata": {},
     "output_type": "execute_result"
    }
   ],
   "source": [
    "models.sort_values(by='total_SMAPE')"
   ]
  },
  {
   "cell_type": "markdown",
   "metadata": {},
   "source": [
    "### Проверка модели на тестовой выборке"
   ]
  },
  {
   "cell_type": "markdown",
   "metadata": {},
   "source": [
    "Проверим, какое sMAPE покажет лучшая модель на тестовом наборе данных."
   ]
  },
  {
   "cell_type": "code",
   "execution_count": 71,
   "metadata": {},
   "outputs": [
    {
     "name": "stdout",
     "output_type": "stream",
     "text": [
      "6.887637426183917\n"
     ]
    }
   ],
   "source": [
    "best_model_rougher = best_model_rougher_4\n",
    "best_model_cleaner = best_model_cleaner_4\n",
    "\n",
    "smape_rougher = sMAPE(target_test_rougher, best_model_rougher.predict(features_test_rougher))\n",
    "\n",
    "features_test_cleaner['rougher.output.recovery'] = best_model_rougher.predict(features_test_rougher)\n",
    "\n",
    "smape_cleaner = sMAPE(target_test_cleaner, best_model_cleaner.predict(features_test_cleaner))\n",
    "\n",
    "print(smape_rougher * 0.25 + smape_cleaner * 0.75)"
   ]
  },
  {
   "cell_type": "markdown",
   "metadata": {},
   "source": [
    "В итоге на лучшей модели (случайный лес) для тестовой модели была получена метрика sMAPE в 7.05."
   ]
  },
  {
   "cell_type": "markdown",
   "metadata": {},
   "source": [
    "## Общий вывод"
   ]
  },
  {
   "cell_type": "markdown",
   "metadata": {},
   "source": [
    "1. В ходе проведенной работы были исследованы данные о процессе обогащения золотой руды.\n",
    "\n",
    "2. В соответствии с этими данными можно сделать вывод, что серебро в ходе очистки удаляется, а вот концентрация свинца только возрастает, видимо от него сырье не очищается или очищается совсем назначительно. Тем не менее концентрация золота планомерно растет от этапа к этапу\n",
    "В данных имелись пропуски, вызванные вероятно ошибками при выгрузке данных или сбоями при их сборе.\n",
    "Имелись аномальные значения: на некоторых этапах суммарная концентрация веществ была равна 0, что довольно странно. От таких объектов пришлось избавиться.\n",
    "Концентрация золота, как и ожидалось, от процесса к процессу увеличивается,остальные примеси удаляются на разных этапах обогащения.\n",
    "\n",
    "3. Предложенные обучающий и тестовый наборы можно применять для обучения и тестирования моделей, так как эти выборки сопоставимы.\n",
    "\n",
    "4. Были обучены 3 регрессионные модели: линейная регрессия, дерево решений и случайный лес, с помощью кроссвалидации найдены наилучшие параметры. Лучшей оказалась модель случайного леса. Средняя sMAPE показала значение в 5.42 на обучающей выборке.\n",
    "\n",
    "5. Проверка на тестовой выборке показало sMAPE в 7.05. Видно, что модель переобучилась."
   ]
  }
 ],
 "metadata": {
  "ExecuteTimeLog": [
   {
    "duration": 2186,
    "start_time": "2022-10-15T07:14:57.956Z"
   },
   {
    "duration": 1468,
    "start_time": "2022-10-15T07:15:00.144Z"
   },
   {
    "duration": 19,
    "start_time": "2022-10-15T07:15:01.614Z"
   },
   {
    "duration": 67,
    "start_time": "2022-10-15T07:15:01.635Z"
   },
   {
    "duration": 83,
    "start_time": "2022-10-15T07:15:01.704Z"
   },
   {
    "duration": 16,
    "start_time": "2022-10-15T07:15:01.788Z"
   },
   {
    "duration": 9,
    "start_time": "2022-10-15T07:15:01.806Z"
   },
   {
    "duration": 4,
    "start_time": "2022-10-15T07:15:01.833Z"
   },
   {
    "duration": 107,
    "start_time": "2022-10-15T07:15:01.838Z"
   },
   {
    "duration": 61,
    "start_time": "2022-10-15T07:15:01.947Z"
   },
   {
    "duration": 24,
    "start_time": "2022-10-15T07:15:02.010Z"
   },
   {
    "duration": 63,
    "start_time": "2022-10-15T07:20:06.857Z"
   },
   {
    "duration": 9,
    "start_time": "2022-10-15T07:20:09.221Z"
   },
   {
    "duration": 6,
    "start_time": "2022-10-15T07:20:09.735Z"
   },
   {
    "duration": 12,
    "start_time": "2022-10-15T07:20:16.724Z"
   },
   {
    "duration": 8,
    "start_time": "2022-10-15T07:20:17.843Z"
   },
   {
    "duration": 3,
    "start_time": "2022-10-15T07:20:34.603Z"
   },
   {
    "duration": 2504,
    "start_time": "2022-10-15T07:20:36.939Z"
   },
   {
    "duration": 70,
    "start_time": "2022-10-15T07:21:21.209Z"
   },
   {
    "duration": 8,
    "start_time": "2022-10-15T07:59:06.935Z"
   },
   {
    "duration": 85,
    "start_time": "2022-10-15T07:59:10.245Z"
   },
   {
    "duration": 9,
    "start_time": "2022-10-15T07:59:12.172Z"
   },
   {
    "duration": 49,
    "start_time": "2022-10-15T07:59:13.286Z"
   },
   {
    "duration": 7,
    "start_time": "2022-10-15T07:59:14.380Z"
   },
   {
    "duration": 391,
    "start_time": "2022-10-15T07:59:16.262Z"
   },
   {
    "duration": 6,
    "start_time": "2022-10-15T07:59:21.582Z"
   },
   {
    "duration": 317,
    "start_time": "2022-10-15T07:59:22.691Z"
   },
   {
    "duration": 11,
    "start_time": "2022-10-15T08:02:33.337Z"
   },
   {
    "duration": 190,
    "start_time": "2022-10-15T08:02:34.320Z"
   },
   {
    "duration": 6,
    "start_time": "2022-10-15T08:02:35.912Z"
   },
   {
    "duration": 138,
    "start_time": "2022-10-15T08:02:36.893Z"
   },
   {
    "duration": 5,
    "start_time": "2022-10-15T08:02:37.942Z"
   },
   {
    "duration": 195,
    "start_time": "2022-10-15T08:02:38.974Z"
   },
   {
    "duration": 6,
    "start_time": "2022-10-15T08:02:41.323Z"
   },
   {
    "duration": 69,
    "start_time": "2022-10-15T08:02:42.914Z"
   },
   {
    "duration": 4,
    "start_time": "2022-10-15T08:02:44.275Z"
   },
   {
    "duration": 11,
    "start_time": "2022-10-15T08:02:44.979Z"
   },
   {
    "duration": 14,
    "start_time": "2022-10-15T08:02:45.645Z"
   },
   {
    "duration": 69,
    "start_time": "2022-10-15T08:02:47.812Z"
   },
   {
    "duration": 7,
    "start_time": "2022-10-15T08:02:49.971Z"
   },
   {
    "duration": 69,
    "start_time": "2022-10-15T08:03:03.634Z"
   },
   {
    "duration": 7,
    "start_time": "2022-10-15T08:03:05.023Z"
   },
   {
    "duration": 318,
    "start_time": "2022-10-15T08:03:08.200Z"
   },
   {
    "duration": 4,
    "start_time": "2022-10-15T08:07:32.170Z"
   },
   {
    "duration": 9,
    "start_time": "2022-10-15T08:07:35.201Z"
   },
   {
    "duration": 1980,
    "start_time": "2022-10-15T08:07:39.255Z"
   },
   {
    "duration": 1235,
    "start_time": "2022-10-15T12:36:28.623Z"
   },
   {
    "duration": 1568,
    "start_time": "2022-10-15T12:36:29.860Z"
   },
   {
    "duration": 21,
    "start_time": "2022-10-15T12:36:31.430Z"
   },
   {
    "duration": 85,
    "start_time": "2022-10-15T12:36:31.453Z"
   },
   {
    "duration": 69,
    "start_time": "2022-10-15T12:36:31.541Z"
   },
   {
    "duration": 28,
    "start_time": "2022-10-15T12:36:31.611Z"
   },
   {
    "duration": 23,
    "start_time": "2022-10-15T12:36:31.641Z"
   },
   {
    "duration": 11,
    "start_time": "2022-10-15T12:36:31.665Z"
   },
   {
    "duration": 108,
    "start_time": "2022-10-15T12:36:31.677Z"
   },
   {
    "duration": 2430,
    "start_time": "2022-10-15T12:36:38.052Z"
   },
   {
    "duration": 56,
    "start_time": "2022-10-15T12:36:42.705Z"
   },
   {
    "duration": 1789,
    "start_time": "2022-10-15T12:45:58.297Z"
   },
   {
    "duration": 142,
    "start_time": "2022-10-15T12:47:24.504Z"
   },
   {
    "duration": 1704,
    "start_time": "2022-10-15T12:48:50.459Z"
   },
   {
    "duration": 12,
    "start_time": "2022-10-15T12:54:14.784Z"
   },
   {
    "duration": 4,
    "start_time": "2022-10-15T12:54:20.988Z"
   },
   {
    "duration": 738,
    "start_time": "2022-10-15T12:54:20.994Z"
   },
   {
    "duration": 20,
    "start_time": "2022-10-15T12:54:21.736Z"
   },
   {
    "duration": 85,
    "start_time": "2022-10-15T12:54:21.757Z"
   },
   {
    "duration": 13,
    "start_time": "2022-10-15T12:54:21.844Z"
   },
   {
    "duration": 20,
    "start_time": "2022-10-15T12:54:21.859Z"
   },
   {
    "duration": 8,
    "start_time": "2022-10-15T12:54:21.880Z"
   },
   {
    "duration": 38,
    "start_time": "2022-10-15T12:54:21.889Z"
   },
   {
    "duration": 109,
    "start_time": "2022-10-15T12:54:21.930Z"
   },
   {
    "duration": 2366,
    "start_time": "2022-10-15T12:54:22.041Z"
   },
   {
    "duration": 50,
    "start_time": "2022-10-15T12:54:24.409Z"
   },
   {
    "duration": 452,
    "start_time": "2022-10-15T12:54:24.460Z"
   },
   {
    "duration": 30,
    "start_time": "2022-10-15T12:54:24.913Z"
   },
   {
    "duration": 17,
    "start_time": "2022-10-15T12:54:24.945Z"
   },
   {
    "duration": 62,
    "start_time": "2022-10-15T12:54:24.964Z"
   },
   {
    "duration": 20,
    "start_time": "2022-10-15T12:54:25.030Z"
   },
   {
    "duration": 4,
    "start_time": "2022-10-15T12:54:25.053Z"
   },
   {
    "duration": 1507,
    "start_time": "2022-10-15T12:54:25.059Z"
   },
   {
    "duration": 112,
    "start_time": "2022-10-15T12:54:30.413Z"
   },
   {
    "duration": 2815,
    "start_time": "2022-10-15T12:58:57.329Z"
   },
   {
    "duration": 4,
    "start_time": "2022-10-15T12:59:29.086Z"
   },
   {
    "duration": 742,
    "start_time": "2022-10-15T12:59:29.092Z"
   },
   {
    "duration": 20,
    "start_time": "2022-10-15T12:59:29.838Z"
   },
   {
    "duration": 80,
    "start_time": "2022-10-15T12:59:29.860Z"
   },
   {
    "duration": 12,
    "start_time": "2022-10-15T12:59:29.942Z"
   },
   {
    "duration": 19,
    "start_time": "2022-10-15T12:59:29.956Z"
   },
   {
    "duration": 7,
    "start_time": "2022-10-15T12:59:29.977Z"
   },
   {
    "duration": 64,
    "start_time": "2022-10-15T12:59:29.986Z"
   },
   {
    "duration": 130,
    "start_time": "2022-10-15T12:59:30.051Z"
   },
   {
    "duration": 4711,
    "start_time": "2022-10-15T12:59:30.182Z"
   },
   {
    "duration": 438,
    "start_time": "2022-10-15T12:59:34.895Z"
   },
   {
    "duration": 29,
    "start_time": "2022-10-15T13:00:06.027Z"
   },
   {
    "duration": 15,
    "start_time": "2022-10-15T13:00:14.226Z"
   },
   {
    "duration": 4,
    "start_time": "2022-10-15T13:00:18.463Z"
   },
   {
    "duration": 824,
    "start_time": "2022-10-15T13:00:18.469Z"
   },
   {
    "duration": 17,
    "start_time": "2022-10-15T13:00:19.295Z"
   },
   {
    "duration": 78,
    "start_time": "2022-10-15T13:00:19.314Z"
   },
   {
    "duration": 13,
    "start_time": "2022-10-15T13:00:19.394Z"
   },
   {
    "duration": 44,
    "start_time": "2022-10-15T13:00:19.409Z"
   },
   {
    "duration": 7,
    "start_time": "2022-10-15T13:00:19.455Z"
   },
   {
    "duration": 13,
    "start_time": "2022-10-15T13:00:19.464Z"
   },
   {
    "duration": 120,
    "start_time": "2022-10-15T13:00:19.479Z"
   },
   {
    "duration": 4911,
    "start_time": "2022-10-15T13:00:19.601Z"
   },
   {
    "duration": 485,
    "start_time": "2022-10-15T13:00:24.514Z"
   },
   {
    "duration": 40,
    "start_time": "2022-10-15T13:00:25.001Z"
   },
   {
    "duration": 8,
    "start_time": "2022-10-15T13:00:26.668Z"
   },
   {
    "duration": 1580,
    "start_time": "2022-10-15T13:00:33.831Z"
   },
   {
    "duration": 469,
    "start_time": "2022-10-15T13:08:01.142Z"
   },
   {
    "duration": 5,
    "start_time": "2022-10-15T13:08:06.049Z"
   },
   {
    "duration": 741,
    "start_time": "2022-10-15T13:08:06.056Z"
   },
   {
    "duration": 24,
    "start_time": "2022-10-15T13:08:06.799Z"
   },
   {
    "duration": 72,
    "start_time": "2022-10-15T13:08:06.826Z"
   },
   {
    "duration": 39,
    "start_time": "2022-10-15T13:08:06.902Z"
   },
   {
    "duration": 18,
    "start_time": "2022-10-15T13:08:06.943Z"
   },
   {
    "duration": 9,
    "start_time": "2022-10-15T13:08:06.963Z"
   },
   {
    "duration": 12,
    "start_time": "2022-10-15T13:08:06.974Z"
   },
   {
    "duration": 126,
    "start_time": "2022-10-15T13:08:06.988Z"
   },
   {
    "duration": 8436,
    "start_time": "2022-10-15T13:08:07.126Z"
   },
   {
    "duration": 462,
    "start_time": "2022-10-15T13:08:15.565Z"
   },
   {
    "duration": 61,
    "start_time": "2022-10-15T13:13:46.599Z"
   },
   {
    "duration": 1195,
    "start_time": "2022-10-15T13:14:00.559Z"
   },
   {
    "duration": 707,
    "start_time": "2022-10-15T13:14:01.756Z"
   },
   {
    "duration": 19,
    "start_time": "2022-10-15T13:14:02.465Z"
   },
   {
    "duration": 84,
    "start_time": "2022-10-15T13:14:02.486Z"
   },
   {
    "duration": 14,
    "start_time": "2022-10-15T13:14:02.572Z"
   },
   {
    "duration": 43,
    "start_time": "2022-10-15T13:14:05.043Z"
   },
   {
    "duration": 72,
    "start_time": "2022-10-15T13:14:27.979Z"
   },
   {
    "duration": 79,
    "start_time": "2022-10-15T13:19:45.181Z"
   },
   {
    "duration": 167,
    "start_time": "2022-10-15T13:20:04.330Z"
   },
   {
    "duration": 16,
    "start_time": "2022-10-15T13:20:13.297Z"
   },
   {
    "duration": 6,
    "start_time": "2022-10-15T13:20:46.854Z"
   },
   {
    "duration": 794,
    "start_time": "2022-10-15T13:20:46.867Z"
   },
   {
    "duration": 17,
    "start_time": "2022-10-15T13:20:47.663Z"
   },
   {
    "duration": 79,
    "start_time": "2022-10-15T13:20:47.682Z"
   },
   {
    "duration": 14,
    "start_time": "2022-10-15T13:20:47.763Z"
   },
   {
    "duration": 63,
    "start_time": "2022-10-15T13:20:47.779Z"
   },
   {
    "duration": 32,
    "start_time": "2022-10-15T13:20:47.843Z"
   },
   {
    "duration": 78,
    "start_time": "2022-10-15T13:20:47.877Z"
   },
   {
    "duration": 15,
    "start_time": "2022-10-15T13:20:47.957Z"
   },
   {
    "duration": 22,
    "start_time": "2022-10-15T13:20:47.973Z"
   },
   {
    "duration": 125,
    "start_time": "2022-10-15T13:20:47.997Z"
   },
   {
    "duration": 5151,
    "start_time": "2022-10-15T13:20:48.125Z"
   },
   {
    "duration": 411,
    "start_time": "2022-10-15T13:20:55.680Z"
   },
   {
    "duration": 41,
    "start_time": "2022-10-15T13:20:57.502Z"
   },
   {
    "duration": 4,
    "start_time": "2022-10-15T13:28:00.165Z"
   },
   {
    "duration": 745,
    "start_time": "2022-10-15T13:28:00.174Z"
   },
   {
    "duration": 17,
    "start_time": "2022-10-15T13:28:00.921Z"
   },
   {
    "duration": 103,
    "start_time": "2022-10-15T13:28:00.940Z"
   },
   {
    "duration": 52,
    "start_time": "2022-10-15T13:28:01.044Z"
   },
   {
    "duration": 108,
    "start_time": "2022-10-15T13:28:01.098Z"
   },
   {
    "duration": 61,
    "start_time": "2022-10-15T13:28:01.208Z"
   },
   {
    "duration": 124,
    "start_time": "2022-10-15T13:28:01.271Z"
   },
   {
    "duration": 83,
    "start_time": "2022-10-15T13:28:01.397Z"
   },
   {
    "duration": 41,
    "start_time": "2022-10-15T13:28:01.481Z"
   },
   {
    "duration": 129,
    "start_time": "2022-10-15T13:28:01.524Z"
   },
   {
    "duration": 4559,
    "start_time": "2022-10-15T13:28:01.655Z"
   },
   {
    "duration": 48,
    "start_time": "2022-10-15T13:28:06.216Z"
   },
   {
    "duration": 2140,
    "start_time": "2022-10-15T13:28:06.265Z"
   },
   {
    "duration": 20,
    "start_time": "2022-10-15T13:28:17.787Z"
   },
   {
    "duration": 102,
    "start_time": "2022-10-15T13:28:43.160Z"
   },
   {
    "duration": 433,
    "start_time": "2022-10-15T13:29:03.861Z"
   },
   {
    "duration": 26,
    "start_time": "2022-10-15T13:29:07.563Z"
   },
   {
    "duration": 410,
    "start_time": "2022-10-15T13:29:10.054Z"
   },
   {
    "duration": 5,
    "start_time": "2022-10-15T13:37:15.259Z"
   },
   {
    "duration": 696,
    "start_time": "2022-10-15T13:37:15.266Z"
   },
   {
    "duration": 19,
    "start_time": "2022-10-15T13:37:15.964Z"
   },
   {
    "duration": 69,
    "start_time": "2022-10-15T13:37:15.985Z"
   },
   {
    "duration": 17,
    "start_time": "2022-10-15T13:37:16.056Z"
   },
   {
    "duration": 54,
    "start_time": "2022-10-15T13:37:16.075Z"
   },
   {
    "duration": 17,
    "start_time": "2022-10-15T13:37:16.130Z"
   },
   {
    "duration": 82,
    "start_time": "2022-10-15T13:37:16.148Z"
   },
   {
    "duration": 8,
    "start_time": "2022-10-15T13:37:16.232Z"
   },
   {
    "duration": 26,
    "start_time": "2022-10-15T13:37:16.242Z"
   },
   {
    "duration": 94,
    "start_time": "2022-10-15T13:37:16.270Z"
   },
   {
    "duration": 4501,
    "start_time": "2022-10-15T13:37:16.365Z"
   },
   {
    "duration": 52,
    "start_time": "2022-10-15T13:37:20.868Z"
   },
   {
    "duration": 1476,
    "start_time": "2022-10-15T13:37:20.922Z"
   },
   {
    "duration": 167,
    "start_time": "2022-10-15T13:37:22.400Z"
   },
   {
    "duration": 350,
    "start_time": "2022-10-15T13:37:22.620Z"
   },
   {
    "duration": 49,
    "start_time": "2022-10-15T13:37:22.972Z"
   },
   {
    "duration": 66,
    "start_time": "2022-10-15T13:37:23.022Z"
   },
   {
    "duration": 179,
    "start_time": "2022-10-15T13:37:23.121Z"
   },
   {
    "duration": 39,
    "start_time": "2022-10-15T13:37:23.303Z"
   },
   {
    "duration": 300,
    "start_time": "2022-10-15T13:37:23.344Z"
   },
   {
    "duration": 22,
    "start_time": "2022-10-15T13:37:23.646Z"
   },
   {
    "duration": 223,
    "start_time": "2022-10-15T13:37:23.670Z"
   },
   {
    "duration": 35,
    "start_time": "2022-10-15T13:37:23.894Z"
   },
   {
    "duration": 399,
    "start_time": "2022-10-15T13:37:27.600Z"
   },
   {
    "duration": 16,
    "start_time": "2022-10-15T13:37:36.685Z"
   },
   {
    "duration": 62,
    "start_time": "2022-10-15T13:48:28.295Z"
   },
   {
    "duration": 353,
    "start_time": "2022-10-15T13:48:41.955Z"
   },
   {
    "duration": 333,
    "start_time": "2022-10-15T13:49:23.096Z"
   },
   {
    "duration": 22,
    "start_time": "2022-10-15T13:50:57.820Z"
   },
   {
    "duration": 65,
    "start_time": "2022-10-15T13:52:30.635Z"
   },
   {
    "duration": 6,
    "start_time": "2022-10-15T13:54:34.423Z"
   },
   {
    "duration": 37,
    "start_time": "2022-10-15T13:54:44.351Z"
   },
   {
    "duration": 32,
    "start_time": "2022-10-15T13:55:24.779Z"
   },
   {
    "duration": 29,
    "start_time": "2022-10-15T13:55:36.911Z"
   },
   {
    "duration": 62,
    "start_time": "2022-10-15T13:55:47.810Z"
   },
   {
    "duration": 64,
    "start_time": "2022-10-15T13:55:48.740Z"
   },
   {
    "duration": 65,
    "start_time": "2022-10-15T13:55:49.558Z"
   },
   {
    "duration": 53,
    "start_time": "2022-10-15T13:55:50.281Z"
   },
   {
    "duration": 49,
    "start_time": "2022-10-15T13:55:50.822Z"
   },
   {
    "duration": 56,
    "start_time": "2022-10-15T13:55:51.343Z"
   },
   {
    "duration": 382,
    "start_time": "2022-10-15T13:57:22.631Z"
   },
   {
    "duration": 351,
    "start_time": "2022-10-15T13:57:56.958Z"
   },
   {
    "duration": 34,
    "start_time": "2022-10-15T13:58:49.302Z"
   },
   {
    "duration": 42,
    "start_time": "2022-10-15T13:59:00.258Z"
   },
   {
    "duration": 5,
    "start_time": "2022-10-15T13:59:25.061Z"
   },
   {
    "duration": 682,
    "start_time": "2022-10-15T13:59:25.068Z"
   },
   {
    "duration": 18,
    "start_time": "2022-10-15T13:59:25.752Z"
   },
   {
    "duration": 69,
    "start_time": "2022-10-15T13:59:25.772Z"
   },
   {
    "duration": 15,
    "start_time": "2022-10-15T13:59:25.843Z"
   },
   {
    "duration": 61,
    "start_time": "2022-10-15T13:59:25.860Z"
   },
   {
    "duration": 21,
    "start_time": "2022-10-15T13:59:25.924Z"
   },
   {
    "duration": 84,
    "start_time": "2022-10-15T13:59:25.947Z"
   },
   {
    "duration": 9,
    "start_time": "2022-10-15T13:59:26.033Z"
   },
   {
    "duration": 12,
    "start_time": "2022-10-15T13:59:26.044Z"
   },
   {
    "duration": 109,
    "start_time": "2022-10-15T13:59:26.058Z"
   },
   {
    "duration": 4652,
    "start_time": "2022-10-15T13:59:26.168Z"
   },
   {
    "duration": 1476,
    "start_time": "2022-10-15T13:59:30.822Z"
   },
   {
    "duration": 221,
    "start_time": "2022-10-15T13:59:32.300Z"
   },
   {
    "duration": 334,
    "start_time": "2022-10-15T13:59:32.522Z"
   },
   {
    "duration": 63,
    "start_time": "2022-10-15T13:59:32.858Z"
   },
   {
    "duration": 64,
    "start_time": "2022-10-15T13:59:32.923Z"
   },
   {
    "duration": 196,
    "start_time": "2022-10-15T13:59:32.989Z"
   },
   {
    "duration": 43,
    "start_time": "2022-10-15T13:59:33.186Z"
   },
   {
    "duration": 277,
    "start_time": "2022-10-15T13:59:33.231Z"
   },
   {
    "duration": 31,
    "start_time": "2022-10-15T13:59:33.510Z"
   },
   {
    "duration": 203,
    "start_time": "2022-10-15T13:59:33.543Z"
   },
   {
    "duration": 23,
    "start_time": "2022-10-15T13:59:33.748Z"
   },
   {
    "duration": 478,
    "start_time": "2022-10-15T13:59:33.773Z"
   },
   {
    "duration": 369,
    "start_time": "2022-10-15T13:59:34.253Z"
   },
   {
    "duration": 51,
    "start_time": "2022-10-15T13:59:37.037Z"
   },
   {
    "duration": 7,
    "start_time": "2022-10-15T14:01:03.353Z"
   },
   {
    "duration": 4,
    "start_time": "2022-10-15T14:01:40.796Z"
   },
   {
    "duration": 5,
    "start_time": "2022-10-15T14:02:00.757Z"
   },
   {
    "duration": 4,
    "start_time": "2022-10-15T14:02:13.775Z"
   },
   {
    "duration": 41,
    "start_time": "2022-10-15T14:02:33.752Z"
   },
   {
    "duration": 4,
    "start_time": "2022-10-15T14:02:39.274Z"
   },
   {
    "duration": 706,
    "start_time": "2022-10-15T14:02:39.280Z"
   },
   {
    "duration": 19,
    "start_time": "2022-10-15T14:02:39.988Z"
   },
   {
    "duration": 66,
    "start_time": "2022-10-15T14:02:40.008Z"
   },
   {
    "duration": 13,
    "start_time": "2022-10-15T14:02:40.076Z"
   },
   {
    "duration": 53,
    "start_time": "2022-10-15T14:02:40.091Z"
   },
   {
    "duration": 17,
    "start_time": "2022-10-15T14:02:40.146Z"
   },
   {
    "duration": 72,
    "start_time": "2022-10-15T14:02:40.165Z"
   },
   {
    "duration": 8,
    "start_time": "2022-10-15T14:02:40.239Z"
   },
   {
    "duration": 9,
    "start_time": "2022-10-15T14:02:40.249Z"
   },
   {
    "duration": 107,
    "start_time": "2022-10-15T14:02:40.261Z"
   },
   {
    "duration": 4532,
    "start_time": "2022-10-15T14:02:40.369Z"
   },
   {
    "duration": 1439,
    "start_time": "2022-10-15T14:02:44.903Z"
   },
   {
    "duration": 193,
    "start_time": "2022-10-15T14:02:46.344Z"
   },
   {
    "duration": 334,
    "start_time": "2022-10-15T14:02:46.538Z"
   },
   {
    "duration": 49,
    "start_time": "2022-10-15T14:02:46.874Z"
   },
   {
    "duration": 95,
    "start_time": "2022-10-15T14:02:46.925Z"
   },
   {
    "duration": 173,
    "start_time": "2022-10-15T14:02:47.022Z"
   },
   {
    "duration": 42,
    "start_time": "2022-10-15T14:02:47.196Z"
   },
   {
    "duration": 209,
    "start_time": "2022-10-15T14:02:47.240Z"
   },
   {
    "duration": 26,
    "start_time": "2022-10-15T14:02:47.451Z"
   },
   {
    "duration": 294,
    "start_time": "2022-10-15T14:02:47.479Z"
   },
   {
    "duration": 48,
    "start_time": "2022-10-15T14:02:47.775Z"
   },
   {
    "duration": 474,
    "start_time": "2022-10-15T14:02:47.825Z"
   },
   {
    "duration": 380,
    "start_time": "2022-10-15T14:02:48.300Z"
   },
   {
    "duration": 38,
    "start_time": "2022-10-15T14:02:52.452Z"
   },
   {
    "duration": 43,
    "start_time": "2022-10-15T14:03:12.151Z"
   },
   {
    "duration": 5,
    "start_time": "2022-10-15T14:03:51.055Z"
   },
   {
    "duration": 699,
    "start_time": "2022-10-15T14:03:51.061Z"
   },
   {
    "duration": 20,
    "start_time": "2022-10-15T14:03:51.762Z"
   },
   {
    "duration": 78,
    "start_time": "2022-10-15T14:03:51.783Z"
   },
   {
    "duration": 14,
    "start_time": "2022-10-15T14:03:51.863Z"
   },
   {
    "duration": 57,
    "start_time": "2022-10-15T14:03:51.879Z"
   },
   {
    "duration": 16,
    "start_time": "2022-10-15T14:03:51.938Z"
   },
   {
    "duration": 73,
    "start_time": "2022-10-15T14:03:51.956Z"
   },
   {
    "duration": 8,
    "start_time": "2022-10-15T14:03:52.030Z"
   },
   {
    "duration": 6,
    "start_time": "2022-10-15T14:03:52.040Z"
   },
   {
    "duration": 107,
    "start_time": "2022-10-15T14:03:52.048Z"
   },
   {
    "duration": 4555,
    "start_time": "2022-10-15T14:03:52.156Z"
   },
   {
    "duration": 1455,
    "start_time": "2022-10-15T14:03:56.713Z"
   },
   {
    "duration": 260,
    "start_time": "2022-10-15T14:03:58.170Z"
   },
   {
    "duration": 251,
    "start_time": "2022-10-15T14:03:58.431Z"
   },
   {
    "duration": 48,
    "start_time": "2022-10-15T14:03:58.684Z"
   },
   {
    "duration": 93,
    "start_time": "2022-10-15T14:03:58.734Z"
   },
   {
    "duration": 295,
    "start_time": "2022-10-15T14:03:58.829Z"
   },
   {
    "duration": 23,
    "start_time": "2022-10-15T14:03:59.126Z"
   },
   {
    "duration": 219,
    "start_time": "2022-10-15T14:03:59.151Z"
   },
   {
    "duration": 51,
    "start_time": "2022-10-15T14:03:59.371Z"
   },
   {
    "duration": 200,
    "start_time": "2022-10-15T14:03:59.424Z"
   },
   {
    "duration": 25,
    "start_time": "2022-10-15T14:03:59.626Z"
   },
   {
    "duration": 541,
    "start_time": "2022-10-15T14:03:59.653Z"
   },
   {
    "duration": 406,
    "start_time": "2022-10-15T14:04:00.196Z"
   },
   {
    "duration": 23,
    "start_time": "2022-10-15T14:04:02.298Z"
   },
   {
    "duration": 14,
    "start_time": "2022-10-15T14:04:05.239Z"
   },
   {
    "duration": 54,
    "start_time": "2022-10-15T14:04:24.731Z"
   },
   {
    "duration": 21,
    "start_time": "2022-10-15T14:06:45.143Z"
   },
   {
    "duration": 55,
    "start_time": "2022-10-15T14:06:53.897Z"
   },
   {
    "duration": 21,
    "start_time": "2022-10-15T14:07:39.961Z"
   },
   {
    "duration": 45,
    "start_time": "2022-10-15T14:08:22.328Z"
   },
   {
    "duration": 804,
    "start_time": "2022-10-15T14:08:59.340Z"
   },
   {
    "duration": 42,
    "start_time": "2022-10-15T14:09:21.065Z"
   },
   {
    "duration": 125,
    "start_time": "2022-10-15T14:10:03.195Z"
   },
   {
    "duration": 5,
    "start_time": "2022-10-15T14:10:35.810Z"
   },
   {
    "duration": 738,
    "start_time": "2022-10-15T14:10:35.817Z"
   },
   {
    "duration": 18,
    "start_time": "2022-10-15T14:10:36.557Z"
   },
   {
    "duration": 83,
    "start_time": "2022-10-15T14:10:36.577Z"
   },
   {
    "duration": 13,
    "start_time": "2022-10-15T14:10:36.663Z"
   },
   {
    "duration": 48,
    "start_time": "2022-10-15T14:10:36.678Z"
   },
   {
    "duration": 18,
    "start_time": "2022-10-15T14:10:36.728Z"
   },
   {
    "duration": 75,
    "start_time": "2022-10-15T14:10:36.748Z"
   },
   {
    "duration": 8,
    "start_time": "2022-10-15T14:10:36.825Z"
   },
   {
    "duration": 24,
    "start_time": "2022-10-15T14:10:36.835Z"
   },
   {
    "duration": 127,
    "start_time": "2022-10-15T14:10:36.862Z"
   },
   {
    "duration": 29,
    "start_time": "2022-10-15T14:10:36.991Z"
   },
   {
    "duration": 1431,
    "start_time": "2022-10-15T14:10:37.022Z"
   },
   {
    "duration": 170,
    "start_time": "2022-10-15T14:10:38.455Z"
   },
   {
    "duration": 387,
    "start_time": "2022-10-15T14:10:38.626Z"
   },
   {
    "duration": 8,
    "start_time": "2022-10-15T14:10:39.023Z"
   },
   {
    "duration": 56,
    "start_time": "2022-10-15T14:10:39.033Z"
   },
   {
    "duration": 156,
    "start_time": "2022-10-15T14:10:39.091Z"
   },
   {
    "duration": 8,
    "start_time": "2022-10-15T14:10:39.249Z"
   },
   {
    "duration": 184,
    "start_time": "2022-10-15T14:10:39.258Z"
   },
   {
    "duration": 8,
    "start_time": "2022-10-15T14:10:39.443Z"
   },
   {
    "duration": 253,
    "start_time": "2022-10-15T14:10:39.453Z"
   },
   {
    "duration": 7,
    "start_time": "2022-10-15T14:10:39.708Z"
   },
   {
    "duration": 118,
    "start_time": "2022-10-15T14:10:39.721Z"
   },
   {
    "duration": 88,
    "start_time": "2022-10-15T14:10:39.840Z"
   },
   {
    "duration": 14,
    "start_time": "2022-10-15T14:10:39.930Z"
   },
   {
    "duration": 91,
    "start_time": "2022-10-15T14:10:39.945Z"
   },
   {
    "duration": 7,
    "start_time": "2022-10-15T14:10:47.082Z"
   },
   {
    "duration": 8,
    "start_time": "2022-10-15T14:10:52.460Z"
   },
   {
    "duration": 79,
    "start_time": "2022-10-15T14:25:40.129Z"
   },
   {
    "duration": 52,
    "start_time": "2022-10-15T14:25:55.135Z"
   },
   {
    "duration": 764,
    "start_time": "2022-10-15T14:26:36.901Z"
   },
   {
    "duration": 770,
    "start_time": "2022-10-15T14:27:14.354Z"
   },
   {
    "duration": 816,
    "start_time": "2022-10-15T14:27:19.754Z"
   },
   {
    "duration": 22,
    "start_time": "2022-10-15T14:29:10.034Z"
   },
   {
    "duration": 6,
    "start_time": "2022-10-15T14:29:20.887Z"
   },
   {
    "duration": 671,
    "start_time": "2022-10-15T14:29:20.894Z"
   },
   {
    "duration": 17,
    "start_time": "2022-10-15T14:29:21.567Z"
   },
   {
    "duration": 78,
    "start_time": "2022-10-15T14:29:21.586Z"
   },
   {
    "duration": 13,
    "start_time": "2022-10-15T14:29:21.667Z"
   },
   {
    "duration": 63,
    "start_time": "2022-10-15T14:29:21.682Z"
   },
   {
    "duration": 20,
    "start_time": "2022-10-15T14:29:21.748Z"
   },
   {
    "duration": 94,
    "start_time": "2022-10-15T14:29:21.769Z"
   },
   {
    "duration": 9,
    "start_time": "2022-10-15T14:29:21.865Z"
   },
   {
    "duration": 10,
    "start_time": "2022-10-15T14:29:21.875Z"
   },
   {
    "duration": 104,
    "start_time": "2022-10-15T14:29:21.887Z"
   },
   {
    "duration": 29,
    "start_time": "2022-10-15T14:29:21.992Z"
   },
   {
    "duration": 18,
    "start_time": "2022-10-15T14:29:23.359Z"
   },
   {
    "duration": 7,
    "start_time": "2022-10-15T14:32:07.378Z"
   },
   {
    "duration": 1567,
    "start_time": "2022-10-15T14:35:22.030Z"
   },
   {
    "duration": 775,
    "start_time": "2022-10-15T14:35:23.598Z"
   },
   {
    "duration": 19,
    "start_time": "2022-10-15T14:35:24.375Z"
   },
   {
    "duration": 92,
    "start_time": "2022-10-15T14:35:24.396Z"
   },
   {
    "duration": 88,
    "start_time": "2022-10-15T14:35:24.490Z"
   },
   {
    "duration": 54,
    "start_time": "2022-10-15T14:35:24.580Z"
   },
   {
    "duration": 18,
    "start_time": "2022-10-15T14:35:24.637Z"
   },
   {
    "duration": 88,
    "start_time": "2022-10-15T14:35:24.657Z"
   },
   {
    "duration": 8,
    "start_time": "2022-10-15T14:35:24.747Z"
   },
   {
    "duration": 4,
    "start_time": "2022-10-15T14:35:24.758Z"
   },
   {
    "duration": 131,
    "start_time": "2022-10-15T14:35:24.764Z"
   },
   {
    "duration": 37,
    "start_time": "2022-10-15T14:35:24.896Z"
   },
   {
    "duration": 1966,
    "start_time": "2022-10-15T14:35:24.936Z"
   },
   {
    "duration": 247,
    "start_time": "2022-10-15T14:35:26.904Z"
   },
   {
    "duration": 528,
    "start_time": "2022-10-15T14:35:27.153Z"
   },
   {
    "duration": 10,
    "start_time": "2022-10-15T14:35:27.683Z"
   },
   {
    "duration": 53,
    "start_time": "2022-10-15T14:35:27.695Z"
   },
   {
    "duration": 267,
    "start_time": "2022-10-15T14:35:27.750Z"
   },
   {
    "duration": 13,
    "start_time": "2022-10-15T14:35:28.018Z"
   },
   {
    "duration": 203,
    "start_time": "2022-10-15T14:35:28.034Z"
   },
   {
    "duration": 7,
    "start_time": "2022-10-15T14:35:28.241Z"
   },
   {
    "duration": 301,
    "start_time": "2022-10-15T14:35:28.250Z"
   },
   {
    "duration": 7,
    "start_time": "2022-10-15T14:35:28.553Z"
   },
   {
    "duration": 126,
    "start_time": "2022-10-15T14:35:28.561Z"
   },
   {
    "duration": 84,
    "start_time": "2022-10-15T14:35:28.689Z"
   },
   {
    "duration": 16,
    "start_time": "2022-10-15T14:35:28.775Z"
   },
   {
    "duration": 8,
    "start_time": "2022-10-15T14:35:31.297Z"
   },
   {
    "duration": 4,
    "start_time": "2022-10-15T14:42:38.070Z"
   },
   {
    "duration": 741,
    "start_time": "2022-10-15T14:42:38.076Z"
   },
   {
    "duration": 19,
    "start_time": "2022-10-15T14:42:38.819Z"
   },
   {
    "duration": 97,
    "start_time": "2022-10-15T14:42:38.841Z"
   },
   {
    "duration": 18,
    "start_time": "2022-10-15T14:42:38.941Z"
   },
   {
    "duration": 78,
    "start_time": "2022-10-15T14:42:38.960Z"
   },
   {
    "duration": 23,
    "start_time": "2022-10-15T14:42:39.041Z"
   },
   {
    "duration": 97,
    "start_time": "2022-10-15T14:42:39.067Z"
   },
   {
    "duration": 7,
    "start_time": "2022-10-15T14:42:39.166Z"
   },
   {
    "duration": 6,
    "start_time": "2022-10-15T14:42:39.175Z"
   },
   {
    "duration": 98,
    "start_time": "2022-10-15T14:42:39.183Z"
   },
   {
    "duration": 21,
    "start_time": "2022-10-15T14:42:39.283Z"
   },
   {
    "duration": 1584,
    "start_time": "2022-10-15T14:42:39.306Z"
   },
   {
    "duration": 140,
    "start_time": "2022-10-15T14:42:40.892Z"
   },
   {
    "duration": 205,
    "start_time": "2022-10-15T14:42:41.035Z"
   },
   {
    "duration": 142,
    "start_time": "2022-10-15T14:42:41.243Z"
   },
   {
    "duration": 14,
    "start_time": "2022-10-15T14:42:44.579Z"
   },
   {
    "duration": 7,
    "start_time": "2022-10-15T14:42:47.595Z"
   },
   {
    "duration": 99,
    "start_time": "2022-10-15T14:43:45.445Z"
   },
   {
    "duration": 68,
    "start_time": "2022-10-15T14:43:59.564Z"
   },
   {
    "duration": 172,
    "start_time": "2022-10-15T14:44:58.642Z"
   },
   {
    "duration": 6,
    "start_time": "2022-10-15T14:45:01.735Z"
   },
   {
    "duration": 814,
    "start_time": "2022-10-15T14:45:01.743Z"
   },
   {
    "duration": 20,
    "start_time": "2022-10-15T14:45:02.559Z"
   },
   {
    "duration": 102,
    "start_time": "2022-10-15T14:45:02.581Z"
   },
   {
    "duration": 15,
    "start_time": "2022-10-15T14:45:02.685Z"
   },
   {
    "duration": 85,
    "start_time": "2022-10-15T14:45:02.702Z"
   },
   {
    "duration": 18,
    "start_time": "2022-10-15T14:45:02.789Z"
   },
   {
    "duration": 88,
    "start_time": "2022-10-15T14:45:02.809Z"
   },
   {
    "duration": 23,
    "start_time": "2022-10-15T14:45:02.900Z"
   },
   {
    "duration": 27,
    "start_time": "2022-10-15T14:45:02.927Z"
   },
   {
    "duration": 108,
    "start_time": "2022-10-15T14:45:02.957Z"
   },
   {
    "duration": 19,
    "start_time": "2022-10-15T14:45:03.066Z"
   },
   {
    "duration": 1753,
    "start_time": "2022-10-15T14:45:03.087Z"
   },
   {
    "duration": 179,
    "start_time": "2022-10-15T14:45:04.844Z"
   },
   {
    "duration": 217,
    "start_time": "2022-10-15T14:45:05.027Z"
   },
   {
    "duration": 126,
    "start_time": "2022-10-15T14:45:05.246Z"
   },
   {
    "duration": 19,
    "start_time": "2022-10-15T14:45:07.867Z"
   },
   {
    "duration": 25,
    "start_time": "2022-10-15T15:08:34.188Z"
   },
   {
    "duration": 4,
    "start_time": "2022-10-15T15:08:40.490Z"
   },
   {
    "duration": 776,
    "start_time": "2022-10-15T15:08:40.496Z"
   },
   {
    "duration": 19,
    "start_time": "2022-10-15T15:08:41.274Z"
   },
   {
    "duration": 84,
    "start_time": "2022-10-15T15:08:41.295Z"
   },
   {
    "duration": 13,
    "start_time": "2022-10-15T15:08:41.381Z"
   },
   {
    "duration": 73,
    "start_time": "2022-10-15T15:08:41.395Z"
   },
   {
    "duration": 22,
    "start_time": "2022-10-15T15:08:41.470Z"
   },
   {
    "duration": 88,
    "start_time": "2022-10-15T15:08:41.494Z"
   },
   {
    "duration": 8,
    "start_time": "2022-10-15T15:08:41.583Z"
   },
   {
    "duration": 21,
    "start_time": "2022-10-15T15:08:41.593Z"
   },
   {
    "duration": 140,
    "start_time": "2022-10-15T15:08:41.617Z"
   },
   {
    "duration": 22,
    "start_time": "2022-10-15T15:08:41.759Z"
   },
   {
    "duration": 1680,
    "start_time": "2022-10-15T15:08:41.783Z"
   },
   {
    "duration": 176,
    "start_time": "2022-10-15T15:08:43.465Z"
   },
   {
    "duration": 213,
    "start_time": "2022-10-15T15:08:43.644Z"
   },
   {
    "duration": 126,
    "start_time": "2022-10-15T15:08:43.859Z"
   },
   {
    "duration": 56,
    "start_time": "2022-10-15T15:08:44.849Z"
   },
   {
    "duration": 14,
    "start_time": "2022-10-15T15:17:12.049Z"
   },
   {
    "duration": 27,
    "start_time": "2022-10-15T15:18:05.515Z"
   },
   {
    "duration": 96,
    "start_time": "2022-10-15T15:18:56.737Z"
   },
   {
    "duration": 30,
    "start_time": "2022-10-15T15:20:14.021Z"
   },
   {
    "duration": 30,
    "start_time": "2022-10-15T15:20:54.888Z"
   },
   {
    "duration": 4,
    "start_time": "2022-10-15T15:21:04.029Z"
   },
   {
    "duration": 754,
    "start_time": "2022-10-15T15:21:04.035Z"
   },
   {
    "duration": 17,
    "start_time": "2022-10-15T15:21:04.791Z"
   },
   {
    "duration": 82,
    "start_time": "2022-10-15T15:21:04.810Z"
   },
   {
    "duration": 14,
    "start_time": "2022-10-15T15:21:04.894Z"
   },
   {
    "duration": 54,
    "start_time": "2022-10-15T15:21:04.921Z"
   },
   {
    "duration": 17,
    "start_time": "2022-10-15T15:21:04.977Z"
   },
   {
    "duration": 74,
    "start_time": "2022-10-15T15:21:04.996Z"
   },
   {
    "duration": 9,
    "start_time": "2022-10-15T15:21:05.071Z"
   },
   {
    "duration": 29,
    "start_time": "2022-10-15T15:21:05.082Z"
   },
   {
    "duration": 128,
    "start_time": "2022-10-15T15:21:05.115Z"
   },
   {
    "duration": 22,
    "start_time": "2022-10-15T15:21:05.245Z"
   },
   {
    "duration": 1492,
    "start_time": "2022-10-15T15:21:05.268Z"
   },
   {
    "duration": 165,
    "start_time": "2022-10-15T15:21:06.762Z"
   },
   {
    "duration": 196,
    "start_time": "2022-10-15T15:21:06.929Z"
   },
   {
    "duration": 94,
    "start_time": "2022-10-15T15:21:07.127Z"
   },
   {
    "duration": 16,
    "start_time": "2022-10-15T15:21:07.223Z"
   },
   {
    "duration": 26,
    "start_time": "2022-10-15T15:21:24.415Z"
   },
   {
    "duration": 20,
    "start_time": "2022-10-15T15:21:35.107Z"
   },
   {
    "duration": 7,
    "start_time": "2022-10-15T15:21:54.277Z"
   },
   {
    "duration": 6,
    "start_time": "2022-10-15T15:22:49.781Z"
   },
   {
    "duration": 5,
    "start_time": "2022-10-15T15:23:51.752Z"
   },
   {
    "duration": 696,
    "start_time": "2022-10-15T15:23:51.759Z"
   },
   {
    "duration": 18,
    "start_time": "2022-10-15T15:23:52.457Z"
   },
   {
    "duration": 78,
    "start_time": "2022-10-15T15:23:52.477Z"
   },
   {
    "duration": 13,
    "start_time": "2022-10-15T15:23:52.558Z"
   },
   {
    "duration": 63,
    "start_time": "2022-10-15T15:23:52.572Z"
   },
   {
    "duration": 23,
    "start_time": "2022-10-15T15:23:52.638Z"
   },
   {
    "duration": 94,
    "start_time": "2022-10-15T15:23:52.663Z"
   },
   {
    "duration": 8,
    "start_time": "2022-10-15T15:23:52.758Z"
   },
   {
    "duration": 9,
    "start_time": "2022-10-15T15:23:52.768Z"
   },
   {
    "duration": 114,
    "start_time": "2022-10-15T15:23:52.780Z"
   },
   {
    "duration": 30,
    "start_time": "2022-10-15T15:23:52.895Z"
   },
   {
    "duration": 1537,
    "start_time": "2022-10-15T15:23:52.927Z"
   },
   {
    "duration": 165,
    "start_time": "2022-10-15T15:23:54.466Z"
   },
   {
    "duration": 131,
    "start_time": "2022-10-15T15:23:54.632Z"
   },
   {
    "duration": 119,
    "start_time": "2022-10-15T15:23:54.765Z"
   },
   {
    "duration": 5,
    "start_time": "2022-10-15T15:23:54.886Z"
   },
   {
    "duration": 38,
    "start_time": "2022-10-15T15:23:57.832Z"
   },
   {
    "duration": 24,
    "start_time": "2022-10-15T15:24:14.369Z"
   },
   {
    "duration": 5,
    "start_time": "2022-10-15T15:24:23.050Z"
   },
   {
    "duration": 731,
    "start_time": "2022-10-15T15:24:23.057Z"
   },
   {
    "duration": 19,
    "start_time": "2022-10-15T15:24:23.790Z"
   },
   {
    "duration": 67,
    "start_time": "2022-10-15T15:24:23.823Z"
   },
   {
    "duration": 38,
    "start_time": "2022-10-15T15:24:23.892Z"
   },
   {
    "duration": 51,
    "start_time": "2022-10-15T15:24:23.932Z"
   },
   {
    "duration": 46,
    "start_time": "2022-10-15T15:24:23.986Z"
   },
   {
    "duration": 67,
    "start_time": "2022-10-15T15:24:24.034Z"
   },
   {
    "duration": 19,
    "start_time": "2022-10-15T15:24:24.103Z"
   },
   {
    "duration": 38,
    "start_time": "2022-10-15T15:24:24.124Z"
   },
   {
    "duration": 109,
    "start_time": "2022-10-15T15:24:24.163Z"
   },
   {
    "duration": 22,
    "start_time": "2022-10-15T15:24:24.273Z"
   },
   {
    "duration": 1512,
    "start_time": "2022-10-15T15:24:24.297Z"
   },
   {
    "duration": 210,
    "start_time": "2022-10-15T15:24:25.811Z"
   },
   {
    "duration": 135,
    "start_time": "2022-10-15T15:24:26.023Z"
   },
   {
    "duration": 122,
    "start_time": "2022-10-15T15:24:26.159Z"
   },
   {
    "duration": 16,
    "start_time": "2022-10-15T15:24:26.942Z"
   },
   {
    "duration": 69,
    "start_time": "2022-10-15T15:30:35.694Z"
   },
   {
    "duration": 6,
    "start_time": "2022-10-15T15:31:41.851Z"
   },
   {
    "duration": 704,
    "start_time": "2022-10-15T15:31:41.859Z"
   },
   {
    "duration": 18,
    "start_time": "2022-10-15T15:31:42.565Z"
   },
   {
    "duration": 93,
    "start_time": "2022-10-15T15:31:42.585Z"
   },
   {
    "duration": 18,
    "start_time": "2022-10-15T15:31:42.681Z"
   },
   {
    "duration": 68,
    "start_time": "2022-10-15T15:31:42.701Z"
   },
   {
    "duration": 20,
    "start_time": "2022-10-15T15:31:42.771Z"
   },
   {
    "duration": 107,
    "start_time": "2022-10-15T15:31:42.793Z"
   },
   {
    "duration": 9,
    "start_time": "2022-10-15T15:31:42.920Z"
   },
   {
    "duration": 6,
    "start_time": "2022-10-15T15:31:42.931Z"
   },
   {
    "duration": 133,
    "start_time": "2022-10-15T15:31:42.940Z"
   },
   {
    "duration": 29,
    "start_time": "2022-10-15T15:31:43.075Z"
   },
   {
    "duration": 1789,
    "start_time": "2022-10-15T15:31:43.106Z"
   },
   {
    "duration": 163,
    "start_time": "2022-10-15T15:31:44.898Z"
   },
   {
    "duration": 204,
    "start_time": "2022-10-15T15:31:45.063Z"
   },
   {
    "duration": 130,
    "start_time": "2022-10-15T15:31:45.322Z"
   },
   {
    "duration": 15,
    "start_time": "2022-10-15T15:31:45.454Z"
   },
   {
    "duration": 78,
    "start_time": "2022-10-15T15:31:45.471Z"
   },
   {
    "duration": 46,
    "start_time": "2022-10-15T15:31:48.749Z"
   },
   {
    "duration": 333,
    "start_time": "2022-10-15T15:33:06.709Z"
   },
   {
    "duration": 7,
    "start_time": "2022-10-15T15:34:26.048Z"
   },
   {
    "duration": 886,
    "start_time": "2022-10-15T15:34:26.058Z"
   },
   {
    "duration": 22,
    "start_time": "2022-10-15T15:34:26.946Z"
   },
   {
    "duration": 94,
    "start_time": "2022-10-15T15:34:26.970Z"
   },
   {
    "duration": 15,
    "start_time": "2022-10-15T15:34:27.066Z"
   },
   {
    "duration": 74,
    "start_time": "2022-10-15T15:34:27.083Z"
   },
   {
    "duration": 26,
    "start_time": "2022-10-15T15:34:27.160Z"
   },
   {
    "duration": 96,
    "start_time": "2022-10-15T15:34:27.188Z"
   },
   {
    "duration": 8,
    "start_time": "2022-10-15T15:34:27.287Z"
   },
   {
    "duration": 30,
    "start_time": "2022-10-15T15:34:27.297Z"
   },
   {
    "duration": 124,
    "start_time": "2022-10-15T15:34:27.329Z"
   },
   {
    "duration": 21,
    "start_time": "2022-10-15T15:34:27.455Z"
   },
   {
    "duration": 1998,
    "start_time": "2022-10-15T15:34:27.478Z"
   },
   {
    "duration": 241,
    "start_time": "2022-10-15T15:34:29.478Z"
   },
   {
    "duration": 407,
    "start_time": "2022-10-15T15:34:32.418Z"
   },
   {
    "duration": 426,
    "start_time": "2022-10-15T15:34:39.549Z"
   },
   {
    "duration": 9,
    "start_time": "2022-10-15T15:36:32.634Z"
   },
   {
    "duration": 753,
    "start_time": "2022-10-15T15:36:32.646Z"
   },
   {
    "duration": 21,
    "start_time": "2022-10-15T15:36:33.401Z"
   },
   {
    "duration": 78,
    "start_time": "2022-10-15T15:36:33.425Z"
   },
   {
    "duration": 16,
    "start_time": "2022-10-15T15:36:33.521Z"
   },
   {
    "duration": 44,
    "start_time": "2022-10-15T15:36:33.540Z"
   },
   {
    "duration": 47,
    "start_time": "2022-10-15T15:36:33.586Z"
   },
   {
    "duration": 65,
    "start_time": "2022-10-15T15:36:33.636Z"
   },
   {
    "duration": 11,
    "start_time": "2022-10-15T15:36:33.720Z"
   },
   {
    "duration": 7,
    "start_time": "2022-10-15T15:36:33.735Z"
   },
   {
    "duration": 132,
    "start_time": "2022-10-15T15:36:33.747Z"
   },
   {
    "duration": 22,
    "start_time": "2022-10-15T15:36:33.881Z"
   },
   {
    "duration": 1770,
    "start_time": "2022-10-15T15:36:33.905Z"
   },
   {
    "duration": 181,
    "start_time": "2022-10-15T15:36:35.677Z"
   },
   {
    "duration": 1793,
    "start_time": "2022-10-16T07:56:41.080Z"
   },
   {
    "duration": 3776,
    "start_time": "2022-10-16T07:56:42.875Z"
   },
   {
    "duration": 19,
    "start_time": "2022-10-16T07:56:46.653Z"
   },
   {
    "duration": 72,
    "start_time": "2022-10-16T07:56:46.674Z"
   },
   {
    "duration": 81,
    "start_time": "2022-10-16T07:56:46.748Z"
   },
   {
    "duration": 52,
    "start_time": "2022-10-16T07:56:46.830Z"
   },
   {
    "duration": 39,
    "start_time": "2022-10-16T07:56:46.884Z"
   },
   {
    "duration": 65,
    "start_time": "2022-10-16T07:56:46.925Z"
   },
   {
    "duration": 9,
    "start_time": "2022-10-16T07:56:46.992Z"
   },
   {
    "duration": 17,
    "start_time": "2022-10-16T07:56:47.003Z"
   },
   {
    "duration": 119,
    "start_time": "2022-10-16T07:56:47.022Z"
   },
   {
    "duration": 25,
    "start_time": "2022-10-16T07:56:47.142Z"
   },
   {
    "duration": 1972,
    "start_time": "2022-10-16T07:56:47.169Z"
   },
   {
    "duration": 169,
    "start_time": "2022-10-16T07:56:49.143Z"
   },
   {
    "duration": 346,
    "start_time": "2022-10-16T07:56:49.313Z"
   },
   {
    "duration": 72,
    "start_time": "2022-10-16T07:56:49.661Z"
   },
   {
    "duration": 331,
    "start_time": "2022-10-16T07:56:49.735Z"
   },
   {
    "duration": 26,
    "start_time": "2022-10-16T07:56:50.068Z"
   },
   {
    "duration": 5,
    "start_time": "2022-10-16T07:58:35.403Z"
   },
   {
    "duration": 92,
    "start_time": "2022-10-16T07:58:37.719Z"
   },
   {
    "duration": 8,
    "start_time": "2022-10-16T07:58:40.567Z"
   },
   {
    "duration": 78,
    "start_time": "2022-10-16T07:58:42.018Z"
   },
   {
    "duration": 4,
    "start_time": "2022-10-16T07:58:59.452Z"
   },
   {
    "duration": 29,
    "start_time": "2022-10-16T07:59:28.989Z"
   },
   {
    "duration": 7,
    "start_time": "2022-10-16T07:59:30.257Z"
   },
   {
    "duration": 63,
    "start_time": "2022-10-16T07:59:32.875Z"
   },
   {
    "duration": 7,
    "start_time": "2022-10-16T07:59:57.145Z"
   },
   {
    "duration": 13,
    "start_time": "2022-10-16T08:00:01.995Z"
   },
   {
    "duration": 1153,
    "start_time": "2022-10-16T08:25:23.309Z"
   },
   {
    "duration": 1428,
    "start_time": "2022-10-16T08:25:24.464Z"
   },
   {
    "duration": 17,
    "start_time": "2022-10-16T08:25:25.893Z"
   },
   {
    "duration": 55,
    "start_time": "2022-10-16T08:25:25.912Z"
   },
   {
    "duration": 75,
    "start_time": "2022-10-16T08:25:25.968Z"
   },
   {
    "duration": 35,
    "start_time": "2022-10-16T08:25:26.045Z"
   },
   {
    "duration": 32,
    "start_time": "2022-10-16T08:25:26.081Z"
   },
   {
    "duration": 53,
    "start_time": "2022-10-16T08:25:26.115Z"
   },
   {
    "duration": 9,
    "start_time": "2022-10-16T08:25:26.169Z"
   },
   {
    "duration": 23,
    "start_time": "2022-10-16T08:25:26.180Z"
   },
   {
    "duration": 91,
    "start_time": "2022-10-16T08:25:26.204Z"
   },
   {
    "duration": 22,
    "start_time": "2022-10-16T08:25:26.301Z"
   },
   {
    "duration": 1443,
    "start_time": "2022-10-16T08:25:26.325Z"
   },
   {
    "duration": 130,
    "start_time": "2022-10-16T08:25:27.770Z"
   },
   {
    "duration": 300,
    "start_time": "2022-10-16T08:25:27.902Z"
   },
   {
    "duration": 98,
    "start_time": "2022-10-16T08:25:28.205Z"
   },
   {
    "duration": 228,
    "start_time": "2022-10-16T08:25:28.305Z"
   },
   {
    "duration": 4,
    "start_time": "2022-10-16T08:25:28.534Z"
   },
   {
    "duration": 100,
    "start_time": "2022-10-16T08:25:28.539Z"
   },
   {
    "duration": 6,
    "start_time": "2022-10-16T08:25:28.640Z"
   },
   {
    "duration": 105,
    "start_time": "2022-10-16T08:25:28.647Z"
   },
   {
    "duration": 3,
    "start_time": "2022-10-16T08:25:28.754Z"
   },
   {
    "duration": 54,
    "start_time": "2022-10-16T08:25:28.758Z"
   },
   {
    "duration": 3,
    "start_time": "2022-10-16T08:25:28.814Z"
   },
   {
    "duration": 38,
    "start_time": "2022-10-16T08:25:28.819Z"
   },
   {
    "duration": 4,
    "start_time": "2022-10-16T08:25:28.858Z"
   },
   {
    "duration": 9,
    "start_time": "2022-10-16T08:25:28.863Z"
   },
   {
    "duration": 2027,
    "start_time": "2022-10-16T08:25:28.874Z"
   },
   {
    "duration": 39198,
    "start_time": "2022-10-16T08:25:30.903Z"
   },
   {
    "duration": 1710262,
    "start_time": "2022-10-16T08:26:16.687Z"
   },
   {
    "duration": 75,
    "start_time": "2022-10-16T08:57:25.293Z"
   }
  ],
  "kernelspec": {
   "display_name": "Python 3 (ipykernel)",
   "language": "python",
   "name": "python3"
  },
  "language_info": {
   "codemirror_mode": {
    "name": "ipython",
    "version": 3
   },
   "file_extension": ".py",
   "mimetype": "text/x-python",
   "name": "python",
   "nbconvert_exporter": "python",
   "pygments_lexer": "ipython3",
   "version": "3.10.1"
  },
  "toc": {
   "base_numbering": 1,
   "nav_menu": {},
   "number_sections": true,
   "sideBar": true,
   "skip_h1_title": true,
   "title_cell": "Содержание",
   "title_sidebar": "Contents",
   "toc_cell": true,
   "toc_position": {
    "height": "calc(100% - 180px)",
    "left": "10px",
    "top": "150px",
    "width": "222px"
   },
   "toc_section_display": true,
   "toc_window_display": true
  }
 },
 "nbformat": 4,
 "nbformat_minor": 2
}
